{
 "cells": [
  {
   "cell_type": "code",
   "execution_count": 2,
   "metadata": {},
   "outputs": [],
   "source": [
    "import numpy as np\n",
    "import pandas as pd\n",
    "import scipy as sl\n",
    "import matplotlib.pyplot as mat"
   ]
  },
  {
   "cell_type": "markdown",
   "metadata": {},
   "source": [
    "Loading The Dataset "
   ]
  },
  {
   "cell_type": "code",
   "execution_count": 3,
   "metadata": {},
   "outputs": [],
   "source": [
    "df = pd.read_csv(\"/home/mllab1/Desktop/ML Lab/A1/diabetes_dataset.csv\")"
   ]
  },
  {
   "cell_type": "code",
   "execution_count": 4,
   "metadata": {},
   "outputs": [
    {
     "name": "stdout",
     "output_type": "stream",
     "text": [
      "The Shape of the Data Frame (rows , columns)  :   (100000, 9)\n",
      "\n",
      "\n",
      "The DataType for Each Attributes in Data Frame\n",
      " gender                  object\n",
      "age                    float64\n",
      "hypertension           float64\n",
      "heart_disease          float64\n",
      "smoking_history         object\n",
      "bmi                    float64\n",
      "HbA1c_level            float64\n",
      "blood_glucose_level    float64\n",
      "diabetes               float64\n",
      "dtype: object\n"
     ]
    }
   ],
   "source": [
    "print(\"The Shape of the Data Frame (rows , columns)  :  \",df.shape)\n",
    "print()\n",
    "print()\n",
    "print(\"The DataType for Each Attributes in Data Frame\\n\",df.dtypes)"
   ]
  },
  {
   "cell_type": "code",
   "execution_count": 5,
   "metadata": {},
   "outputs": [
    {
     "name": "stdout",
     "output_type": "stream",
     "text": [
      "<bound method NDFrame.head of        gender   age  hypertension  heart_disease smoking_history    bmi  \\\n",
      "0      Female  80.0           0.0            1.0           never  25.19   \n",
      "1      Female  54.0           0.0            0.0         No Info  27.32   \n",
      "2        Male  28.0           0.0            0.0           never  27.32   \n",
      "3      Female  36.0           0.0            0.0         current  23.45   \n",
      "4        Male  76.0           1.0            1.0         current  20.14   \n",
      "...       ...   ...           ...            ...             ...    ...   \n",
      "99995  Female  80.0           0.0            0.0         No Info  27.32   \n",
      "99996  Female   2.0           0.0            0.0         No Info  17.37   \n",
      "99997    Male  66.0           0.0            0.0          former  27.83   \n",
      "99998  Female  24.0           0.0            0.0           never  35.42   \n",
      "99999  Female  57.0           0.0            0.0         current  22.43   \n",
      "\n",
      "       HbA1c_level  blood_glucose_level  diabetes  \n",
      "0              6.6                140.0       0.0  \n",
      "1              6.6                 80.0       0.0  \n",
      "2              5.7                158.0       0.0  \n",
      "3              5.0                155.0       0.0  \n",
      "4              4.8                155.0       0.0  \n",
      "...            ...                  ...       ...  \n",
      "99995          6.2                 90.0       0.0  \n",
      "99996          6.5                100.0       0.0  \n",
      "99997          5.7                155.0       0.0  \n",
      "99998          4.0                100.0       0.0  \n",
      "99999          6.6                 90.0       0.0  \n",
      "\n",
      "[100000 rows x 9 columns]>\n"
     ]
    }
   ],
   "source": [
    "print(df.head)"
   ]
  },
  {
   "cell_type": "markdown",
   "metadata": {},
   "source": [
    "Finding The Missing Values in the Dataframe"
   ]
  },
  {
   "cell_type": "code",
   "execution_count": 6,
   "metadata": {},
   "outputs": [
    {
     "name": "stdout",
     "output_type": "stream",
     "text": [
      "The Number of Missing Values in Each Columns\n",
      " gender                  1\n",
      "age                     2\n",
      "hypertension            2\n",
      "heart_disease           1\n",
      "smoking_history        16\n",
      "bmi                    14\n",
      "HbA1c_level             7\n",
      "blood_glucose_level    16\n",
      "diabetes                4\n",
      "dtype: int64\n"
     ]
    }
   ],
   "source": [
    "print(\"The Number of Missing Values in Each Columns\\n\",df.isnull().sum())"
   ]
  },
  {
   "cell_type": "markdown",
   "metadata": {},
   "source": [
    "Handling The Missing Values for The Attributes as follow\n",
    "Gender              Fill as Unknown\n",
    "Age                 Fill a Median Value\n",
    "Hypertension        Fill a Null Value 0\n",
    "Heart_diease        Fill a Null value 0\n",
    "Smoking History     Fill a No Info\n",
    "BMI                 Fill a Median Value\n",
    "HbA1c_level         Fill a Median Value\n",
    "blood_glucose_level Fill a Median Value\n",
    "diabetes            Remopve the Row"
   ]
  },
  {
   "cell_type": "code",
   "execution_count": 7,
   "metadata": {},
   "outputs": [
    {
     "name": "stdout",
     "output_type": "stream",
     "text": [
      "Missing values handling for 'gender'\n"
     ]
    }
   ],
   "source": [
    "print(\"Missing values handling for 'gender'\")\n",
    "df['gender']=df['gender'].fillna('Unknown')"
   ]
  },
  {
   "cell_type": "code",
   "execution_count": 8,
   "metadata": {},
   "outputs": [
    {
     "name": "stdout",
     "output_type": "stream",
     "text": [
      "Missing values handling for Age\n"
     ]
    }
   ],
   "source": [
    "print(\"Missing values handling for Age\")\n",
    "age_median = df['age'].median()\n",
    "df['age']=df['age'].fillna(age_median)"
   ]
  },
  {
   "cell_type": "code",
   "execution_count": 9,
   "metadata": {},
   "outputs": [
    {
     "name": "stdout",
     "output_type": "stream",
     "text": [
      "Missing values handling for Hyper Tension and Heart Disease\n"
     ]
    }
   ],
   "source": [
    "print(\"Missing values handling for Hyper Tension and Heart Disease\")\n",
    "df['hypertension']=df['hypertension'].fillna(0)\n",
    "df['heart_disease']=df['heart_disease'].fillna(0)\n"
   ]
  },
  {
   "cell_type": "code",
   "execution_count": 10,
   "metadata": {},
   "outputs": [
    {
     "name": "stdout",
     "output_type": "stream",
     "text": [
      "Missing values handling for Smoking history\n"
     ]
    }
   ],
   "source": [
    "print(\"Missing values handling for Smoking history\")\n",
    "df['smoking_history']=df['smoking_history'].fillna('No Info')"
   ]
  },
  {
   "cell_type": "code",
   "execution_count": 11,
   "metadata": {},
   "outputs": [
    {
     "name": "stdout",
     "output_type": "stream",
     "text": [
      "Missing values handling for bmi\n"
     ]
    }
   ],
   "source": [
    "print(\"Missing values handling for bmi\")\n",
    "bmi_median = df['bmi'].median()\n",
    "df['bmi']=df['bmi'].fillna(bmi_median)"
   ]
  },
  {
   "cell_type": "code",
   "execution_count": 12,
   "metadata": {},
   "outputs": [
    {
     "name": "stdout",
     "output_type": "stream",
     "text": [
      "Missing values handling for HbA1c_level\n"
     ]
    }
   ],
   "source": [
    "print(\"Missing values handling for HbA1c_level\")\n",
    "hba1c_median = df['HbA1c_level'].median()\n",
    "df['HbA1c_level']=df['HbA1c_level'].fillna(hba1c_median)"
   ]
  },
  {
   "cell_type": "code",
   "execution_count": 13,
   "metadata": {},
   "outputs": [
    {
     "name": "stdout",
     "output_type": "stream",
     "text": [
      "Missing values handling for HbA1c_level\n"
     ]
    }
   ],
   "source": [
    "print(\"Missing values handling for HbA1c_level\")\n",
    "blood_glucose_median = df['blood_glucose_level'].median()\n",
    "df['blood_glucose_level'] = df['blood_glucose_level'].fillna(blood_glucose_median)"
   ]
  },
  {
   "cell_type": "code",
   "execution_count": 14,
   "metadata": {},
   "outputs": [
    {
     "name": "stdout",
     "output_type": "stream",
     "text": [
      "Missing values handling for diabetes_status\n"
     ]
    }
   ],
   "source": [
    "print(\"Missing values handling for diabetes_status\")\n",
    "df.dropna(subset=['diabetes'], inplace=True)"
   ]
  },
  {
   "cell_type": "code",
   "execution_count": 15,
   "metadata": {},
   "outputs": [
    {
     "name": "stdout",
     "output_type": "stream",
     "text": [
      "The Number of Missing Values in Each Columns\n",
      " gender                 0\n",
      "age                    0\n",
      "hypertension           0\n",
      "heart_disease          0\n",
      "smoking_history        0\n",
      "bmi                    0\n",
      "HbA1c_level            0\n",
      "blood_glucose_level    0\n",
      "diabetes               0\n",
      "dtype: int64\n"
     ]
    }
   ],
   "source": [
    "print(\"The Number of Missing Values in Each Columns\\n\",df.isnull().sum())\n"
   ]
  },
  {
   "cell_type": "markdown",
   "metadata": {},
   "source": [
    "Normalization The attributes Age and BMI"
   ]
  },
  {
   "cell_type": "code",
   "execution_count": 16,
   "metadata": {},
   "outputs": [],
   "source": [
    "from sklearn.preprocessing import MinMaxScaler, StandardScaler\n",
    "\n",
    "# List of attributes to be normalized\n",
    "attributes_to_normalize = ['age', 'bmi']\n",
    "\n",
    "min_max_scaler = MinMaxScaler()\n",
    "\n",
    "df[attributes_to_normalize] = min_max_scaler.fit_transform(df[attributes_to_normalize])"
   ]
  },
  {
   "cell_type": "code",
   "execution_count": 17,
   "metadata": {},
   "outputs": [
    {
     "name": "stdout",
     "output_type": "stream",
     "text": [
      "       gender       age  hypertension  heart_disease smoking_history  \\\n",
      "0      Female  1.000000           0.0            1.0           never   \n",
      "1      Female  0.674675           0.0            0.0         No Info   \n",
      "2        Male  0.349349           0.0            0.0           never   \n",
      "3      Female  0.449449           0.0            0.0         current   \n",
      "4        Male  0.949950           1.0            1.0         current   \n",
      "...       ...       ...           ...            ...             ...   \n",
      "99995  Female  1.000000           0.0            0.0         No Info   \n",
      "99996  Female  0.024024           0.0            0.0         No Info   \n",
      "99997    Male  0.824825           0.0            0.0          former   \n",
      "99998  Female  0.299299           0.0            0.0           never   \n",
      "99999  Female  0.712212           0.0            0.0         current   \n",
      "\n",
      "            bmi  HbA1c_level  blood_glucose_level  diabetes  \n",
      "0      0.263246          6.6                140.0       0.0  \n",
      "1      0.285505          6.6                 80.0       0.0  \n",
      "2      0.285505          5.7                158.0       0.0  \n",
      "3      0.245062          5.0                155.0       0.0  \n",
      "4      0.210471          4.8                155.0       0.0  \n",
      "...         ...          ...                  ...       ...  \n",
      "99995  0.285505          6.2                 90.0       0.0  \n",
      "99996  0.181524          6.5                100.0       0.0  \n",
      "99997  0.290835          5.7                155.0       0.0  \n",
      "99998  0.370154          4.0                100.0       0.0  \n",
      "99999  0.234403          6.6                 90.0       0.0  \n",
      "\n",
      "[99996 rows x 9 columns]\n"
     ]
    }
   ],
   "source": [
    "print(df)"
   ]
  },
  {
   "cell_type": "markdown",
   "metadata": {},
   "source": [
    "Standardization the Attributes HbA1c Level and Blod Glucose Level"
   ]
  },
  {
   "cell_type": "code",
   "execution_count": 18,
   "metadata": {},
   "outputs": [],
   "source": [
    "# List of attributes to be standardized\n",
    "attributes_to_standardize = ['HbA1c_level', 'blood_glucose_level']\n",
    "\n",
    "standard_scaler = StandardScaler()\n",
    "\n",
    "df[attributes_to_standardize] = standard_scaler.fit_transform(df[attributes_to_standardize])"
   ]
  },
  {
   "cell_type": "code",
   "execution_count": 19,
   "metadata": {},
   "outputs": [
    {
     "name": "stdout",
     "output_type": "stream",
     "text": [
      "       gender       age  hypertension  heart_disease smoking_history  \\\n",
      "0      Female  1.000000           0.0            1.0           never   \n",
      "1      Female  0.674675           0.0            0.0         No Info   \n",
      "2        Male  0.349349           0.0            0.0           never   \n",
      "3      Female  0.449449           0.0            0.0         current   \n",
      "4        Male  0.949950           1.0            1.0         current   \n",
      "...       ...       ...           ...            ...             ...   \n",
      "99995  Female  1.000000           0.0            0.0         No Info   \n",
      "99996  Female  0.024024           0.0            0.0         No Info   \n",
      "99997    Male  0.824825           0.0            0.0          former   \n",
      "99998  Female  0.299299           0.0            0.0           never   \n",
      "99999  Female  0.712212           0.0            0.0         current   \n",
      "\n",
      "            bmi  HbA1c_level  blood_glucose_level  diabetes  \n",
      "0      0.263246     1.001694             0.047797       0.0  \n",
      "1      0.285505     1.001694            -1.426171       0.0  \n",
      "2      0.285505     0.161103             0.489988       0.0  \n",
      "3      0.245062    -0.492690             0.416289       0.0  \n",
      "4      0.210471    -0.679488             0.416289       0.0  \n",
      "...         ...          ...                  ...       ...  \n",
      "99995  0.285505     0.628098            -1.180510       0.0  \n",
      "99996  0.181524     0.908295            -0.934848       0.0  \n",
      "99997  0.290835     0.161103             0.416289       0.0  \n",
      "99998  0.370154    -1.426680            -0.934848       0.0  \n",
      "99999  0.234403     1.001694            -1.180510       0.0  \n",
      "\n",
      "[99996 rows x 9 columns]\n"
     ]
    }
   ],
   "source": [
    "print(df)"
   ]
  },
  {
   "cell_type": "markdown",
   "metadata": {},
   "source": [
    "Extract The Features Using SelectFromModel imported from sklearn package"
   ]
  },
  {
   "cell_type": "code",
   "execution_count": 23,
   "metadata": {},
   "outputs": [
    {
     "name": "stdout",
     "output_type": "stream",
     "text": [
      "The Selected Featurs are :  Index(['gender', 'hypertension', 'heart_disease', 'smoking_history'], dtype='object')\n"
     ]
    }
   ],
   "source": [
    "import pandas as pd\n",
    "from sklearn.pipeline import Pipeline\n",
    "from sklearn.compose import ColumnTransformer\n",
    "from sklearn.impute import SimpleImputer\n",
    "from sklearn.preprocessing import OneHotEncoder\n",
    "from sklearn.ensemble import RandomForestClassifier\n",
    "from sklearn.feature_selection import SelectFromModel\n",
    "\n",
    "X = df.drop(columns=['diabetes'])\n",
    "y = df['diabetes']\n",
    "\n",
    "categorical_features = ['gender', 'smoking_history']\n",
    "\n",
    "numerical_features = ['age', 'hypertension', 'bmi', 'HbA1c_level', 'blood_glucose_level', 'heart_disease']\n",
    "\n",
    "categorical_preprocessor = OneHotEncoder(handle_unknown='ignore')\n",
    "\n",
    "numerical_preprocessor = SimpleImputer(strategy='median')\n",
    "\n",
    "preprocessor = ColumnTransformer(\n",
    "    transformers=[\n",
    "        ('num', numerical_preprocessor, numerical_features),\n",
    "        ('cat', categorical_preprocessor, categorical_features)\n",
    "    ])\n",
    "\n",
    "rf_clf = RandomForestClassifier()\n",
    "selector = SelectFromModel(estimator=rf_clf)\n",
    "\n",
    "pipeline = Pipeline([\n",
    "    ('preprocessor', preprocessor),\n",
    "    ('selector', selector)\n",
    "])\n",
    "\n",
    "pipeline.fit(X, y)\n",
    "selected_features_indices = pipeline.named_steps['selector'].get_support(indices=True)\n",
    "\n",
    "selected_features = df.columns[selected_features_indices]\n",
    "\n",
    "print(\"The Selected Featurs are : \",selected_features)\n"
   ]
  },
  {
   "cell_type": "markdown",
   "metadata": {},
   "source": [
    "Divide the Train and Test data using the train_test_split method imported from sklearn"
   ]
  },
  {
   "cell_type": "code",
   "execution_count": 24,
   "metadata": {},
   "outputs": [
    {
     "name": "stdout",
     "output_type": "stream",
     "text": [
      "Shape of X_train: (79996, 4)\n",
      "Shape of X_test: (20000, 4)\n",
      "Shape of y_train: (79996,)\n",
      "Shape of y_test: (20000,)\n"
     ]
    }
   ],
   "source": [
    "from sklearn.model_selection import train_test_split\n",
    "\n",
    "X_selected = df[selected_features]\n",
    "y = df['diabetes']\n",
    "\n",
    "X_train, X_test, y_train, y_test = train_test_split(X_selected, y, test_size=0.2, random_state=42)\n",
    "\n",
    "print(\"Shape of X_train:\", X_train.shape)\n",
    "print(\"Shape of X_test:\", X_test.shape)\n",
    "print(\"Shape of y_train:\", y_train.shape)\n",
    "print(\"Shape of y_test:\", y_test.shape)\n"
   ]
  }
 ],
 "metadata": {
  "kernelspec": {
   "display_name": "Python 3",
   "language": "python",
   "name": "python3"
  },
  "language_info": {
   "codemirror_mode": {
    "name": "ipython",
    "version": 3
   },
   "file_extension": ".py",
   "mimetype": "text/x-python",
   "name": "python",
   "nbconvert_exporter": "python",
   "pygments_lexer": "ipython3",
   "version": "3.8.10"
  }
 },
 "nbformat": 4,
 "nbformat_minor": 2
}
