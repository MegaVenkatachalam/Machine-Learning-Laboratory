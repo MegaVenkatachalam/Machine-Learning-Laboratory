{
 "cells": [
  {
   "cell_type": "markdown",
   "metadata": {},
   "source": [
    "Importing The necessery Libraries"
   ]
  },
  {
   "cell_type": "code",
   "execution_count": 1,
   "metadata": {},
   "outputs": [
    {
     "name": "stderr",
     "output_type": "stream",
     "text": [
      "C:\\Users\\SSN\\AppData\\Local\\Temp\\ipykernel_19192\\4018103340.py:1: DeprecationWarning: \n",
      "Pyarrow will become a required dependency of pandas in the next major release of pandas (pandas 3.0),\n",
      "(to allow more performant data types, such as the Arrow string type, and better interoperability with other libraries)\n",
      "but was not found to be installed on your system.\n",
      "If this would cause problems for you,\n",
      "please provide us feedback at https://github.com/pandas-dev/pandas/issues/54466\n",
      "        \n",
      "  import pandas as pd\n"
     ]
    }
   ],
   "source": [
    "import pandas as pd\n",
    "import numpy as np\n",
    "from sklearn.model_selection import train_test_split\n",
    "import matplotlib.pyplot as plt"
   ]
  },
  {
   "cell_type": "markdown",
   "metadata": {},
   "source": [
    "reading The Dataset"
   ]
  },
  {
   "cell_type": "code",
   "execution_count": 2,
   "metadata": {},
   "outputs": [
    {
     "name": "stdout",
     "output_type": "stream",
     "text": [
      "The Shape OF the Dataset :  (30000, 24)\n"
     ]
    }
   ],
   "source": [
    "df=pd.read_csv(\"train.csv\")\n",
    "print(\"The Shape OF the Dataset : \",df.shape)"
   ]
  },
  {
   "cell_type": "code",
   "execution_count": 3,
   "metadata": {},
   "outputs": [
    {
     "data": {
      "text/html": [
       "<div>\n",
       "<style scoped>\n",
       "    .dataframe tbody tr th:only-of-type {\n",
       "        vertical-align: middle;\n",
       "    }\n",
       "\n",
       "    .dataframe tbody tr th {\n",
       "        vertical-align: top;\n",
       "    }\n",
       "\n",
       "    .dataframe thead th {\n",
       "        text-align: right;\n",
       "    }\n",
       "</style>\n",
       "<table border=\"1\" class=\"dataframe\">\n",
       "  <thead>\n",
       "    <tr style=\"text-align: right;\">\n",
       "      <th></th>\n",
       "      <th>Customer ID</th>\n",
       "      <th>Name</th>\n",
       "      <th>Gender</th>\n",
       "      <th>Age</th>\n",
       "      <th>Income (USD)</th>\n",
       "      <th>Income Stability</th>\n",
       "      <th>Profession</th>\n",
       "      <th>Type of Employment</th>\n",
       "      <th>Location</th>\n",
       "      <th>Loan Amount Request (USD)</th>\n",
       "      <th>...</th>\n",
       "      <th>Credit Score</th>\n",
       "      <th>No. of Defaults</th>\n",
       "      <th>Has Active Credit Card</th>\n",
       "      <th>Property ID</th>\n",
       "      <th>Property Age</th>\n",
       "      <th>Property Type</th>\n",
       "      <th>Property Location</th>\n",
       "      <th>Co-Applicant</th>\n",
       "      <th>Property Price</th>\n",
       "      <th>Loan Sanction Amount (USD)</th>\n",
       "    </tr>\n",
       "  </thead>\n",
       "  <tbody>\n",
       "    <tr>\n",
       "      <th>0</th>\n",
       "      <td>C-36995</td>\n",
       "      <td>Frederica Shealy</td>\n",
       "      <td>F</td>\n",
       "      <td>56</td>\n",
       "      <td>1933.05</td>\n",
       "      <td>Low</td>\n",
       "      <td>Working</td>\n",
       "      <td>Sales staff</td>\n",
       "      <td>Semi-Urban</td>\n",
       "      <td>72809.58</td>\n",
       "      <td>...</td>\n",
       "      <td>809.44</td>\n",
       "      <td>0</td>\n",
       "      <td>NaN</td>\n",
       "      <td>746</td>\n",
       "      <td>1933.05</td>\n",
       "      <td>4</td>\n",
       "      <td>Rural</td>\n",
       "      <td>1</td>\n",
       "      <td>119933.46</td>\n",
       "      <td>54607.18</td>\n",
       "    </tr>\n",
       "    <tr>\n",
       "      <th>1</th>\n",
       "      <td>C-33999</td>\n",
       "      <td>America Calderone</td>\n",
       "      <td>M</td>\n",
       "      <td>32</td>\n",
       "      <td>4952.91</td>\n",
       "      <td>Low</td>\n",
       "      <td>Working</td>\n",
       "      <td>NaN</td>\n",
       "      <td>Semi-Urban</td>\n",
       "      <td>46837.47</td>\n",
       "      <td>...</td>\n",
       "      <td>780.40</td>\n",
       "      <td>0</td>\n",
       "      <td>Unpossessed</td>\n",
       "      <td>608</td>\n",
       "      <td>4952.91</td>\n",
       "      <td>2</td>\n",
       "      <td>Rural</td>\n",
       "      <td>1</td>\n",
       "      <td>54791.00</td>\n",
       "      <td>37469.98</td>\n",
       "    </tr>\n",
       "    <tr>\n",
       "      <th>2</th>\n",
       "      <td>C-3770</td>\n",
       "      <td>Rosetta Verne</td>\n",
       "      <td>F</td>\n",
       "      <td>65</td>\n",
       "      <td>988.19</td>\n",
       "      <td>High</td>\n",
       "      <td>Pensioner</td>\n",
       "      <td>NaN</td>\n",
       "      <td>Semi-Urban</td>\n",
       "      <td>45593.04</td>\n",
       "      <td>...</td>\n",
       "      <td>833.15</td>\n",
       "      <td>0</td>\n",
       "      <td>Unpossessed</td>\n",
       "      <td>546</td>\n",
       "      <td>988.19</td>\n",
       "      <td>2</td>\n",
       "      <td>Urban</td>\n",
       "      <td>0</td>\n",
       "      <td>72440.58</td>\n",
       "      <td>36474.43</td>\n",
       "    </tr>\n",
       "    <tr>\n",
       "      <th>3</th>\n",
       "      <td>C-26480</td>\n",
       "      <td>Zoe Chitty</td>\n",
       "      <td>F</td>\n",
       "      <td>65</td>\n",
       "      <td>NaN</td>\n",
       "      <td>High</td>\n",
       "      <td>Pensioner</td>\n",
       "      <td>NaN</td>\n",
       "      <td>Rural</td>\n",
       "      <td>80057.92</td>\n",
       "      <td>...</td>\n",
       "      <td>832.70</td>\n",
       "      <td>1</td>\n",
       "      <td>Unpossessed</td>\n",
       "      <td>890</td>\n",
       "      <td>NaN</td>\n",
       "      <td>2</td>\n",
       "      <td>Semi-Urban</td>\n",
       "      <td>1</td>\n",
       "      <td>121441.51</td>\n",
       "      <td>56040.54</td>\n",
       "    </tr>\n",
       "    <tr>\n",
       "      <th>4</th>\n",
       "      <td>C-23459</td>\n",
       "      <td>Afton Venema</td>\n",
       "      <td>F</td>\n",
       "      <td>31</td>\n",
       "      <td>2614.77</td>\n",
       "      <td>Low</td>\n",
       "      <td>Working</td>\n",
       "      <td>High skill tech staff</td>\n",
       "      <td>Semi-Urban</td>\n",
       "      <td>113858.89</td>\n",
       "      <td>...</td>\n",
       "      <td>745.55</td>\n",
       "      <td>1</td>\n",
       "      <td>Active</td>\n",
       "      <td>715</td>\n",
       "      <td>2614.77</td>\n",
       "      <td>4</td>\n",
       "      <td>Semi-Urban</td>\n",
       "      <td>1</td>\n",
       "      <td>208567.91</td>\n",
       "      <td>74008.28</td>\n",
       "    </tr>\n",
       "    <tr>\n",
       "      <th>...</th>\n",
       "      <td>...</td>\n",
       "      <td>...</td>\n",
       "      <td>...</td>\n",
       "      <td>...</td>\n",
       "      <td>...</td>\n",
       "      <td>...</td>\n",
       "      <td>...</td>\n",
       "      <td>...</td>\n",
       "      <td>...</td>\n",
       "      <td>...</td>\n",
       "      <td>...</td>\n",
       "      <td>...</td>\n",
       "      <td>...</td>\n",
       "      <td>...</td>\n",
       "      <td>...</td>\n",
       "      <td>...</td>\n",
       "      <td>...</td>\n",
       "      <td>...</td>\n",
       "      <td>...</td>\n",
       "      <td>...</td>\n",
       "      <td>...</td>\n",
       "    </tr>\n",
       "    <tr>\n",
       "      <th>29995</th>\n",
       "      <td>C-43723</td>\n",
       "      <td>Angelyn Clevenger</td>\n",
       "      <td>M</td>\n",
       "      <td>38</td>\n",
       "      <td>4969.41</td>\n",
       "      <td>Low</td>\n",
       "      <td>Commercial associate</td>\n",
       "      <td>Managers</td>\n",
       "      <td>Urban</td>\n",
       "      <td>76657.90</td>\n",
       "      <td>...</td>\n",
       "      <td>869.61</td>\n",
       "      <td>0</td>\n",
       "      <td>Unpossessed</td>\n",
       "      <td>566</td>\n",
       "      <td>4969.41</td>\n",
       "      <td>4</td>\n",
       "      <td>Urban</td>\n",
       "      <td>1</td>\n",
       "      <td>111096.56</td>\n",
       "      <td>68992.11</td>\n",
       "    </tr>\n",
       "    <tr>\n",
       "      <th>29996</th>\n",
       "      <td>C-32511</td>\n",
       "      <td>Silas Slaugh</td>\n",
       "      <td>M</td>\n",
       "      <td>20</td>\n",
       "      <td>1606.88</td>\n",
       "      <td>Low</td>\n",
       "      <td>Working</td>\n",
       "      <td>Laborers</td>\n",
       "      <td>Semi-Urban</td>\n",
       "      <td>66595.14</td>\n",
       "      <td>...</td>\n",
       "      <td>729.41</td>\n",
       "      <td>0</td>\n",
       "      <td>Inactive</td>\n",
       "      <td>175</td>\n",
       "      <td>1606.88</td>\n",
       "      <td>3</td>\n",
       "      <td>Urban</td>\n",
       "      <td>1</td>\n",
       "      <td>73453.94</td>\n",
       "      <td>46616.60</td>\n",
       "    </tr>\n",
       "    <tr>\n",
       "      <th>29997</th>\n",
       "      <td>C-5192</td>\n",
       "      <td>Carmelo Lone</td>\n",
       "      <td>F</td>\n",
       "      <td>49</td>\n",
       "      <td>NaN</td>\n",
       "      <td>Low</td>\n",
       "      <td>Working</td>\n",
       "      <td>Sales staff</td>\n",
       "      <td>Urban</td>\n",
       "      <td>81410.08</td>\n",
       "      <td>...</td>\n",
       "      <td>NaN</td>\n",
       "      <td>0</td>\n",
       "      <td>Active</td>\n",
       "      <td>959</td>\n",
       "      <td>NaN</td>\n",
       "      <td>1</td>\n",
       "      <td>Rural</td>\n",
       "      <td>1</td>\n",
       "      <td>102108.02</td>\n",
       "      <td>61057.56</td>\n",
       "    </tr>\n",
       "    <tr>\n",
       "      <th>29998</th>\n",
       "      <td>C-12172</td>\n",
       "      <td>Carolann Osby</td>\n",
       "      <td>M</td>\n",
       "      <td>38</td>\n",
       "      <td>2417.71</td>\n",
       "      <td>Low</td>\n",
       "      <td>Working</td>\n",
       "      <td>Security staff</td>\n",
       "      <td>Semi-Urban</td>\n",
       "      <td>142524.10</td>\n",
       "      <td>...</td>\n",
       "      <td>677.27</td>\n",
       "      <td>1</td>\n",
       "      <td>Unpossessed</td>\n",
       "      <td>375</td>\n",
       "      <td>2417.71</td>\n",
       "      <td>4</td>\n",
       "      <td>Urban</td>\n",
       "      <td>1</td>\n",
       "      <td>168194.47</td>\n",
       "      <td>99766.87</td>\n",
       "    </tr>\n",
       "    <tr>\n",
       "      <th>29999</th>\n",
       "      <td>C-33003</td>\n",
       "      <td>Bridget Garibaldi</td>\n",
       "      <td>F</td>\n",
       "      <td>63</td>\n",
       "      <td>3068.24</td>\n",
       "      <td>High</td>\n",
       "      <td>Pensioner</td>\n",
       "      <td>NaN</td>\n",
       "      <td>Rural</td>\n",
       "      <td>156290.54</td>\n",
       "      <td>...</td>\n",
       "      <td>815.44</td>\n",
       "      <td>0</td>\n",
       "      <td>Active</td>\n",
       "      <td>344</td>\n",
       "      <td>3068.24</td>\n",
       "      <td>3</td>\n",
       "      <td>Rural</td>\n",
       "      <td>1</td>\n",
       "      <td>194512.60</td>\n",
       "      <td>117217.90</td>\n",
       "    </tr>\n",
       "  </tbody>\n",
       "</table>\n",
       "<p>30000 rows × 24 columns</p>\n",
       "</div>"
      ],
      "text/plain": [
       "      Customer ID               Name Gender  Age  Income (USD)  \\\n",
       "0         C-36995   Frederica Shealy      F   56       1933.05   \n",
       "1         C-33999  America Calderone      M   32       4952.91   \n",
       "2          C-3770      Rosetta Verne      F   65        988.19   \n",
       "3         C-26480         Zoe Chitty      F   65           NaN   \n",
       "4         C-23459       Afton Venema      F   31       2614.77   \n",
       "...           ...                ...    ...  ...           ...   \n",
       "29995     C-43723  Angelyn Clevenger      M   38       4969.41   \n",
       "29996     C-32511       Silas Slaugh      M   20       1606.88   \n",
       "29997      C-5192       Carmelo Lone      F   49           NaN   \n",
       "29998     C-12172      Carolann Osby      M   38       2417.71   \n",
       "29999     C-33003  Bridget Garibaldi      F   63       3068.24   \n",
       "\n",
       "      Income Stability            Profession     Type of Employment  \\\n",
       "0                  Low               Working            Sales staff   \n",
       "1                  Low               Working                    NaN   \n",
       "2                 High             Pensioner                    NaN   \n",
       "3                 High             Pensioner                    NaN   \n",
       "4                  Low               Working  High skill tech staff   \n",
       "...                ...                   ...                    ...   \n",
       "29995              Low  Commercial associate               Managers   \n",
       "29996              Low               Working               Laborers   \n",
       "29997              Low               Working            Sales staff   \n",
       "29998              Low               Working         Security staff   \n",
       "29999             High             Pensioner                    NaN   \n",
       "\n",
       "         Location  Loan Amount Request (USD)  ...  Credit Score  \\\n",
       "0      Semi-Urban                   72809.58  ...        809.44   \n",
       "1      Semi-Urban                   46837.47  ...        780.40   \n",
       "2      Semi-Urban                   45593.04  ...        833.15   \n",
       "3           Rural                   80057.92  ...        832.70   \n",
       "4      Semi-Urban                  113858.89  ...        745.55   \n",
       "...           ...                        ...  ...           ...   \n",
       "29995       Urban                   76657.90  ...        869.61   \n",
       "29996  Semi-Urban                   66595.14  ...        729.41   \n",
       "29997       Urban                   81410.08  ...           NaN   \n",
       "29998  Semi-Urban                  142524.10  ...        677.27   \n",
       "29999       Rural                  156290.54  ...        815.44   \n",
       "\n",
       "      No. of Defaults Has Active Credit Card  Property ID  Property Age  \\\n",
       "0                   0                    NaN          746       1933.05   \n",
       "1                   0            Unpossessed          608       4952.91   \n",
       "2                   0            Unpossessed          546        988.19   \n",
       "3                   1            Unpossessed          890           NaN   \n",
       "4                   1                 Active          715       2614.77   \n",
       "...               ...                    ...          ...           ...   \n",
       "29995               0            Unpossessed          566       4969.41   \n",
       "29996               0               Inactive          175       1606.88   \n",
       "29997               0                 Active          959           NaN   \n",
       "29998               1            Unpossessed          375       2417.71   \n",
       "29999               0                 Active          344       3068.24   \n",
       "\n",
       "       Property Type Property Location  Co-Applicant  Property Price  \\\n",
       "0                  4             Rural             1       119933.46   \n",
       "1                  2             Rural             1        54791.00   \n",
       "2                  2             Urban             0        72440.58   \n",
       "3                  2        Semi-Urban             1       121441.51   \n",
       "4                  4        Semi-Urban             1       208567.91   \n",
       "...              ...               ...           ...             ...   \n",
       "29995              4             Urban             1       111096.56   \n",
       "29996              3             Urban             1        73453.94   \n",
       "29997              1             Rural             1       102108.02   \n",
       "29998              4             Urban             1       168194.47   \n",
       "29999              3             Rural             1       194512.60   \n",
       "\n",
       "       Loan Sanction Amount (USD)  \n",
       "0                        54607.18  \n",
       "1                        37469.98  \n",
       "2                        36474.43  \n",
       "3                        56040.54  \n",
       "4                        74008.28  \n",
       "...                           ...  \n",
       "29995                    68992.11  \n",
       "29996                    46616.60  \n",
       "29997                    61057.56  \n",
       "29998                    99766.87  \n",
       "29999                   117217.90  \n",
       "\n",
       "[30000 rows x 24 columns]"
      ]
     },
     "execution_count": 3,
     "metadata": {},
     "output_type": "execute_result"
    }
   ],
   "source": [
    "df"
   ]
  },
  {
   "cell_type": "markdown",
   "metadata": {},
   "source": [
    "Data Preprocessing ( Handeling the Missing Values and Remove The Un necessary Attributes ( feature Engineering ))"
   ]
  },
  {
   "cell_type": "code",
   "execution_count": 4,
   "metadata": {},
   "outputs": [
    {
     "data": {
      "text/plain": [
       "Index(['Customer ID', 'Name', 'Gender', 'Age', 'Income (USD)',\n",
       "       'Income Stability', 'Profession', 'Type of Employment', 'Location',\n",
       "       'Loan Amount Request (USD)', 'Current Loan Expenses (USD)',\n",
       "       'Expense Type 1', 'Expense Type 2', 'Dependents', 'Credit Score',\n",
       "       'No. of Defaults', 'Has Active Credit Card', 'Property ID',\n",
       "       'Property Age', 'Property Type', 'Property Location', 'Co-Applicant',\n",
       "       'Property Price', 'Loan Sanction Amount (USD)'],\n",
       "      dtype='object')"
      ]
     },
     "execution_count": 4,
     "metadata": {},
     "output_type": "execute_result"
    }
   ],
   "source": [
    "df.columns"
   ]
  },
  {
   "cell_type": "markdown",
   "metadata": {},
   "source": [
    "Remove the Unnecesary Attributes ( Feature Selection Technique )"
   ]
  },
  {
   "cell_type": "code",
   "execution_count": 5,
   "metadata": {},
   "outputs": [],
   "source": [
    "df = df.drop(columns=['Name', 'Customer ID','Income Stability','Profession','Type of Employment','Location','Expense Type 1','Expense Type 2','Property ID','Property Age','Property Type','Property Location',])"
   ]
  },
  {
   "cell_type": "code",
   "execution_count": 6,
   "metadata": {},
   "outputs": [
    {
     "data": {
      "text/plain": [
       "Index(['Gender', 'Age', 'Income (USD)', 'Loan Amount Request (USD)',\n",
       "       'Current Loan Expenses (USD)', 'Dependents', 'Credit Score',\n",
       "       'No. of Defaults', 'Has Active Credit Card', 'Co-Applicant',\n",
       "       'Property Price', 'Loan Sanction Amount (USD)'],\n",
       "      dtype='object')"
      ]
     },
     "execution_count": 6,
     "metadata": {},
     "output_type": "execute_result"
    }
   ],
   "source": [
    "df.columns"
   ]
  },
  {
   "cell_type": "markdown",
   "metadata": {},
   "source": [
    "Handeling Missing Values"
   ]
  },
  {
   "cell_type": "code",
   "execution_count": 7,
   "metadata": {},
   "outputs": [
    {
     "name": "stdout",
     "output_type": "stream",
     "text": [
      "Gender                           53\n",
      "Age                               0\n",
      "Income (USD)                   4576\n",
      "Loan Amount Request (USD)         0\n",
      "Current Loan Expenses (USD)     172\n",
      "Dependents                     2493\n",
      "Credit Score                   1703\n",
      "No. of Defaults                   0\n",
      "Has Active Credit Card         1566\n",
      "Co-Applicant                      0\n",
      "Property Price                    0\n",
      "Loan Sanction Amount (USD)      340\n",
      "dtype: int64\n"
     ]
    }
   ],
   "source": [
    "print(df.isnull().sum())"
   ]
  },
  {
   "cell_type": "code",
   "execution_count": 8,
   "metadata": {},
   "outputs": [
    {
     "data": {
      "text/plain": [
       "Gender                          object\n",
       "Age                              int64\n",
       "Income (USD)                   float64\n",
       "Loan Amount Request (USD)      float64\n",
       "Current Loan Expenses (USD)    float64\n",
       "Dependents                     float64\n",
       "Credit Score                   float64\n",
       "No. of Defaults                  int64\n",
       "Has Active Credit Card          object\n",
       "Co-Applicant                     int64\n",
       "Property Price                 float64\n",
       "Loan Sanction Amount (USD)     float64\n",
       "dtype: object"
      ]
     },
     "execution_count": 8,
     "metadata": {},
     "output_type": "execute_result"
    }
   ],
   "source": [
    "df.dtypes"
   ]
  },
  {
   "cell_type": "code",
   "execution_count": 9,
   "metadata": {},
   "outputs": [],
   "source": [
    "most_gender=df[\"Gender\"].mode()[0]\n",
    "df[\"Gender\"]=df[\"Gender\"].fillna(most_gender)"
   ]
  },
  {
   "cell_type": "code",
   "execution_count": 10,
   "metadata": {},
   "outputs": [],
   "source": [
    "median1=df[\"Income (USD)\"].median()\n",
    "df[\"Income (USD)\"]=df[\"Income (USD)\"].fillna(median1)\n"
   ]
  },
  {
   "cell_type": "code",
   "execution_count": 11,
   "metadata": {},
   "outputs": [],
   "source": [
    "median1=df[\"Current Loan Expenses (USD)\"].median()\n",
    "df[\"Current Loan Expenses (USD)\"]=df[\"Current Loan Expenses (USD)\"].fillna(median1)"
   ]
  },
  {
   "cell_type": "code",
   "execution_count": 12,
   "metadata": {},
   "outputs": [],
   "source": [
    "df[\"Dependents\"]=df[\"Dependents\"].fillna(0)"
   ]
  },
  {
   "cell_type": "code",
   "execution_count": 13,
   "metadata": {},
   "outputs": [],
   "source": [
    "median1=df[\"Credit Score\"].median()\n",
    "df[\"Credit Score\"]=df[\"Credit Score\"].fillna(median1)"
   ]
  },
  {
   "cell_type": "code",
   "execution_count": 14,
   "metadata": {},
   "outputs": [],
   "source": [
    "df[\"Has Active Credit Card\"]=df[\"Has Active Credit Card\"].fillna(\"Inactive\")"
   ]
  },
  {
   "cell_type": "code",
   "execution_count": 15,
   "metadata": {},
   "outputs": [],
   "source": [
    "median1=df[\"Loan Sanction Amount (USD)\"].median()\n",
    "df[\"Loan Sanction Amount (USD)\"]=df[\"Loan Sanction Amount (USD)\"].fillna(median1)"
   ]
  },
  {
   "cell_type": "code",
   "execution_count": 16,
   "metadata": {},
   "outputs": [
    {
     "name": "stderr",
     "output_type": "stream",
     "text": [
      "C:\\Users\\SSN\\AppData\\Local\\Temp\\ipykernel_19192\\4193822042.py:1: FutureWarning: Downcasting behavior in `replace` is deprecated and will be removed in a future version. To retain the old behavior, explicitly call `result.infer_objects(copy=False)`. To opt-in to the future behavior, set `pd.set_option('future.no_silent_downcasting', True)`\n",
      "  df[\"Gender\"]=df[\"Gender\"].replace({\"M\":0,\"F\":1})\n",
      "C:\\Users\\SSN\\AppData\\Local\\Temp\\ipykernel_19192\\4193822042.py:2: FutureWarning: Downcasting behavior in `replace` is deprecated and will be removed in a future version. To retain the old behavior, explicitly call `result.infer_objects(copy=False)`. To opt-in to the future behavior, set `pd.set_option('future.no_silent_downcasting', True)`\n",
      "  df[\"Has Active Credit Card\"]=df[\"Has Active Credit Card\"].replace({\"Inactive\":0,\"Active\":1,\"Unpossessed\":2})\n"
     ]
    }
   ],
   "source": [
    "df[\"Gender\"]=df[\"Gender\"].replace({\"M\":0,\"F\":1})\n",
    "df[\"Has Active Credit Card\"]=df[\"Has Active Credit Card\"].replace({\"Inactive\":0,\"Active\":1,\"Unpossessed\":2})"
   ]
  },
  {
   "cell_type": "code",
   "execution_count": 17,
   "metadata": {},
   "outputs": [
    {
     "name": "stdout",
     "output_type": "stream",
     "text": [
      "Gender                         0\n",
      "Age                            0\n",
      "Income (USD)                   0\n",
      "Loan Amount Request (USD)      0\n",
      "Current Loan Expenses (USD)    0\n",
      "Dependents                     0\n",
      "Credit Score                   0\n",
      "No. of Defaults                0\n",
      "Has Active Credit Card         0\n",
      "Co-Applicant                   0\n",
      "Property Price                 0\n",
      "Loan Sanction Amount (USD)     0\n",
      "dtype: int64\n"
     ]
    }
   ],
   "source": [
    "print(df.isnull().sum())"
   ]
  },
  {
   "cell_type": "code",
   "execution_count": 18,
   "metadata": {},
   "outputs": [
    {
     "data": {
      "text/plain": [
       "Gender                           int64\n",
       "Age                              int64\n",
       "Income (USD)                   float64\n",
       "Loan Amount Request (USD)      float64\n",
       "Current Loan Expenses (USD)    float64\n",
       "Dependents                     float64\n",
       "Credit Score                   float64\n",
       "No. of Defaults                  int64\n",
       "Has Active Credit Card           int64\n",
       "Co-Applicant                     int64\n",
       "Property Price                 float64\n",
       "Loan Sanction Amount (USD)     float64\n",
       "dtype: object"
      ]
     },
     "execution_count": 18,
     "metadata": {},
     "output_type": "execute_result"
    }
   ],
   "source": [
    "df.dtypes"
   ]
  },
  {
   "cell_type": "markdown",
   "metadata": {},
   "source": [
    "Linear Regression Model"
   ]
  },
  {
   "cell_type": "markdown",
   "metadata": {},
   "source": [
    "Linear regression Model Fit"
   ]
  },
  {
   "cell_type": "code",
   "execution_count": 19,
   "metadata": {},
   "outputs": [],
   "source": [
    "def linear_regression_Fit(X, y):\n",
    "\n",
    "    X = np.column_stack((np.ones(len(X)), X))\n",
    "\n",
    "    coefficients = np.linalg.inv(X.T @ X) @ X.T @ y\n",
    "\n",
    "    intercept = coefficients[0]\n",
    "    coefficients = coefficients[1:]\n",
    "\n",
    "    return coefficients, intercept"
   ]
  },
  {
   "cell_type": "markdown",
   "metadata": {},
   "source": [
    "Linear regression Model Testing"
   ]
  },
  {
   "cell_type": "code",
   "execution_count": 20,
   "metadata": {},
   "outputs": [],
   "source": [
    "def linear_regression_testing(x,y,coefficients,intercept):\n",
    "    predictions=[]\n",
    "    for i in range(len(x)):\n",
    "        amount=0\n",
    "        for j in range(len(coefficients)):\n",
    "            amount+=coefficients[j]*x.iloc[i,j]\n",
    "        amount+=intercept\n",
    "        amount=amount*y[i]\n",
    "        predictions.append(amount)\n",
    "    return predictions"
   ]
  },
  {
   "cell_type": "markdown",
   "metadata": {},
   "source": [
    "Calculating The Mean Squared Error and R^2 Score For The Linear regression Model\n"
   ]
  },
  {
   "cell_type": "code",
   "execution_count": 21,
   "metadata": {},
   "outputs": [],
   "source": [
    "def mean_squared_Error(actual,predicted):\n",
    "    sum=0\n",
    "    for i in range(len(actual)):\n",
    "        sum+=((predicted[i]-actual.iloc[i])*(predicted[i]-actual.iloc[i]))\n",
    "    mse=sum/len(actual)\n",
    "    return mse\n",
    "\n",
    "def R2_Error(actual,predicted):\n",
    "    sum1 = 0\n",
    "    sum2 = 0\n",
    "    mean_actual = actual.mean()\n",
    "    \n",
    "    for i in range(len(actual)):\n",
    "        sum1 += ((actual.iloc[i] - predicted[i]) ** 2)\n",
    "        sum2 += ((actual.iloc[i] - mean_actual) ** 2)\n",
    "    \n",
    "    r_squared = 1 - (sum1.sum() / sum2.sum())\n",
    "    return r_squared\n"
   ]
  },
  {
   "cell_type": "markdown",
   "metadata": {},
   "source": [
    "Spliting the Training and testing dataset"
   ]
  },
  {
   "cell_type": "code",
   "execution_count": 22,
   "metadata": {},
   "outputs": [],
   "source": [
    "X=df.drop(columns={\"Loan Sanction Amount (USD)\"})\n",
    "y=df[\"Loan Sanction Amount (USD)\"]"
   ]
  },
  {
   "cell_type": "code",
   "execution_count": 23,
   "metadata": {},
   "outputs": [
    {
     "name": "stdout",
     "output_type": "stream",
     "text": [
      "(22500, 11)\n",
      "(7500, 11)\n",
      "(22500,)\n",
      "(7500,)\n"
     ]
    }
   ],
   "source": [
    "x_train,x_test,y_train,y_test=train_test_split(X,y,test_size=0.25,random_state=42)\n",
    "\n",
    "print(x_train.shape)\n",
    "print(x_test.shape)\n",
    "print(y_train.shape)\n",
    "print(y_test.shape)"
   ]
  },
  {
   "cell_type": "code",
   "execution_count": 24,
   "metadata": {},
   "outputs": [],
   "source": [
    "y_label=[]\n",
    "for i in range(len(y_test)):\n",
    "    if y_test.iloc[i] > 0:\n",
    "        y_label.append(1)\n",
    "    else:\n",
    "        y_label.append(0)"
   ]
  },
  {
   "cell_type": "markdown",
   "metadata": {},
   "source": [
    "Model Training For Dataset"
   ]
  },
  {
   "cell_type": "code",
   "execution_count": 25,
   "metadata": {},
   "outputs": [
    {
     "name": "stdout",
     "output_type": "stream",
     "text": [
      "\n",
      "\n",
      "The Slope or Coeifficients Values \n",
      " [ 3.31288069e+02 -5.91885164e+01 -3.20365699e-01  5.72616256e-01\n",
      " -1.74797222e+00 -1.44398045e+03  1.65547984e+02 -9.36858533e+02\n",
      "  2.50499732e+02 -6.11143667e+00 -1.31792009e-02]\n",
      "\n",
      "\n",
      "The Intercept Value               : -117553.02261896536\n"
     ]
    }
   ],
   "source": [
    "coefficients,intercept=linear_regression_Fit(x_train,y_train)\n",
    "print(\"\\n\\nThe Slope or Coeifficients Values \\n\",coefficients)\n",
    "print(\"\\n\\nThe Intercept Value               :\",intercept)"
   ]
  },
  {
   "cell_type": "markdown",
   "metadata": {},
   "source": [
    "Model Testing For testing Dataset"
   ]
  },
  {
   "cell_type": "code",
   "execution_count": 26,
   "metadata": {},
   "outputs": [
    {
     "name": "stdout",
     "output_type": "stream",
     "text": [
      "2308         0.00\n",
      "22404    62192.62\n",
      "23397    99950.54\n",
      "25058        0.00\n",
      "2664         0.00\n",
      "           ...   \n",
      "3211     59746.65\n",
      "9355     26007.43\n",
      "28201        0.00\n",
      "19705    42416.56\n",
      "28313    32058.35\n",
      "Name: Loan Sanction Amount (USD), Length: 7500, dtype: float64\n",
      "[0.0, 38947.01269103444, 66730.19742151219, 0.0, 0.0, 0.0, 97183.61812069925, 82618.29781311701, 0.0, 27583.592051869928, 137617.33205322118, 56471.70747235755, 11739.701492803462, 26044.47117577732, 80740.7577837981, 0.0, 30389.756682459527, 0.0, 22502.62156533383, 64219.55037352798, 0.0, 0.0, 4424.835025098888, -3532.991489484848, 26076.237462708435, -0.0, 47871.09064102685, 31760.555509243393, 13533.260620995745, 65652.14716958953, 0.0, 6960.744728951104, 35416.686992017116, 41803.66412287185, 70842.23967894344, 0.0, 0.0, 71505.0362773446, 18787.456452051934, 22525.528325630352, 44804.423426684516, 9251.952800143496, 55524.12937182569, 19894.40046073444, 45343.15615913572, 0.0, 0.0, 0.0, 0.0, 106312.78819219526, 112243.25178767598, 22519.913113385555, 86543.71465151207, 45417.94876314796, 23707.757576991193, -2824.621730349143, 2201.990042517602, 11023.490142705676, 95352.80098317255, 24896.10949882891, 13677.022911599197, -0.0, 33026.68693912323, 0.0, 61343.66020634351, 23958.30129457853, 22463.397245535976, 17173.366426739463, 0.0, 92728.44831084987, 0.0, 57535.530376770825, 59346.212414838315, 28709.126936392335, 11575.104586717818, -663.5430212062929, 35461.7200149124, 108835.9111094884, 42190.31107738198, 91419.44795165566, 34800.67218826362, 0.0, 27781.069080941466, 61091.41351294154, 0.0, 60395.54690668447, 58896.79134133906, 16761.54776520218, 146841.68356856582, 26530.081404923752, 38347.114293598075, 32999.7776521644, 82898.95517244938, 0.0, 116988.93034200527, 26912.85467375812, 0.0, 19150.72836060106, 16132.130733878585, 28873.51024400638, 107956.00244800627, 56193.17137625933, 0.0, 9143.447365636137, 80162.75287567111, 41298.73547905611, 12534.346338604562, 112900.91027280601, 30963.417849479767, 68282.27422848574, 0.0, 69178.51370471108, 13598.994292577874, 82021.67158047386, 77610.34599495228, 0.0, 127784.68126760711, 35193.02336138516, 0.0, 23156.30165758377, 0.0, 55867.096480200154, 35424.96739909565, 26094.460138380848, 79841.10891318382, 71700.97329440163, 9157.21824863492, 0.0, 0.0, 0.0, 0.0, 0.0, 30254.474738723657, 0.0, 0.0, 140655.40758313518, 45720.51647843362, 49947.54122208993, 4762.755564597421, 0.0, -0.0, 0.0, 0.0, 88941.12604612563, 45335.35235537877, 2624.3668595111812, 38067.76413570758, 0.0, 97385.98180951431, 0.0, 0.0, 0.0, -0.0, 36375.95027998113, 0.0, 5868.478995383601, 43363.49436200512, 0.0, 91320.04140098137, 29320.823263261234, 13647.351429092756, 0.0, 0.0, 19058.492723055417, 0.0, 61609.04962187752, 0.0, 108450.31979593245, 43768.19608275479, 0.0, 0.0, 0.0, 21807.460056583193, 31270.591363169224, 0.0, 39018.94108675257, 0.0, 0.0, 18659.707645480463, 63061.35267751373, 122696.08207187333, 0.0, 57585.07428542856, 35278.883130868024, 85351.7308703817, 50749.08062607236, 92333.17551487629, 81781.26677109921, 0.0, 0.0, 0.0, 0.0, 41091.417085650115, 19764.23137514034, -0.0, 81019.5287027432, 33629.63064821885, 0.0, 0.0, 60617.11951694271, 160192.06254784507, 23625.5022156098, 0.0, 21546.414679082372, 43295.79010483832, 94568.16165215522, 0.0, 0.0, 0.0, 9162.644187027108, 98924.85617861114, 27114.650494308677, 44913.610164830345, 31867.6520162324, 121858.91665405131, 25654.81742188183, 40757.69658784242, 9524.717490099982, 51101.138095209084, 0.0, 125616.38978473181, 33925.45875252574, 0.0, 37107.253927293845, 0.0, 9877.32549156269, 30365.728995567828, 78655.71256686168, 39771.03030902537, 0.0, 21372.597791564127, 31918.64418108767, 0.0, 54576.17765533918, 143018.29350437238, 43915.70866269365, 97993.94204875128, 0.0, -0.0, 48474.71392033796, 98174.06371023241, 38154.56981790095, -3360.4127039539308, 89807.34923748198, 54089.165706022875, 0.0, 46974.550129755895, 169974.4351631995, 30123.18477050899, 91022.66620786843, 12683.43247841677, 45594.0272189026, -0.0, 20306.46914751397, 47191.91005800749, 0.0, 60292.26097543107, 30618.105520761426, 0.0, 19645.336194432864, 27343.323387834913, 0.0, 72900.55087536506, 0.0, -0.0, 57773.05326088029, 0.0, 59398.47884996995, 59921.70886487217, 25512.912383679417, 21078.809200765798, 0.0, 32630.976332120365, 2495.7739486901264, 34696.123417945375, -0.0, 33265.44057008278, 47381.12370459319, 17507.496304741653, 58628.76473162326, 0.0, 42564.2954786488, 0.0, 60998.7820231652, 25870.74649964526, 0.0, 37076.60443578634, 51018.95104297364, 0.0, 91939.5408681028, 90698.346468851, 39101.156085979776, 11011.627190369472, 5678.235954176009, -3014.7835236446554, 30125.16904118858, 93387.90722139864, 0.0, 32854.03754418655, 51040.49783397777, 27424.20169346835, 63868.30221269949, 60262.196418887004, 38048.672064068465, 79032.42661298471, 17264.093430602865, 59654.86851188462, 83038.80979108255, 0.0, 92601.07451479539, 9833.087432601009, 0.0, 64661.04739842593, 7018.042364708555, 30531.174135188136, 24674.160638677742, 0.0, 0.0, 69438.74736979944, 0.0, -7678.209796908268, 13483.570284395828, 24728.694641618495, 24011.334070665966, 26987.43630724761, 0.0, 43808.35233951139, 0.0, 82704.30706488944, 47785.396556141204, 0.0, 0.0, 78098.57715296259, 31569.904945125425, 42050.52084731523, 81458.23581122924, 58778.91496119549, 0.0, 89443.3272983873, 0.0, 76335.24862396123, 126842.6972275837, 15196.66337436004, 33305.9552439384, 0.0, 0.0, 89599.98946242881, 93811.0948407115, 85093.69863584024, 0.0, -0.0, 44593.771657231264, 83960.30695808155, 82835.86968713961, 0.0, 0.0, 0.0, 0.0, 55147.200094548636, 0.0, 67137.40858093085, 48424.422786396404, 62899.37665210324, 117129.00593789961, 41395.681770312745, 58134.15234832757, 164267.90178760176, 33987.00225981517, 50892.00958442097, 38994.8328755502, 55498.983556488965, 71116.98757623712, 13803.82359419702, 52788.479507432145, 0.0, 22190.538876847713, 50826.78095143923, 11118.26121893512, 30241.139728184877, 28979.33250292376, -0.0, 96139.90364639158, 65668.61018817275, 54325.34650127104, 0.0, 0.0, 37032.20501474725, 39409.72359131026, 10683.484492290809, 0.0, -0.0, 0.0, 80413.60181406734, 62628.163815382664, 0.0, 61789.84968845631, -2711.5011124986195, 0.0, 54736.207135849254, 146623.67102907842, 86463.731214992, 23902.707000426395, 30501.739855266555, 49049.5334716333, 117380.0857245324, 50602.770936827466, 0.0, 40982.92802342799, 0.0, 143423.40956989612, 36621.15638085129, 30347.5470521182, 91021.28145520928, 63952.09089264079, 31591.15838802536, 23068.337057991594, 65888.14171737162, 24961.66762489546, 0.0, 0.0, 78788.9369057237, 48949.77451516423, 18113.734560816927, -1027.9023516437737, 99173.97876293838, 17184.20008409946, 57998.4719511375, 6716.5649589545355, 55417.693719961855, 63435.9614477093, 0.0, 25218.43455467347, 30807.426823129383, 135909.57178349915, 0.0, 0.0, 0.0, 15007.12979475892, 7890.0787007477775, 66121.09174557772, 0.0, 30419.90983856289, 49159.19349973748, 36653.59565839512, 0.0, 37320.89710547376, 0.0, 26395.45104797618, 42111.66502411285, 6888.588106226482, 49952.38228858277, 32026.614344774396, 129752.9543516172, 18504.946277391282, 15515.157595962664, 14132.584142634907, 0.0, 0.0, -0.0, 35087.071839486656, 0.0, 0.0, 48137.79436209024, 124159.94596882659, 57218.61718229897, 60367.77634735848, 0.0, 24267.679320405558, 34315.274251151626, 0.0, 0.0, 0.0, -3694.8471724236006, 22312.08571895238, 126196.20358016822, 63361.18023792404, -0.0, 92874.82924311771, 0.0, 84786.21681715746, 39986.566056870564, 108666.95508403078, 130544.7572589959, 42248.15490747051, 0.0, 22464.042664541863, 52904.307201605756, 42091.14276213077, 0.0, 0.0, 0.0, 0.0, 57983.55483087522, 0.0, 38585.78668907384, 14958.447874560225, 9651.2824705167, 46575.85912192508, 77075.5031114184, 0.0, 79943.12132347026, 0.0, 32127.2878570311, 62423.980162223335, 134848.32653543146, 12892.163497255213, 63908.319267112034, 150553.0921497093, 37886.18906590025, 57666.28968909304, 89890.65280566062, 74348.116691887, 8187.647666191842, 35083.94109441104, 0.0, 59272.99500567865, 15974.06513557295, 12296.593826372904, 0.0, 38950.233751046704, 0.0, 82746.74095836244, 76641.7899258146, 7255.120103896232, 36705.271369505674, 0.0, 337302.192835924, 124812.02302031987, 0.0, 0.0, 27911.30085755064, 0.0, 24862.711791937705, 29298.06258255031, 20974.699884992733, 201116.29273125326, 27798.374303719174, 0.0, 4639.164053500383, 0.0, 60360.13976187605, 29681.497114630532, 70142.60802126082, 0.0, 0.0, 82863.22343410482, 15208.09704757281, 50436.78580862141, 97928.11887787911, 91040.19278135337, 20949.260790191736, 33580.87867954932, 0.0, 0.0, 0.0, 25462.184405276377, 17371.544083119283, 37056.31732939571, 98286.31066757924, 111845.92429536392, 9306.418662729513, 30040.215744876943, 7272.654552277847, 27844.756948716153, 34168.767041969055, 13929.04337979533, 0.0, 0.0, 73599.58230099911, 64464.48056686646, 69584.50552592892, 46054.63784643862, 21560.497271538392, 0.0, 34390.11541931232, 26560.3811665175, 0.0, 15610.807103756903, 63580.372617172456, 54550.692792919, 46682.89189213759, 0.0, 0.0, 132914.0566243409, 29723.94892403588, 11514.890813027407, 22449.56283884571, 0.0, 40673.714390863985, 24038.51665754142, 19729.25570437638, 78803.59048713921, 86890.36409686634, 81724.48016029753, 0.0, 0.0, 37460.967262143415, 88009.83859462893, 100177.3244682413, -0.0, 0.0, 0.0, 0.0, 0.0, 11334.854828056836, 0.0, -8302.868746027933, 87320.19746824325, 44892.56409218232, 0.0, 0.0, 12451.29106624052, 4980.257578618068, 63994.8679800391, 9218.049931096844, 53485.04947910961, 83491.3824879691, 0.0, 22449.573264489067, 61244.876260375604, 36156.95152534862, 66455.02450213095, 2729.9740280315746, 27081.08420757667, 97603.41799662355, 56405.16041652017, 0.0, 74163.94466610954, 46535.883295834996, 81573.16391914367, 96288.8396803134, 167537.47418617073, 17382.600256220263, 0.0, 26187.113730225916, 10551.220378344282, 31139.24112380171, 54265.716080468934, 64548.71178646016, 40660.58260724411, 0.0, 81176.02956221593, 48477.02380034226, 23875.912454891164, 47689.57013113986, 131501.76179059554, 103217.55982666489, 56337.2942555132, 0.0, 29108.68615566654, 32139.417176644085, 25021.554698332242, 23099.52612429182, 26212.25626827989, 77492.138910916, 12770.599750656824, 0.0, -0.0, 0.0, 80911.30942411869, 1042.0768784646789, 0.0, 48350.274098884984, 84072.43711565778, 46673.50282433009, 20413.181987022283, 10105.53855577606, 118749.4699097428, 13003.996004226443, 0.0, 163.46627761067066, 35720.47469730451, 88574.00350750636, 0.0, 119140.601586364, 39532.83397664837, 84726.05684433156, 32770.45154000318, 0.0, 13051.987341060652, 71286.95486979824, 17097.973052364076, 3072.4492244563153, 83571.9434241968, 32164.73780642936, 86755.7952616612, 50536.769072796626, 118610.81307597968, 657.0414115081367, 136695.12462659017, 65568.0530537494, 62388.59488882907, 159183.84271799505, -3910.239484308069, 95334.01827783274, 11119.636102591758, 55791.54408563455, 11857.661184242519, 51639.75851291881, 29924.991634350154, 86515.91278155791, 93025.72675279144, 73060.19906775557, 131691.79719464175, 29403.502491680905, 64281.33498699489, 122331.25687261837, 39266.974589914695, 0.0, 0.0, 0.0, 47486.446889343206, 63855.96281404511, 41358.09257159548, 21544.797718678805, 0.0, 25619.20242590434, 33286.337729142164, 57796.47300379086, 31068.743058843334, 0.0, 40476.49184117673, 10957.018824645842, 8084.653068515152, 61694.68342331858, 94452.62012270541, 0.0, 72105.75673537856, 24407.056639594957, 44814.19006138921, -0.0, 9755.371208538287, -0.0, 149710.953167475, 64902.27723898308, 15000.170296496799, 0.0, 23108.341143245227, 39330.79022048536, 52336.35525528135, 0.0, 52576.00702093376, 47157.13181008483, 0.0, -0.0, 27910.011283332104, 0.0, 0.0, 28538.24169220758, 0.0, 23236.683623313584, 76918.10591962881, 31033.321482923435, 0.0, 94185.54584892283, 44517.22972508098, 9097.8469000123, 34489.68557539137, 68972.12056801372, 0.0, 17683.91560675521, 0.0, 18179.42609872512, 35325.18558321681, 49824.42224376256, 19176.604024456057, 70529.97032164232, 74829.50271520467, 0.0, 21303.937040481425, 41560.21332599441, 11211.718008727097, 0.0, 0.0, 31535.6321761352, 54352.28984962666, 0.0, 39823.776904214756, 16239.029772040318, 0.0, 0.0, 45959.46463581736, 80593.94455575725, 0.0, 0.0, 49004.80759630795, 61680.237874085025, 139427.43716943887, -0.0, 39953.309682090796, 0.0, 108535.74480078058, 70124.18184256079, 50797.35070216065, 97317.8050672145, 70555.22773949825, 17656.828552158317, 71000.02937797175, 39889.98045736758, -0.0, 25753.46632819934, 0.0, 77867.48285211029, 41048.75034035483, 0.0, 91166.44286741025, 0.0, 78296.6506810342, 52423.67546792046, 15526.241787644656, 26347.4251047016, 56732.88799782528, 2361.550390154822, 24388.53269481167, 80362.15923933542, -3254.9563252197695, 37264.583135269466, 16427.200292478723, 0.0, 46721.81188679763, 0.0, 0.0, 33550.59039195519, 0.0, 0.0, 24192.034582709923, 49183.14069504259, 71914.84427587324, 0.0, 14616.022952041938, 30826.17099798881, 118331.28295325328, 10831.025574068903, 143700.29711381783, 0.0, 0.0, 0.0, 28541.10019240505, 102129.76797024178, 0.0, 0.0, -0.0, 1455.8424844562105, 36430.20670295949, 27928.69210348965, 79679.29359782301, 14105.001041178417, 42087.567680708016, 190011.97791350156, 0.0, 24093.189501589484, 20198.346826129622, 26525.17491882897, 28303.22988881386, 0.0, 17528.295432913874, 32667.958581572835, 73983.67852029757, 22591.531677864637, 68884.32516522688, 31301.360078279133, 34216.61658914623, 0.0, 0.0, 137047.8383376654, 82902.13483069016, 0.0, 62617.09615474779, 48483.174658473756, 35978.72122834195, 52639.09216238899, 28782.629146864725, -7196.850798729822, 68325.48389334569, 87352.81804036602, 31459.610770358908, 0.0, 7762.420046061568, 72482.776737604, 95361.23250516236, 51619.58942991763, 0.0, 32211.878328847757, 25006.2042408071, 77990.24903191355, 17418.010268392565, 0.0, 31235.866495359485, 41905.08996609037, 9096.282324331798, 16726.34212522843, 46625.141120817745, 30275.481217178603, 11179.813172264388, 46771.08292263333, 0.0, 51474.420446888544, 77324.81542406915, 56952.32254679382, 135529.46075512355, 65733.65490877349, 47254.7565356924, 86095.91613875446, 41594.522514221666, 13796.630295315874, 98725.50301927084, 108873.20471648718, 122963.13716633286, 0.0, 0.0, 42147.315461814665, 8166.1736267725355, 46593.46244885892, 58168.11042557558, -0.0, 23848.582529014762, 82023.62771489026, 0.0, 0.0, 84657.42961899543, 56430.773194927955, 88420.89023200658, 98202.43007015475, 25389.244166194898, 12200.321569234613, 0.0, 8502.837735044348, 25802.919346626237, 103955.09039620942, 0.0, 0.0, 88788.24745864983, 0.0, 20546.132700828195, 50301.90170267504, 68718.7264967408, 0.0, 0.0, 42031.65427167478, 24804.67140208991, 0.0, 52802.478335586784, 0.0, 0.0, 28928.841702628648, 10403.228220699268, 82050.9333529663, 65899.62031857242, 21977.39776724606, 58634.16447688898, 28932.422963324352, 32004.33015229006, 30113.811694211006, 39419.30980107782, 9327.84346460746, 0.0, 29259.354258199717, 16022.470786143123, 102228.28786882933, 51763.74604883295, 0.0, 0.0, 107325.35745285853, 33476.325107817946, 0.0, 0.0, 0.0, 127349.2912912874, 0.0, 28203.928037388483, 96811.41860999679, 0.0, 30223.627565871167, 94146.56124417952, 0.0, 72679.35768097505, 35035.472454581904, 0.0, 13380.039197721373, 0.0, 77098.48648100958, 47094.95042510642, 30190.582792034955, 37876.542629902106, 16518.857777639263, 58862.23228322249, 0.0, 58765.97249427947, 43080.05038651073, 11338.905017956014, 0.0, 0.0, 73925.77637356459, 30519.97600710712, 24298.073969724326, -0.0, 0.0, 0.0, 3488.534346285014, 12439.192586955382, 37654.661191255436, 66957.05592509778, 0.0, 0.0, 58902.59903643251, 58162.801192748186, 56624.792118835845, 0.0, 21788.72442888061, 31948.185173953883, 77150.05811031704, 55745.83279013008, 32413.302772620664, 38638.59451531852, 76181.6446091324, 0.0, 24774.060559615842, 13620.86998048384, 20119.293648399645, 28303.393597150658, 28683.622129552037, 55402.67935193775, 85397.72397032977, -0.0, 22037.530333757837, -0.0, 0.0, 113116.25250116413, 92112.80882858366, 54472.93973920954, 68690.05701579293, 0.0, 75759.18623692772, 88026.66131992184, 86716.48601867715, 15832.05217504091, 6312.771810207283, 120461.2681907893, 48753.26681368446, 55520.620866585494, 0.0, 157582.89170122938, 66642.86342836055, 0.0, 101049.33693263616, 67152.0310151432, 0.0, 0.0, 38232.51484871376, 26245.33473914847, 0.0, 0.0, 58881.5695832725, 47998.20106633418, 10438.447547472693, 131589.15436957305, 86620.42362275627, 36152.26775050047, 0.0, 109406.39825949879, 25844.565764124243, -0.0, 4818.678793152983, 25556.431744376197, 87269.90610619719, 23912.353784282226, 0.0, 41191.973273600364, 49656.58258897593, 54389.73661822709, 8439.8735954539, 49677.68660156758, 0.0, 67017.36111923613, 68218.70726537096, 49284.51177011494, 104895.6840840501, 0.0, 59228.86690385846, 0.0, 46440.49927056645, 38979.142803502735, 23963.505023174046, -0.0, 36861.607459011284, 0.0, 0.0, 23420.37868899241, 29398.662078797322, 101629.65195211855, 0.0, 26510.14675387158, 70860.59202610306, 47846.66926894203, 29380.324770935025, 72132.09246384521, 47014.20662903349, 0.0, 34421.4567239508, 23819.250047768117, -10637.639753616662, 41392.48729832092, 76493.92896756722, 27716.71320770873, 41145.67851869177, 62681.805750993546, 0.0, 74397.48538485487, 0.0, 0.0, 0.0, 65010.30462855846, 33245.485356421006, 45671.89924958366, 36996.75958737757, 21271.117310792353, 84082.46411275608, 0.0, 18328.026323945494, 31142.082986822992, 63718.56716002736, 55743.58658775667, 57638.68130157387, 66202.26985287823, 49166.05710336883, 44223.34359146457, 0.0, 36984.070192635525, 35960.983864118636, 86383.98158376082, 0.0, 72425.64920545023, 17918.43619383333, 48767.59273613579, 1954.4957989503891, 136005.9406810076, -0.0, 0.0, 22273.725924208877, 11252.218291064957, 12778.251078744317, 127857.29756402108, 111786.18314449661, 34019.32947120146, 101721.32567132125, 37272.94121557346, 26563.28164562062, 67874.5418921262, 0.0, 0.0, 47971.85389433149, 80301.42527610567, 0.0, 45111.164068619255, 83861.54771654916, 169826.96822341002, 0.0, 50461.63248353216, 36089.712846457405, 70030.37213091154, 6812.405874317861, 0.0, 62239.01303885059, 77786.21630616684, 56446.02780545378, 0.0, 44704.38016830856, 0.0, 20938.62571036676, 0.0, 29941.653903995204, 0.0, 46016.479794926854, 0.0, 42078.055878185725, 0.0, 13635.926865495014, 1120.1308788701717, 66328.47112182635, 51406.495377425075, 36891.29774232686, 32812.56748528467, 78894.33142515027, 0.0, 0.0, 0.0, 31555.784117772942, 0.0, 0.0, 0.0, 0.0, 77062.12292301506, 41971.20343691096, 70817.86496097487, 27097.24119506264, 0.0, 37699.042877125816, 47360.17203754501, 0.0, 32646.04596791364, 52414.06230170812, 37584.12445537484, 0.0, 288.9212691538851, 0.0, 47499.24686584214, 0.0, 10445.57177320907, 40330.67935963138, 0.0, 177783.5844959811, 50687.432092400326, 0.0, 0.0, 3403.7406892863364, 40785.82456656298, 0.0, 31334.847645762115, 31869.5215004106, 0.0, 21566.200176823215, 8232.29604881379, 16999.448115139705, 0.0, 71761.40938455085, 27806.016004685254, 12370.15493787374, 28132.769874547783, 0.0, 64996.59890096032, 120194.20340106133, 81064.99027420356, 40391.642357981065, 0.0, 78817.95570354961, 25274.301668808563, 113675.30078548728, 66269.86082594973, 50698.695682366844, 44294.58866523107, 0.0, 0.0, 89103.15905589928, 37711.35568414585, 92780.31492575209, 28336.678834337363, 12289.33086535205, 45429.98275989728, 72834.81942093492, 65364.87922632421, 0.0, 7171.234296351526, 6549.421022561524, -0.0, 38993.239941468666, 26933.763037377503, 21212.837161807634, 36092.46531477396, 0.0, 0.0, 23222.781199386984, 37209.482442707, 0.0, 5398.150511538246, 103782.56457337431, 0.0, 0.0, 32322.33677033367, 61701.431670521706, 0.0, -0.0, 40063.129666331166, 10092.312100285664, 94185.34820593038, 38034.97267086449, 0.0, 82210.64897033197, 56268.14202944058, 54520.60895351111, 0.0, 62174.09815456439, 0.0, 21261.885683705565, 74831.55075908743, 21717.546429957118, 47325.557596398256, 121654.23339470319, 81198.27821967361, 0.0, 16550.518717554427, 24457.894860417524, 4388.237883970476, 34917.335912263254, -0.0, 0.0, 40193.07418485265, 0.0, 4901.40302072301, 117214.79269437469, 32946.653523079294, 26018.136409179482, 43655.09265543631, 54347.143172855576, 0.0, 64582.025762049656, 0.0, 0.0, 50656.15231594702, 82137.07318889769, 45768.97586105214, 104244.95588717569, 0.0, 0.0, 49907.642354332085, 57536.04140352184, 4405.110131842026, 41013.2506368552, 0.0, 0.0, -0.0, 31906.643575139955, 41642.58934605145, 58825.52577323001, 106577.2413208553, 150869.14932016953, 32802.988561045495, -11339.13204670776, 0.0, 0.0, 0.0, 123105.24224907756, 56983.850100312586, 14884.117606612737, 47872.025417636236, 0.0, -1962.4566731871164, 45071.97619489534, 71978.6903969633, 52607.96816297044, 109946.06653955061, 0.0, 0.0, 0.0, 27080.3484530797, 63130.12785741885, 65738.01476558112, 40811.7710462597, 120560.51408249841, 0.0, 0.0, 57273.9199864011, 0.0, 100556.83191460362, 111428.88251203895, 72830.27546170572, 75731.15514705089, 25749.537561090547, 14399.882113968866, 10775.48130882092, 0.0, 8858.106542314694, 0.0, 0.0, 9257.538600574684, 44953.34848175527, 64903.66383084381, 57866.84865637426, 11731.64453419912, 18625.22961273152, 0.0, 23929.18165395473, 13623.585244356043, 56762.79542580544, 17237.274388693128, 33976.204319424316, 41001.73220402951, 56553.740902342164, 20424.222446752217, 0.0, 55076.11929738583, 0.0, 17732.387596727494, 109720.85889514248, 68780.91501896392, 43855.07922233874, 21610.360421414254, -0.0, 0.0, 7406.112179879143, 97579.2812651309, 0.0, 0.0, 28452.575530312024, -0.0, 35368.34111080988, -0.0, 71449.57800501242, 38207.81411059457, 27003.78446704964, 56108.31662850003, 17922.339393946517, 9653.24455127897, 59195.92494048251, 82106.8023133908, 0.0, 26048.65605399845, 43859.363103771524, 0.0, 0.0, -0.0, 19679.682549198187, 2940.982227233908, 109390.84113112572, 18766.013169842307, 60631.606236146064, 24340.392835956183, 0.0, 0.0, 66621.32934943077, 55396.44551208083, 15724.777367992967, 118173.0121764791, 28533.96936612422, 40222.12734330312, 26468.065795824223, 37202.199130008434, 24975.251877431612, 119915.2641605656, 53549.906879512506, 29033.951227912214, -0.0, 21842.327866724663, 0.0, 0.0, 69274.47624796984, 98231.17391077898, 42118.686632672354, 93279.58129400946, 0.0, 0.0, 49505.14103818996, 0.0, 4100.109157271028, 38090.747201984486, 64982.044947517104, 0.0, 0.0, 0.0, 35547.7874862997, 0.0, 46942.427565646445, 36353.85608590697, 11973.461769359914, 35627.43870597106, 77562.07292029721, 221257.19807835412, 0.0, 10251.090403124253, 71797.76763688761, 154847.12349682645, 68277.92330011705, 99552.2681221891, 0.0, 3108.7765633677336, -0.0, 19207.536714403454, 0.0, 36488.78951777931, 0.0, 78163.85377786768, 0.0, 0.0, 21749.716134732415, 30975.26010311945, 175779.60868530447, 0.0, 94916.55730819717, 0.0, 22624.936273193714, 0.0, 101430.34994892037, 25146.35844464964, 14000.510886741424, 54431.427254537324, 4049.670459321467, 45323.25273886518, 0.0, 40715.64062966706, 10784.315741924933, 55174.17812194643, 50551.51224218393, 28525.226163983956, 36834.505505057925, 222877.9999732133, 41392.96285753581, 38171.82065977206, 60719.37460293906, 0.0, 17295.909517156455, 33947.37596916771, 0.0, 0.0, 67777.87293872153, 55315.90294881415, 20215.72823000679, 103908.92369343998, -0.0, 46875.33217575331, 54924.96169014371, 32714.67339248577, 18146.785762727144, 46532.692268196406, -0.0, 24694.764993180783, -3898.425790431633, 64801.15015610156, 38538.85802268196, 13274.244461042676, 0.0, 46895.25355185487, 78789.80759897584, 15566.04450532439, 14307.661962931452, 19180.843520698952, 7353.027331065139, 83036.40287567972, 0.0, 0.0, 38275.84634565149, 23424.80986202191, 39500.120295092114, 19795.3115531129, 18936.412950765167, 33974.94889502795, 0.0, 68552.87388281489, 0.0, 98051.18710623687, 0.0, 96798.90648792346, 50717.521325246664, 60642.757794970996, -56.06928370326932, 123356.73627553551, 86111.05364535877, 55066.75080019294, 9261.585460582617, 0.0, 0.0, 0.0, 31404.814474934625, 71612.93022633661, 82340.67410553145, 4715.386212234967, 19856.62821568598, 0.0, 42604.58556405638, 66952.75129594654, 30510.02991573856, 28094.11886708063, 7535.549740381655, 0.0, 61841.79250717361, 138999.19831665044, 54056.23595398458, -4252.4259549696435, 13413.21969427244, 68090.15710309596, 9752.108191104795, -0.0, 71389.30615389434, 14845.71006983958, 52625.15766313518, 0.0, 0.0, 64359.14104192957, 79444.79889762841, 37696.79465221276, 18596.333989757084, 23189.94484121405, 716.1857034921268, 0.0, 55100.27900320329, 104976.74264213757, 0.0, 0.0, 56097.58443570376, 0.0, 32915.71338776048, 19575.03558628747, 0.0, 20130.6714699094, 72081.13862899487, 0.0, 0.0, 38772.71812787876, 106340.5985720481, 93239.40295828547, 113969.72959688451, 91960.9902070559, 0.0, 17596.64097884507, 0.0, 80424.68870063516, 52432.27563852721, 20777.74893312293, 120108.62441787458, 39715.24123025383, 30080.53857043304, 0.0, 67200.37544282022, 95415.07754429046, 68640.8582504057, 15894.96176083645, 107495.49925068283, 31359.87234614193, 143088.19636070216, 14803.85557812563, 19654.895516364602, 57604.086175148754, 12068.720178858843, 0.0, 0.0, 15498.136785537004, 39116.7780273043, 0.0, 0.0, 0.0, 20231.462822969334, 65157.97504016, 48154.578062821645, 1946.23996357742, 3469.1022359776834, 38774.01416382351, 53121.77819206449, 110026.46643064948, 0.0, 0.0, 24721.293201894296, 85945.38849844917, 144692.05886053707, 34207.07662655151, 0.0, 0.0, 0.0, 30806.43882475511, 98284.83283406822, -0.0, 53009.39606775215, 7868.247887149744, 98026.36434136087, 0.0, 41760.37730145865, 104794.66462869145, 124549.09055662702, 10319.604130159641, -0.0, 41712.165138365905, 52945.32563409748, 20124.061094192875, 0.0, 24435.881189553882, 47084.1562899689, 78269.3856141323, 32976.962743337324, 0.0, 74313.32446659118, 39517.138412417844, 0.0, 58935.05117518513, 130101.10009867512, 0.0, 0.0, 30523.653488699172, 52944.79109770275, 0.0, 0.0, 0.0, -6585.399720586793, 17142.07476992745, 0.0, 128277.03259846952, 110807.43533278478, 0.0, -0.0, 0.0, 85107.069755368, 0.0, 38882.79805096265, 20624.381940381834, 103138.51279639153, 23938.435239716724, 35053.532476689055, -2610.646288079457, 0.0, 68787.67838108892, 47569.090829810186, 5184.908642682261, 110862.14672571863, 101932.58585295803, 86552.27912276666, 14882.039434560022, 59298.89772358874, 74896.4590259383, 0.0, 53738.63246907393, 33045.04002117153, 69554.38962371956, 27533.6978766401, -9826.805837639607, 87465.6932152122, 15607.255191824719, 0.0, 0.0, 0.0, 66668.81644671792, 51452.1157525334, 31661.817124386027, 6048.837719473522, 0.0, 0.0, 43889.666183861846, 37288.2665739909, 75474.61516907118, 40255.95771994785, 53333.12248790395, 40434.12996471519, 53009.88957394578, 77933.67878778678, -0.0, 57253.828253342595, 49421.9908754162, 5963.940821256139, 0.0, 0.0, 49966.94355781187, 136591.4657435826, 63525.678184788325, 16806.680537012406, 74836.9027603807, 84471.03267510637, 28088.810106238, 76926.00995862152, 0.0, 57077.2718537006, 15476.716516108485, 75853.23546193409, 20871.50699717368, 0.0, 9565.384739016052, 65099.31947883853, 0.0, 0.0, 112242.44171220169, 59355.39090137812, 101698.8252573121, 33271.482914348715, 0.0, 74415.37703879335, 50270.97290821216, 69721.33590170185, 56092.055219734466, 51378.091241012036, 3745.6514204822306, 0.0, 36749.362841117574, 31216.418453174003, 0.0, 0.0, 73179.66211255363, 56017.51799589838, 6714.13981017207, 119953.42338339915, 0.0, 0.0, 7490.308038654111, 119748.74973876905, 51540.750651612645, -0.0, 43893.79537832289, 82431.69096191399, -0.0, 45583.39718004136, 28641.709351706726, 0.0, 19797.889164357446, 28672.329147745535, 12444.073948139063, 0.0, 55175.34252064998, 43675.397171680175, 91998.21999374055, 28194.002333180746, 145273.03951089218, -0.0, 7633.7043329718435, 4850.826829391997, 68460.53147888125, 11683.932945388151, 28823.92116002916, 12256.900178420387, 7022.144294988335, 90269.04030189555, 69062.46959164945, 24214.49056618364, -2842.3910300750285, 74300.01523611497, 149564.76926406246, 0.0, 10311.6079916983, 52870.0699541815, 0.0, 5053.978355996354, 1613.1651590642432, 89802.43880742049, 44392.21010545848, 29607.353422288026, 0.0, 71518.2953387968, 33445.20194426726, 76442.15134492132, 97692.62301418834, 10093.284528038508, 48489.231375376345, 84253.4995823298, 0.0, 28064.906098398787, 0.0, 37658.652918633044, 0.0, 0.0, 154290.1377549335, -0.0, 20439.57333301817, 29291.857640397327, 68801.65749692058, 8551.092993081416, 98565.40632204618, 111150.89540454507, 0.0, 83666.03304962761, 114423.83160444244, 36038.1686537069, 34063.7812189775, 21075.837788599107, 51386.41276759395, 53134.84134088969, 58801.18769862733, 0.0, 52468.59114553034, 51273.05829291133, 24983.680813432205, 1942.3953448465763, 97066.2405833443, 0.0, 49802.149341097305, 0.0, 59840.667384340806, 21587.561958492122, 109388.07457532122, 6583.556177190578, 0.0, 58030.785486486275, 14794.984985357878, 0.0, 0.0, 0.0, 61287.56926501953, 53309.83350179781, 25329.115267783578, 61911.833702172735, 26998.27715241298, 58170.675519422395, 114081.93831557722, 30705.120558731694, 139862.19688302727, 49514.04714895692, 102985.07257526505, 25967.699504121963, 0.0, 64576.32168831042, 0.0, 22836.064751683618, 0.0, 31974.63791070672, 116255.06170501316, 0.0, 54665.173449843714, 10019.911857246785, 0.0, 35369.35984919086, 43813.959646305564, 31365.927901298768, 0.0, 43212.91504107826, 0.0, 40534.2743692089, 44345.315428699774, 83794.22872056765, 31763.971434046834, 58863.14431643943, 0.0, 29843.037693424296, 10624.178558127649, 1802.3821667787997, 60434.89096712184, 10900.773271852508, 38907.87920185251, 67478.45173590005, 41000.36422092351, 4961.594282165141, 1909.100480425419, 0.0, 21041.805695408926, 40196.98923012096, 12160.945106122977, 33808.97168468291, 41648.72599984115, 25389.530201900576, 0.0, 36688.818375643576, 0.0, 12129.809797276146, 22806.113575746276, 36179.58448012345, 33569.538270566816, 0.0, 0.0, 47156.47060642659, 58154.05015604722, 23181.739137286204, 10229.125467553022, 23454.85803121919, 64749.44301212265, 11708.984236855104, 34218.69833133163, 15338.887336038286, 0.0, 24517.735606215836, 55985.64995660793, 12677.339832553436, 0.0, 0.0, 8030.056445628026, 46910.48509061837, 8719.362840875081, 92197.99993204584, 181363.29217448412, 77496.0642359438, 96790.04502116627, 24307.7920385107, 29115.50352308326, 18591.131887694588, 145171.26533353573, 50279.517517331, 21162.33503787534, 27314.66196328742, 55423.93762560235, 34971.30663377326, 0.0, 69790.95510980609, 174881.96332725266, 161762.78740302235, 106537.79679169154, 0.0, 57197.05303623204, 104930.65811852703, 0.0, 18292.07332174058, 32069.95533787555, 16640.75091267348, -0.0, 0.0, 0.0, 41424.140406216175, 57516.50281327005, 52473.350046386855, 72683.47600015861, 0.0, 76653.50704190825, 68916.38946075653, 26875.85752962649, 13095.284806240408, 0.0, 39098.392821242625, 50682.46989398764, 69127.54695272734, 64687.89217776107, 81694.21875017203, 75713.11009518133, 11148.994430376653, 68330.23328820031, 77924.38540574192, 0.0, 28824.235031806427, 82155.18115369472, 31594.92959271808, 72730.08127492896, 12588.235252935861, 100806.62406693908, 0.0, 0.0, 119237.07724932491, -1745.9190235296846, 52251.85387307359, 0.0, 51953.628500817664, 64162.83617006024, 0.0, 0.0, 16891.408243877144, 0.0, 0.0, 54121.493712296244, 59590.20011824209, 102571.12325099405, 22300.503489505936, 207960.9819844101, 65586.7973953436, 80784.12771534323, 14565.358043485816, 54227.81459958572, 0.0, 162442.74619450356, 10626.941706259531, 0.0, 26291.6544133687, 30177.05852251468, -0.0, 57760.16136837931, 82996.07445475855, 0.0, 37212.25458957176, 26483.97142941988, 0.0, 44517.66974689046, 169080.7933051528, 39931.2655580444, 61635.96185534331, 93238.74798215338, 27332.845429427398, 0.0, 35132.62238617599, 60629.72826220386, 40375.223481821275, 31535.864534716326, 67530.82142065294, 0.0, 88303.70620966781, 43761.8706690862, 93955.37013198136, 37666.12683525286, 24020.25365141066, 0.0, 34437.72647379959, 29093.789114382264, 0.0, 92350.41904586623, 42263.525763234735, 0.0, 58618.686781045806, 0.0, 32547.99462676968, 34424.349420933315, 76500.37170046582, 25692.031379379943, 24697.431201182742, 110423.81630975133, 28882.415987140266, 12291.401927925064, 51536.44359460997, 51626.90821352234, 7958.232875030008, 59289.84076378276, 0.0, 96963.3470569909, 0.0, 21883.007109234168, 0.0, 36503.884713753476, 107460.06408403051, 31029.17809028749, 19401.649255845085, 58648.175197150995, 44444.61091574878, -0.0, 0.0, 49597.1532237138, 7915.766700933018, 77062.16584158145, 48008.565097237384, 76718.30142667738, 0.0, 35550.93272892086, 44489.494731681334, 3887.6221474499907, 53481.8475943525, -0.0, 107201.04900293052, 0.0, 74690.69121136577, 96714.97765897954, 26190.102251154807, 28913.52427113024, 45911.70130945614, 28464.601558812574, 104530.47478252565, 0.0, 83243.59959646311, 0.0, 43018.5206850009, 111449.46230042694, 116551.96180615915, 18111.71592629829, 0.0, 12412.659622707448, -0.0, 0.0, 49867.954076125316, 0.0, 0.0, -0.0, 48592.631788730156, 56309.74777353686, 0.0, 0.0, 102310.5070726341, 0.0, 0.0, 59898.176785363554, 0.0, 0.0, 144131.80579608094, 15459.420873498864, 24848.055239613983, 0.0, -0.0, -0.0, 62788.803691559064, 10339.23559771909, 0.0, 110519.20842717233, 176160.48374590592, 0.0, 28903.461250221357, 90532.09162524148, 0.0, 0.0, 0.0, 29334.06705701456, 44790.41255011919, 0.0, 0.0, 0.0, 92642.99567731321, 19904.178770503262, 76505.95502331454, 0.0, 106446.99030537967, 328.9101888774312, 51099.347156530974, 0.0, 71412.8488587357, 44000.96851192499, 132986.7080818098, 63272.59927752835, 85401.73668944143, 0.0, 46554.224071344506, 22221.854654466006, 0.0, 33069.82754002721, 0.0, 32356.389979822794, 4990.429700450695, 0.0, 0.0, 19890.286374402698, 0.0, 0.0, 55481.93237390512, 46294.01219155986, 15549.066860523017, 0.0, 32423.22698140479, 56485.91449893653, 66800.62238358177, 0.0, 30358.773942545784, 0.0, 13259.24556388316, 110014.96730447237, 0.0, 0.0, 60818.922101695585, 34760.57761075758, 61498.79085503562, 0.0, 0.0, 86301.58556459408, 0.0, 31771.379643325927, 23110.23797971211, 0.0, 46094.97323238937, 128447.42825795503, 35559.219164529844, 0.0, 0.0, 0.0, 0.0, 38795.11688663621, 38222.643391393154, 55098.12893280704, 135360.5111760279, 3945.339601711181, 105005.98444350003, 96636.94494292897, 60340.233594220364, 80635.73694643652, 66829.51647836118, 27059.631834763248, 22529.596035997063, 0.0, 53925.075862884085, 0.0, 44993.579858853336, 63909.912359513924, 72244.70686804428, -0.0, 43379.34983613173, 0.0, 59640.45100126669, 50595.60942434674, -6257.966293692225, 97669.40397685996, 113982.28532828111, 0.0, 0.0, 0.0, 108453.65849935138, 58225.73741597199, 63730.17123567013, 41745.33041333474, 111701.3651805442, 75648.99354899809, 17782.444211049384, 78084.07486926811, 8541.740785346105, 38154.677046099096, 33718.118286946294, 33952.64106134843, 182075.1647256228, 0.0, 128361.32119279687, 75056.1516355103, 35084.6391569344, 14161.741624902177, 90223.11408180199, 131575.11898156547, 23213.977346044267, 47911.8049992944, 52318.529106070695, 77578.72950059536, 0.0, 114519.5064564684, 60430.76234851597, 27241.792270290636, 0.0, 7088.611324444384, 41902.544792577944, 0.0, 11525.430059170292, 89715.50623043664, 47340.49289953397, 52296.96959964433, 0.0, 0.0, 0.0, 97204.32832389866, 34684.496951278066, 71007.32471580894, 14144.973279724625, 52260.23883242719, 105724.58600114507, -7581.836969762517, 31507.094945764955, 34912.14411091624, 24445.47786792263, 28257.81358322379, -0.0, 25314.918029946944, 20029.87755527353, 115852.49537392793, 63791.59499372053, 0.0, 71525.15664872047, 28687.566818817868, 89519.28913893696, 16870.43624340379, 79792.95045724287, 41689.88169490761, 62644.52162268938, 14674.919940876978, -7873.141164488232, 41483.41772271364, 14209.425259010517, 0.0, 91067.93169723003, 47943.128963838564, 0.0, 41813.029620434914, 57119.795978556474, 0.0, 56434.76378519976, 0.0, 0.0, 84793.0784374405, 0.0, 0.0, 0.0, 17417.366313792212, 137603.8625636896, 34716.93922845775, 35279.33403119756, 61930.84816211075, 43122.80617749799, 31231.7019197061, 0.0, 102279.21037815494, 29702.18571256206, 2043.9360217571666, 65136.790479195304, 41043.19476801608, 0.0, 0.0, 28599.09616315688, 93759.94439948816, 10736.930913724776, 39526.40416312817, 78847.40646179777, 0.0, 0.0, 77954.33392515368, 0.0, 0.0, 36727.38325022333, 7875.532329174661, 28277.902841107512, 0.0, 14959.189423089847, 0.0, 34892.64362939639, 83964.8748504819, 61297.71197918677, 109.45194827535306, 0.0, 87623.23565993703, 133443.04628311517, -0.0, 39509.08131916824, 34618.754526101286, 0.0, 64995.99481317596, 0.0, 121628.75909926565, 78439.07064291547, 88536.53177262741, 0.0, 32343.524288559915, 44194.12372632808, 64700.49065209567, 32119.09008754068, 133747.5996472218, 69974.26813638321, 64411.45440502756, 24331.66801502701, 0.0, 54533.87327314247, 65151.52794894701, 93590.3058236134, 55360.534548741125, 429.7351879114867, 109966.98592259601, 0.0, -446.6130865936866, 56375.98530328157, 11950.21804270301, -4823.108389444751, 0.0, 35369.923535324924, 0.0, 39514.53335135919, 6453.8181711714715, 0.0, 0.0, 57808.4541073477, 13435.037545849234, 0.0, -17511.37147997493, 67759.97339139521, 0.0, 0.0, 0.0, 34385.20233006062, 0.0, 0.0, 83399.3116752666, 34744.987189487525, 86909.40373070474, 35996.54309353989, -0.0, 25468.466755888396, 52657.99552661809, 0.0, 123021.34755679764, 15623.955339143518, 26028.552513605013, 112204.49371326133, 13025.963521417885, 13224.67286335834, 0.0, 19045.23120482266, 2945.905371083063, 43350.63000575645, 94138.2262541159, 64463.072009474155, 67195.41148766637, 0.0, 15354.907988747174, 50786.904250008345, 13276.91396111554, 0.0, 91408.11633434403, 0.0, 0.0, 45203.887692232325, 44119.702247647976, 67212.5001110686, 13035.323646941091, 21706.62824970379, 0.0, 25349.693466909317, 0.0, 174431.46949744428, 0.0, 95897.17726154943, 0.0, 0.0, 46090.243882900686, 36626.709043234965, 56260.32440300446, 49738.96377721059, 0.0, 42186.44882608508, -0.0, 26566.577572654292, 132386.56112567347, 122794.92079469288, 100065.13282600435, 27180.252185751102, 0.0, -0.0, 0.0, 0.0, 38611.053702435485, 37811.979173641244, 47412.74177321352, 44302.87735775398, 66917.72635383176, -0.0, 39725.047736350825, 0.0, 30156.802320597606, 24318.301392003865, 49543.08763462931, 35974.62562911949, 40342.36034750685, 0.0, 0.0, 57586.79051434592, 95125.53291824611, 4510.678749168466, 0.0, 0.0, 38195.781063673145, 27443.180485595833, 62093.363367555256, 84725.87218966373, 0.0, 16138.033895160275, 5923.489273103929, 46093.84668984145, 36505.0277995982, 15706.96307501517, 0.0, 29802.832426428417, 39894.62499612378, 54469.00554826905, 11083.696903355507, 80100.07424287716, 37429.258300731424, 15875.732183946297, 47901.84403767157, 26140.78039301641, 136581.9744401988, 0.0, 79895.41942276878, 25889.531164663058, 0.0, 0.0, 0.0, 75304.7317941188, 49335.51036192197, 40813.93846435755, 76565.54999749595, 34312.729908108886, 37145.16686017811, 6135.547041752332, 0.0, 0.0, 0.0, 64421.883492105, 52332.03069799737, 6148.762510320186, 65503.09954081409, 47.8521778795548, 36644.961681748624, 40720.767862655426, 35540.3006388683, 0.0, 0.0, 53659.45266886239, 13094.094092071158, 115916.92292527537, 134394.8396222445, 30359.088798555138, 13193.031571125583, 115461.77325145295, 56510.14943693104, 0.0, 30015.72488187728, 9617.001528088702, 56788.05909631538, 39675.974053567916, 30189.096553621057, 152227.46829415328, 24792.233964498097, 13539.246138250426, 20199.166524700733, 16800.607534946554, 37096.34779725995, 9191.072954254167, 56425.066727527854, 0.0, 40875.427901628485, 41257.10283130623, 0.0, 27346.76685590812, 58859.45370517974, 49676.314411759406, 0.0, 61156.28190665267, 84300.52839051094, 0.0, 72945.67498226743, 0.0, 74145.65838455138, 39375.650684766035, 6850.775845087948, 0.0, 0.0, 41447.11337097839, 63177.64351701952, 0.0, 0.0, 0.0, 118058.20831615108, 0.0, 41660.61686725024, 13063.41102995479, 93679.03124509746, 66296.93725740621, 58523.58453091644, 79371.5545972159, 15767.60028081556, 0.0, 73878.60420791831, 107481.81499153853, 15744.176532906073, 0.0, 36694.300037267996, -0.0, 89974.97035439874, 19331.561118862737, 13660.012828240142, 80231.05382702782, 8041.509326577885, 42856.79044404253, 84663.73910679299, 0.0, 44863.12545877084, 34699.459678862564, 40511.55635544093, 8129.039096329114, 0.0, 30959.54320576953, 70431.37313396065, 57757.85447249797, 34531.219224407134, 47586.06431591927, 24850.30660273679, 71019.67944341578, 30614.489173276525, 82705.18294374942, 56916.673757877346, 27673.84328861782, 0.0, 26896.94630889059, 70629.8789365578, 6203.132688819445, 28218.481888798502, 78714.26460332656, 0.0, 0.0, 0.0, 0.0, 26036.66036815956, 105291.10582333495, 44444.61707553512, 94057.92647566836, 35483.054111711506, 5115.865330053013, 22129.466468592058, 12810.84498386753, 9367.494274260665, 49901.4966186822, 24975.445797941356, 10680.636886321881, 171038.28304253303, 0.0, 43693.632834842836, 0.0, 118928.03015265404, 11830.871023352302, 37691.99503037959, 0.0, 10334.971436112115, 53131.32369798829, 0.0, 0.0, 37554.700647802034, -0.0, 55793.023847774224, 48921.174323907006, 40356.25543030337, 82868.87821776696, 21528.300111689983, 0.0, 54509.811004757416, 0.0, 69838.37932959534, 0.0, 17141.695049539092, 24349.43422360081, 0.0, 25017.35534355612, 57769.143636891095, 12678.587530946606, 0.0, 0.0, 78919.32365570686, 33985.37705159842, 0.0, 81184.90990542882, -0.0, 110454.64935185909, 143222.28525356366, 32307.944636147266, 26528.0821022217, 14384.29868612194, 105614.6913091206, 35755.79141961498, 0.0, 32546.723470845754, 69213.81871708622, 0.0, 0.0, 0.0, 0.0, 81637.05720604595, 0.0, 47498.06423532896, 0.0, 12118.988205816058, 82351.2301807823, 76502.63314237699, 84706.74519490643, 0.0, 23473.666681045404, 72862.69572724198, 29708.815054800245, 0.0, 84635.36653360189, 52990.18932149449, 0.0, 64364.56597254236, -7246.963704429727, 17586.100380112737, 0.0, 0.0, 0.0, 0.0, 87084.63023089891, 31832.7129404195, 30168.094109442318, 90455.8776428063, 0.0, 0.0, 51607.52748584849, -0.0, 156645.1974946669, 0.0, 79316.51122736355, 44849.151285058935, 51208.39068105837, 50499.02662195658, 136003.9498854609, 0.0, 69489.20415786802, 58770.093595914484, 54215.74143364173, 38011.211446498724, 18567.71457164263, 126656.05772440089, 89119.35562159121, 39403.44115239399, 118770.17820426167, 36447.50701038589, 0.0, 71422.402246877, 33847.80249128639, 33399.77109969739, 73463.06562679831, 0.0, 48339.254265989905, 52688.07494906528, 51532.19374465689, 106561.03774868534, 26613.96933932774, 59034.317782725906, 64284.17951424539, 0.0, 776.1343373722484, 0.0, -482.10184161028883, 149665.62640051648, 35220.613029353, 40612.36115926711, 21268.439946389757, 0.0, 23183.495590229373, 0.0, 0.0, 31949.80508308322, 47614.452601872355, 16382.144283715606, 50102.135117860365, 26758.517690390116, 59038.499525600986, 55415.44961282017, 67738.66754388428, 44337.612144845916, 15795.778025530919, 63572.421522193734, 91499.59752190742, 81699.81744407679, 60947.118555170106, 28680.731355367083, 51376.112804864155, 29777.877484903933, 0.0, 0.0, 0.0, 4236.334397893705, 35365.16916478929, 13306.766142407883, 20091.009370535525, 58946.30559183663, 129923.85289939202, 45027.8933362863, 32052.502331825497, 0.0, -10747.692399626147, 53710.7066060924, 0.0, 0.0, 55139.75882033896, 0.0, 29156.22173884767, 48606.55105302774, 0.0, 0.0, 35844.576902399625, 0.0, 6412.7488088691025, 68025.55853576527, 65362.95258233961, 8237.185874094415, 0.0, 118747.81571900044, 16823.622982850502, 30696.908870252315, 12051.779847456564, 37444.04505202183, 82440.67327258509, 70857.88312148716, 38911.03695361267, 65576.58264808575, 64500.3758934887, 59722.38240913514, 56247.61454769882, 0.0, 0.0, 54867.59162043323, 0.0, 0.0, 113671.75551323037, 50341.43707049545, 88311.62494060339, 0.0, 15917.112715071242, 0.0, 126401.1728838667, 10998.611902207587, -0.0, 13751.045396759, 96890.34782634079, 18065.03428527477, 35197.50510473247, 37934.99987231003, 0.0, 29437.61738184921, 19898.587282710767, 30791.32690031064, 31952.094861708145, 33862.19514543115, 74788.09732597313, 53558.33279659966, 58549.45703961182, 0.0, 151312.1932498254, 16796.79218250222, 24631.971907960135, 128720.61369614193, 19702.093847354612, 0.0, 127829.2984716424, 38399.335178663896, 43355.95761155861, 6615.895846230953, 63916.26690899793, 90926.2417704426, 28957.648330946802, 129771.52471877195, 28196.805408153246, 91884.2744691628, 0.0, 53045.104980748496, 0.0, 96490.29389240284, 4289.7081872954, 22519.168829346425, 29547.485472378437, 38409.08069944606, 6436.617725897173, 8163.358512185339, 16177.158761397324, 1322.5893221370206, 31079.900721087615, 29865.29506967374, 69620.32093539266, 0.0, 32095.404141229665, 69920.05587700193, 0.0, -2910.619456204833, 16914.44587353937, 0.0, 40383.663773164066, 34740.3714358024, 58944.98351026286, 32277.358839976776, -6721.307104349762, 13626.114906161354, 29980.71309565447, 30508.82093365441, 90646.91771156283, 42480.80983631103, 109851.40467448035, 51156.461291896994, 12769.441758159926, 21891.664843374107, 0.0, 0.0, 40917.6232403788, 16395.34585261802, 46978.56148127932, 0.0, 32716.336336264154, 26080.953547470708, 0.0, 16545.86672193461, 69483.8618058043, 16849.136969315412, 0.0, 15072.002346976893, 59438.77818548295, 13775.233299172483, 102153.06418935172, 42249.36712956024, 23637.84858156409, 14268.6584138326, 18953.30247118362, 0.0, 76876.59375899596, 0.0, 0.0, 34815.44175585543, 152236.72715096327, 98421.4404541883, 0.0, 37405.70058294901, 46806.08532702271, 80883.59517629838, 71583.987455099, 0.0, 1616.9911196818575, 41330.738609220454, 43247.86515766685, 52251.30704591054, 16159.89100456849, -0.0, 73891.38666267699, 57589.495736372424, 87724.15145064014, 0.0, 7561.292329044052, 77099.92969334012, 6942.19426293076, 41489.88469176073, 58859.496313465, 147066.56963496836, 0.0, 0.0, 82964.30104872579, 60647.34515559106, 0.0, 5418.460725757061, 80841.37903143407, 14719.938651678414, 15730.218377193873, 0.0, 19054.886800347333, 15551.050977459468, 0.0, 86140.70773431726, 18072.530179163005, 0.0, 35870.65320580013, 47069.64391983999, 0.0, 0.0, 5247.36472903192, 57426.61397576518, 41712.8588530315, 72499.9213561932, 10828.734935481829, 23898.611830602284, 26888.876009897504, 0.0, 14290.22217063699, -0.0, 0.0, 0.0, 11185.940611035141, 67201.14523154226, 14886.600242030603, 69055.95592029745, 24125.581188838347, 39272.982592678774, 45231.84335859926, 0.0, 64729.31102294818, -0.0, 11725.371723611344, 9185.292242779818, 6275.767269587479, -0.0, 22513.48151941874, 90779.43668358741, 0.0, 84501.91715128347, 23686.70768073626, 55860.52256167526, 61101.89215363818, 108933.60668195479, 0.0, 0.0, 0.0, 36335.588245030434, 49893.281803639344, 46504.50985894911, 90352.05467546373, 73647.25991441048, 48314.56165514549, 35737.550386356714, 31785.51725263323, 79635.93752619735, 19314.369722016447, 0.0, 81212.88717050594, 67138.79090558132, 57506.813600127294, 53825.54827012756, 64297.97344816447, 42328.65018823827, 0.0, 67874.89541384124, 0.0, 109523.2657919875, 58169.192299575836, 65748.87826037713, 32412.401318657096, 60415.71195023446, 0.0, 87732.29858220366, 45066.68866704989, 23654.24437621268, -0.0, 68206.84419150109, 85375.73116188816, 33671.85622028986, 65211.12962337065, 6636.477101935045, 18659.665680511825, 2529.4918788669747, 39999.976451517694, 9432.409927723333, 35623.75054570788, 31954.16001608732, 63211.00733476743, 34392.330505621096, 0.0, 112065.90282569514, 80501.02270475336, 0.0, 60376.908518870274, 0.0, 67180.84464150632, 30535.066403878474, 0.0, 16755.876068655634, 29884.547901795246, 0.0, 16401.57602008147, 2755.586128284951, 53878.26743769855, 93541.9552752669, 49470.40939188842, 46893.91087500984, 41316.028249330324, 70199.41272429327, 116233.75055261925, 0.0, 0.0, 50848.5179177339, 96386.54357829932, 58537.956699229166, 0.0, 84620.37245969582, 18796.363138788205, 34359.468767480284, 57555.996198418405, 17319.630835429823, 18850.998369417066, 9241.196060395523, 0.0, 0.0, 34239.965584979596, 70233.4386251595, 8337.318228218792, 3945.6007239623723, 31718.248423293, 44911.19711520968, 63384.151856492215, 27694.92480281109, 33989.22691000055, 20524.323317253584, 0.0, 0.0, 47855.82272282822, 0.0, 0.0, -0.0, 0.0, 19213.60102352666, 13004.322371654678, 33939.418525308516, 9850.51871598135, 19768.515312348725, 46996.51222320253, -8425.515558248822, 53926.53614769905, 0.0, 127337.39490703828, 50653.300502756174, 22294.736760777916, 4949.372295424546, 25473.725916085532, 32701.96129462571, 6146.707350880664, 173934.2396505758, 96743.38514804502, 0.0, 44763.267911251896, 37789.013626216794, 78932.46419111264, 45513.91347859311, 0.0, 92250.68435418737, -0.0, 102753.2369657447, 16439.563943443674, 0.0, 34570.877636909194, 55106.774113314255, 41947.108213801985, 85485.53089621197, 20265.18258531086, 0.0, 27942.5426677074, 0.0, 83129.69435209344, 138447.02437150333, 10061.60239092818, 19250.908628372417, 156121.95328682498, 93931.9797574965, 30911.888738258072, 70123.54674940443, 49298.28890296747, 63864.53747022693, 20694.693364083127, 20211.64076831643, 57369.33048834116, 56542.50352191707, -0.0, 0.0, 47496.70730197136, 17915.296676214377, 0.0, 51326.24462977733, 0.0, 0.0, -4057.7275019152585, 0.0, 54716.84240491202, 74541.47591518654, 34820.345686393586, 40709.87415359894, 66803.8855465482, 29452.58915641386, 32718.376203567605, 56501.605000735464, 30977.476902578026, 30926.81197249511, 0.0, 49740.48813156897, 0.0, -0.0, 67735.30027369247, 100835.5848610428, 85253.00613200411, 32784.226321169204, 86771.86246688516, 105671.11944804396, 30611.297634943447, 80349.74658230858, 10669.320802000031, 12641.736265607848, 103071.72765191257, 65089.08702865834, 58824.41074123827, 128353.83605045124, 8477.461898158246, 19233.46572342256, 0.0, 22902.557004876144, 0.0, 0.0, 0.0, 61386.86678946455, 24294.684041466913, 115501.78569232428, 20808.101098582294, 85304.84758928086, 73131.9464161614, 103801.70475036235, 0.0, 107327.88572278127, 22764.5538304855, 0.0, 0.0, 59066.50843687009, -0.0, 38060.461978056206, 27107.330193576665, 29010.3613810112, 31444.89572344179, 0.0, 100849.88268391747, 19070.64413308518, 46303.92647743205, 65528.17299400095, 88081.76193779134, 88761.63623392445, 117829.24730078658, -0.0, 28501.898245329096, 27507.085879632446, 0.0, 44197.334326362005, 33960.88670504137, -0.0, 132894.5422069213, 39259.61171245502, 84547.68247337584, -0.0, 24489.370995039208, 56154.41511138948, 118684.80001730126, 41447.71870692933, 0.0, 29087.793453430582, 80875.13641120921, 42791.26714367315, 8502.346049636224, 17614.558412529295, 49407.64821751733, 28857.081257841695, 0.0, 11336.514432198412, 123199.92843484879, 103151.3432849866, 6524.342331556225, 11934.088406204814, 43236.66036871297, 23112.927762753825, 0.0, 55524.03968005249, 0.0, 0.0, 58838.548748990375, 64505.462511360325, 47046.35236111612, 7192.8108638955455, 22285.028064762417, 0.0, 0.0, 123980.3563363119, 11783.67967918847, 14845.964586704853, 63565.56592355654, 7822.418523520595, 35594.12195016295, 93904.65552184472, 20480.304150025448, 0.0, 79788.31751544308, 89390.59163239459, 7238.082863992808, 28861.63719263539, 0.0, 180338.34033599857, 38965.56430069354, 49291.332165848784, 0.0, 23297.292937908438, 52439.899187208095, 31597.33292396032, 59038.487950929906, 10960.650226546655, 18748.12314035013, 124899.20326666348, 40956.30252244332, 8432.92144872251, 58468.484271108464, -4080.3430213939573, 35062.38153705394, 69185.90441749868, 0.0, 40996.28812387455, 37146.3781558421, 0.0, -0.0, 17410.3893108154, 71656.0962128469, 120319.96505068266, 46249.66829693111, 8705.343522986936, 21350.73999299464, 12491.891515988726, 0.0, 41616.777341466164, 38887.04669373733, 3482.508633163947, 0.0, 5391.339607641028, 0.0, 35674.675208935805, 61047.04471718919, 0.0, 25172.852654773975, 0.0, 77467.52195386545, 0.0, 949.9138488415483, 0.0, 44535.549894772936, 74963.50764876005, 19486.06197538608, 89655.2343563372, 31471.58918678388, 138798.76632376958, 0.0, 0.0, 40543.00086454212, 114474.82618261222, 55686.12660889854, 18597.13377200582, 0.0, 0.0, 0.0, 0.0, 0.0, 39605.115591322974, 0.0, 54512.01755677306, 85967.12014935969, 34165.10839320169, -0.0, 0.0, 91505.30228559696, 2727.5025184426486, 12114.700506485184, 0.0, 158671.73142831086, 31155.988617275812, 23396.02926537441, 0.0, 119866.122806631, 0.0, 51305.3565981455, 0.0, 113239.8168997929, 50893.189366606064, 57862.63952560868, 83817.40721855001, 31397.071464684763, 35059.88488114206, 48446.23047379672, 17516.946236095682, 0.0, 64926.228877612564, 0.0, 22462.610903222143, 17520.4977399568, 14635.836367716402, 0.0, 36910.855670451565, 12525.503057936134, 0.0, 52066.989867097174, 60660.647502686654, 74501.36597582721, 34029.26077862858, 26202.977255122503, 97588.9043342921, 33157.69942938982, 0.0, 0.0, 25453.073623615288, 36496.78232693704, 40719.695192827814, 16350.95001218014, -0.0, 37689.07912849792, 0.0, 36994.10250617648, 6126.017220514448, 51253.31955046349, 57207.82906292504, 85664.79753146839, 50302.975421660114, 0.0, 0.0, 41967.10446791857, 28091.243065266928, 78667.55559232124, 0.0, 0.0, 42930.11137641035, 54999.61289204031, 19666.755978444882, 94216.80758087154, 6599.5507325411745, 32254.760959637526, 0.0, 10930.65625555304, 0.0, 0.0, 65020.447395323485, 55456.203319546825, 32261.205618967913, -4314.776981820411, 0.0, 74113.89893918249, 49938.43436860593, 0.0, 0.0, 62126.37760610788, 32687.733306659735, 23347.486857604323, 65506.608101035, 19235.121565393172, 134129.98127495227, 45554.847307386866, 108904.88144962772, 65975.06624004821, 38969.02562375335, 31599.25673424211, 53268.54571829125, 12450.350185021423, 18435.532718949602, 11945.623799666893, 160223.66691935848, 0.0, 37012.988818464364, 81253.69405373305, 90249.64926836785, 0.0, 42579.47862658434, 0.0, 44753.12451790113, 0.0, 35487.11887472932, 0.0, 60478.876013083034, 756.4892617045698, 0.0, 0.0, 21830.456765150564, 12204.799707037033, 29296.090889352723, 60802.525587844284, 77894.86641549511, 30789.663889909687, 50843.1439156229, 0.0, 87577.63054406163, 25730.752941601502, -0.0, 0.0, 86028.29700534226, 27070.707978730672, 0.0, 0.0, 7456.050371373567, 137550.96120725974, 41881.04360689907, 73690.86757339252, -446.57680397559307, 99504.8547312372, 52298.9342609125, 11473.105661504902, 0.0, 26170.673169423855, 0.0, 16040.386324466963, 45639.54303964111, 0.0, -0.0, 23177.494116778515, 0.0, 0.0, 38795.89814685122, 27564.00373474133, 52175.98023908769, 81906.79152058385, 56393.38444559809, 40769.16344969682, 0.0, 17137.47807004716, 77309.27655060714, 59014.55470423351, 12498.00488719641, 0.0, 36001.91456697136, 115454.2274214219, 41790.17856487952, 0.0, -3376.0315634132858, 70606.55762621594, 52230.43869541469, 71550.23511642599, 38383.75161687762, 0.0, 37548.82030128816, 30185.69487271947, 93222.52385579835, 9641.576083331689, 107128.85334869684, 18617.363238477585, -0.0, 50548.0797378408, 39220.6715369343, 0.0, 90804.69626692732, 28633.734183590306, 23350.925960189867, 68593.65802440626, 0.0, 906.0278406153666, 0.0, 48075.170920541044, 58707.11346345281, 0.0, 16970.373976151197, 30754.315206010244, 61960.9835177639, 49961.2933473179, 0.0, -0.0, 12219.71691667872, 52425.5153455667, -3982.094427086733, 80715.13627636334, 14184.421558197297, 33667.74670079324, 0.0, 34818.82052208658, 14315.155749915022, 86705.34634273118, 0.0, 27688.64521282434, 14947.49175701561, 34971.3983354216, 0.0, 0.0, 89812.7523711622, 73445.7940286269, 48758.57159660908, 0.0, 22677.436803644086, 0.0, 0.0, 28049.675981724053, 66559.79009212932, 108232.31141729568, 0.0, 0.0, -0.0, 15947.970931211981, 23451.508693946176, 69667.72058448981, 57443.33826770165, 0.0, -0.0, 52575.22445563477, 26998.756704228086, 34155.76183648588, -0.0, 0.0, 53883.66820852927, 0.0, 83030.30970348022, 35027.64883788259, 23057.135876373708, 10915.750870178483, 15151.511194390478, 129613.77840286432, 106393.81089695336, 73205.84616506612, 75222.9617788221, 0.0, 0.0, 0.0, 0.0, 0.0, 35395.44732560922, 48409.61159043171, 0.0, 0.0, 70372.80806168658, 0.0, 51970.331936654315, 0.0, 0.0, 83955.67790352332, 102499.18045625422, 89939.54444920321, 67493.49931323246, 14655.53036520927, 32308.90763479442, 7105.283038914582, 21605.208646986546, 117576.37359536006, 0.0, 61546.35917690236, 20031.14099018491, 37216.38660011039, 0.0, 60982.595687455585, 25926.625054650125, 0.0, 28357.579829428025, 150962.1640276803, 72152.39170534004, 0.0, 101675.99474462421, 0.0, 40576.1309022911, 43443.262464114814, 0.0, -0.0, 26147.305745449383, 12653.902278951806, 32373.629293814505, 0.0, 0.0, 7146.29374668689, 0.0, 0.0, 57200.65021597987, 17912.59374401369, 65596.30711243025, 21601.53936672109, 9976.40864418332, 75645.79718890003, 15723.22789926792, 0.0, 34098.244368519256, 0.0, 966.3581345100829, 81378.8843716289, 115491.86160049966, 100239.12718501384, 36682.1624320843, -7960.876494823358, 41181.04974117447, 16073.057869140699, 44018.844127489225, 53703.600694746216, 74887.70206383005, 0.0, 144316.6137774517, 51398.06191184401, 0.0, 67973.31255349278, 116006.0458807514, 0.0, 0.0, 22011.041884179343, 0.0, 130997.02089548032, 21337.759809898096, -0.0, 73583.05955604749, 113459.35861253418, 0.0, 42501.6634615449, 72109.68417434118, 0.0, 0.0, 0.0, 0.0, 69296.12890925928, 0.0, 52758.34514749644, 0.0, 68684.63725791921, 59492.197647716705, 56038.899473244266, 0.0, 54098.64517241961, 0.0, 68970.22817828014, 125706.05970637753, 81891.81788677751, 39421.13336837065, 29278.63445949793, 74967.31207340371, 89225.2877393795, 0.0, 79009.64267531881, 0.0, 0.0, 95492.20623581781, 15381.69288328092, 6794.293065995982, -0.0, 0.0, 4277.436395131866, -0.0, 50481.13724914318, 125522.43322126163, 0.0, 20989.87699069429, 65266.84239470214, -0.0, 52151.11951908731, 39899.39025975601, 71970.61451610122, 39475.08179090792, 0.0, 0.0, 0.0, 9494.372893297768, 118727.88770821205, 0.0, 43573.93746616016, 57209.54829701793, 57685.64019678728, 14512.882668167731, 0.0, -0.0, 13727.726274605957, 19041.409647861496, 0.0, 215168.46030907653, 28020.852885992237, 57623.71135009153, 88866.3976162519, 47232.26714949691, 33398.69458851378, 54800.16711270696, 49845.86683322399, 41914.98195991089, 40913.33298260078, 29451.970065301983, 37435.15014267663, 23310.913407858316, 101898.61142613253, 7065.416152454578, 126295.92474323351, 16857.57229743281, 52817.97559903184, 25727.613708749588, 6707.147482255445, 199216.07044133055, 0.0, 115193.10256554995, 0.0, 72314.82236987722, 14307.123769346246, 51319.8175376734, 19941.442923768627, 165749.90790818102, 0.0, 45024.198136032326, 96039.68655146551, 0.0, 0.0, 38092.45241687659, 0.0, 45251.60365757323, 0.0, -0.0, 27854.66853847826, -2687.9494040945865, 34480.203545883676, 16566.843564568524, 28070.675006388163, 0.0, 3317.751329423074, 0.0, 49076.762822069315, 87746.21379278542, 99535.80188901103, 0.0, 0.0, 113012.95111553528, 0.0, 42369.89388607192, 29864.725577316887, 0.0, 39377.91158407551, 100272.34878306909, 56720.83858360007, 31336.506678348436, 0.0, 31499.020105372445, 24797.032621239923, 30796.88697802383, 22946.491001667862, 0.0, 31007.643854889582, 12025.777711748495, 0.0, 71617.4718077516, 40003.863004118495, 58351.45946717664, 0.0, 56202.065991510375, 91556.88590417293, 106025.34033684258, 115536.33966000861, 34263.37026267918, 58892.1352313165, 15194.278538350569, 59213.39535124067, 0.0, 0.0, 87774.91761901416, 51720.40054548712, 33366.57762166622, 7553.099295682405, 56137.99162282175, 0.0, 32945.38649172842, 11962.58601917277, 0.0, 35976.338863252226, 16225.297853979253, 100306.93514397444, 0.0, 46439.36950653937, 16830.035146196053, 90732.21017056861, 0.0, 35262.24846721685, 0.0, 98107.6600869419, 2183.023099356302, 35467.04813955168, 45968.688805710146, 84684.47642707932, 33135.48585065137, 152097.05612949544, 52862.077206867805, 0.0, 111473.429525705, 73579.36268422648, 0.0, 5979.3515381594625, 0.0, 40946.010782260826, 37188.28081587577, 60780.64101292213, 10172.604535906168, 0.0, 43272.542941242864, 29889.468114794203, 110429.01630995749, 0.0, 30510.711481065577, 64293.16123373629, 0.0, 15365.039878535928, 20916.838722726214, 0.0, 46762.74602469269, 38991.93651144061, 114081.5627370161, 118086.51262139715, 19905.53564021751, 5065.369591101611, 10058.489478930409, 122945.88692558778, 61511.22543569098, 61802.13747918481, 0.0, 0.0, 25316.90554763461, 3178.810294098439, 38347.89443938015, 16635.28914832021, 123779.39525216733, 31676.45084267264, 57117.13164602846, 76445.19748302724, 96499.3769324788, 30043.228572464082, 24084.155185900425, 23120.484539207042, 0.0, 204629.90398797096, 0.0, 0.0, 30996.554731711687, 72062.60233453929, 0.0, -0.0, 125132.31165770305, 14430.844008316664, 0.0, 69464.06352018105, 24610.669475992472, 17737.50489814271, 0.0, 34552.940087492316, 5485.513982190954, 53088.10071377701, -1780.161499067457, 16678.369896827207, 21372.89182944823, 58562.3151382893, 0.0, 59835.37282013887, 68503.95533752916, 137782.8287089007, 2992.3858191932813, 0.0, 34188.49203178121, 25920.196428819123, 44664.75576512929, 70657.77558839772, 73240.69451708914, 76382.51896329815, 38826.38890799656, 23444.137424662447, 56504.41236984386, 12230.881286021598, 36158.45940398419, 42512.78520688508, 44560.822848457115, 45232.12822991307, 17738.99065869223, 31016.597012746613, 0.0, 0.0, 0.0, 84314.65714520565, 17608.03281718443, 51177.277280611655, 0.0, 0.0, 58060.70918996335, -1435.7982621274277, 75600.21341291643, 54891.55912037697, 44237.74703135411, 38091.01147485385, 0.0, 20935.145804679894, 75619.53365049427, 45302.02820976998, 35309.57453467086, 0.0, 82017.26543660046, 16203.79020686957, 101710.58067087922, -0.0, 26596.6770468014, 31910.278243277688, 73372.93089258714, 25190.375405220722, 62504.04701995163, 59849.27809792827, 22881.927706313203, 28224.295109606144, 168849.30879720458, 0.0, 2202.6853990152013, 44662.6843690798, 0.0, 77151.97516246847, 65318.76833013876, 55844.742208784795, 68531.95719618286, 0.0, 0.0, 0.0, 141126.04281326957, 39052.71353552013, 0.0, 64487.78000148374, 64552.509500048356, 52679.126456084865, 0.0, 46527.044498548, 0.0, 9607.761588151698, 62568.170057825075, 0.0, 0.0, 9192.047161821232, 25589.959850818617, 15009.651730138547, 18816.72261943735, 42264.4971997416, 0.0, 0.0, 79229.31025165497, 20953.224952903838, 15895.920015318872, 33545.41495312535, 77299.5540041714, 25993.859612192115, 0.0, 196599.0428956783, -0.0, 59201.70014311088, 23032.817724743043, 35833.93455800446, 0.0, 0.0, 74809.58669714164, 0.0, 63626.00822952174, 38504.00131052645, 29109.817815569986, 16894.446070081933, 44476.47064090482, 23767.933995540574, 0.0, 0.0, 0.0, 0.0, 19381.472497531184, 70960.59789033805, 115754.90114989414, 0.0, 12841.449517479312, 26043.774651207146, 86743.32107638169, 0.0, 0.0, 131062.54379423772, 64240.52913949455, 0.0, 67575.26338822694, 1054.9242175388936, 10009.66308544774, 39354.223032924376, 0.0, 31043.923187716922, 70952.60155661564, 0.0, 77115.97943496291, 32569.339682003687, 0.0, 0.0, -4361.098596635507, 62101.9489742085, 19799.30769988644, 15395.714321493753, 0.0, 0.0, 16819.337790788006, 19459.37776828828, 108230.11055916126, 129177.25714222525, 96295.54509651844, -0.0, 64546.445593345416, 50860.36307806644, 61833.84296174045, 0.0, 3279.3372625703487, 7630.337996960341, 21062.78234707922, 0.0, 75166.69034343676, 0.0, 65024.7106610263, -0.0, 34219.04145583237, 193534.1864681866, 123638.35207931395, 79791.74792727671, 0.0, 79492.06880269214, 19945.558774446778, 5623.32416609372, 49724.390147259284, 0.0, 0.0, 0.0, 55001.298607451376, 14700.071555393137, 0.0, 53367.03845041894, 92896.18694269724, -0.0, 22741.2689479549, 32627.92113737832, 68984.4613369247, 0.0, 118243.05395251708, 14836.346576782264, -0.0, 0.0, 22025.697322092805, 39906.46308546202, 7864.685428795026, 101662.29687335112, 74880.75603531371, 69293.2625159706, 0.0, 86400.53097440852, 78672.66830588048, 8275.132862861297, 16694.36810721291, 96128.08181881387, -0.0, 22392.934941162617, 40175.24229363407, 91939.81943654193, 0.0, 63383.0000488036, -0.0, 34525.32806424689, 55157.058625429636, 109912.74758249254, 0.0, 46220.61594235228, 9311.432048818737, 76153.04909081725, 2248.6358792015235, 62481.27962253211, 64645.9429238227, 8588.746708998471, 0.0, 50208.37802119696, 4245.984051367661, 83721.58996308016, -0.0, 117312.3103029879, 47887.30803647259, 97670.86819937453, 79115.6663449489, 27121.239809193532, 114835.41970646751, 0.0, 77771.36913231903, 41045.48040297988, 47162.77713937091, 42761.96232478545, 116648.05300769396, 27418.09061623219, 97841.22297444486, 15946.674900918471, 0.0, 75419.90227690028, 112171.14378466783, 35868.028530076874, 104793.95609510888, 69859.03423241075, 24547.08671384392, 31159.936421207152, 61136.98379797346, 0.0, 0.0, 0.0, 79069.34227588636, 97830.75277656916, 14264.606464481534, 53827.192562057025, 69963.46110135003, -3968.7874411270022, 0.0, 46942.14188997063, 33429.51138285798, 29848.968955205462, 12809.982993600206, 76630.01688100962, 189345.08600156353, 162033.2851459366, 109372.40254068063, 71948.88989329478, 80016.09737812681, 24571.071950376616, 21213.332079529093, 0.0, 0.0, 139726.93082593224, 55719.08812564102, 60298.27650203317, 82705.42564987857, 62560.77770058409, 28435.43924402562, 79062.73778175187, 51036.43492638448, 71093.8410311552, 19110.47086516017, 50167.175686105824, 54569.4902690044, 51989.227177640394, 0.0, 87879.75366997771, 20842.633676951576, 38564.10184889869, 47826.08781431086, 35781.63236092133, 29815.34501729341, 13332.264925363139, 1269.0925552301196, 59918.30411426147, 43413.42221178839, 0.0, 14673.88709594676, 8648.729408725994, 100144.83027131797, 0.0, 0.0, 40381.45393077884, 86618.73163307109, 9047.86157424911, 11964.714691142872, 23736.99266520617, 76920.69303732304, 6976.655662237768, 151605.20272983337, 90853.84759926738, 69466.11526396012, 50154.24976058502, 28693.119425701792, 0.0, 44887.55669326117, 76036.41419312352, 69320.63566450696, 0.0, 86668.21329460351, 6635.441000225925, 0.0, 23986.53862409346, 39295.80769996616, 46668.43814596775, 49533.229294779914, 3085.3644599472755, 80991.99125833772, 106052.9621550334, 0.0, 18420.43193212684, 170719.0161488087, 70421.20950124384, 61551.652995686425, 13907.611110184487, 42646.45208660382, 0.0, 0.0, 122828.55126148535, 37720.61025767989, 61288.42067847878, 0.0, 26467.33780669063, 0.0, 51695.26504007532, 5534.421206999512, 121598.3214605748, 0.0, -461.2586630813166, 35322.48016094821, 46281.82227274336, 5762.404108475224, 58318.08091241101, 0.0, 106268.01238120781, 0.0, 0.0, 169573.0083990257, 52802.003853563016, 13386.52762687672, 49644.83882658617, 49025.13488463804, 0.0, 152607.78003478737, 43539.35313873971, 26273.340593535628, 47333.937954412104, 72442.00878325841, 51059.61160989036, 111150.73116347613, 68245.1135356793, 0.0, 174415.71587843914, 73665.45126353184, 22726.98855909743, 21771.6875821765, 99945.61493331316, 56353.34126034629, 26650.404577552603, 58910.79502895789, 20396.774038332253, 68006.16236264023, 6897.65282370316, 0.0, 31135.364147878805, 3561.694816593008, 57470.17531517576, 0.0, 0.0, 52262.1622288262, 64951.67495485762, 44198.71973097109, 129098.96421329235, 12676.388170178034, 0.0, 51701.77206990338, 57901.23462601614, 0.0, 151573.32964119868, 0.0, 29205.04926574335, -0.0, 95223.44866635988, 86355.13104242648, 20715.491900399502, 19159.1163406423, 17545.29627650493, 57192.8608810023, 89968.0927950276, 0.0, 65010.902289351594, -0.0, 52096.90645650125, 114215.97266043868, 58573.79384169233, 0.0, 141860.46521884756, 54748.6413934312, 97061.10454188389, 71671.63687890419, 14184.124149692681, 0.0, 74778.17859656413, 132570.61993934805, 49606.51833293104, 0.0, 0.0, 77923.0003817704, 56931.36760959038, 57577.12819218106, 7360.540006725219, 47530.48739094357, 10934.790596722247, 42866.124306232465, 27064.115776188468, 90874.16383179062, 95040.60780211238, 0.0, 0.0, 58995.55911385364, 0.0, -0.0, 11772.45565168008, 0.0, 0.0, 35872.72463814178, 26308.739834551234, 0.0, 14756.43825540712, 54268.867996647954, 18326.11989768216, 101392.77711056845, 71014.8902347426, 45093.54589647503, 23839.09149397252, 0.0, 38169.43746798637, 0.0, 72968.37727718745, 105953.56736228932, 0.0, 45592.8730800589, 75913.95733477763, 0.0, 21776.844043157646, 15046.153721058537, 62560.34037011571, 40751.503870822344, 54748.95479982937, 81363.3620547541, 0.0, 66529.4053057621, 15052.382956148533, 0.0, -0.0, 0.0, 54193.48136929993, 118286.78059086131, 42485.56797569865, 91492.38041166056, 68730.50808177225, 13902.000655191747, 60607.52406690226, 0.0, 0.0, 35566.469666241785, 146082.21723797516, 0.0, 102186.85938004323, 0.0, 0.0, 0.0, 98794.13892282458, 21572.524615500646, 0.0, 93289.62758119276, 0.0, 35104.475438825844, 0.0, 0.0, 74428.09666808406, 0.0, 55735.568014745746, 41779.10359503608, 33327.99071990058, 116604.78230877739, 107682.63052546169, -1904.90155774077, 43205.00484367, 3147.3497680784785, 30269.47892260723, 56591.12481984589, 41186.95134103575, 0.0, 0.0, 51063.93401505065, 0.0, 79066.17512084384, 0.0, 34819.1593187683, 0.0, 91805.87683226971, 0.0, 0.0, 39532.018638812675, 104730.43495529765, 86007.53952895498, 67690.8340694592, 0.0, 59936.817722845415, 133698.83233263533, 0.0, 65643.66921713325, 83470.28022298342, 79617.0626606768, 146450.89215460705, 66811.53233183693, 31964.359619340335, 19718.033394839993, 30075.640974177222, 5680.505484478708, 28902.137322086433, 40518.72870392006, 179939.11406631902, 21158.93590347725, 29144.701075584133, 0.0, 71538.53715443303, 0.0, 39830.512188302586, 0.0, 25784.60868951329, 42308.31838652911, 58797.73795852563, 114326.54075789679, 20173.082084423426, -3785.4990312102163, 35112.2058551239, 0.0, 0.0, 40447.51953404397, 67003.61720131221, 3858.0581217395957, 0.0, 28928.585971085355, 0.0, 0.0, 75988.0765294627, 141687.9214239097, 27030.81505098936, 82203.30474018442, 74038.77501250742, 36621.91751668631, 84201.52879394, 27543.90561580978, 330.6592792152951, 38014.03372282692, 29325.695058681624, 121247.7242777014, 39635.22261035777, 0.0, 0.0, 6743.1703809838655, 97362.52754107563, 0.0, 7955.158704506408, 56674.33053143846, 0.0, 0.0, -6875.02357435388, 0.0, 77713.42233745716, -1362.8347306677897, 44009.48156647108, 34445.01632444086, 0.0, 106251.6245666474, 0.0, 33156.65626671843, 89687.45197464369, 7638.343805390512, 15706.141650730657, 5376.175877099115, 0.0, 61274.49085557577, 0.0, 784.3511669547879, 26224.37696772255, 58468.393373353494, 0.0, 90801.15485327892, 0.0, 0.0, 0.0, 33334.85544935669, 0.0, 47523.357792683906, 0.0, 0.0, 124519.10412229336, 5732.586098171843, -0.0, 47314.7327275658, 0.0, 74344.71180886836, 0.0, 0.0, 0.0, 67966.93826631515, 0.0, 32697.38317876443, 11616.040224690994, 83264.87661821043, 36985.76916039284, 61920.892166178644, 28892.68468347445, 64365.56255257726, 94220.65556385907, 22823.844417183398, 66424.93429070807, 0.0, 12895.282836556784, 38007.71801657215, 3218.8689633981558, -0.0, 27544.82471512159, 92184.54317672233, 80812.9773718119, 99770.83324736837, 17930.981907626614, 40406.65356584417, 21552.628031039407, -4739.283773896095, -0.0, 1785.9529701197025, 28351.86971285942, 51559.92362598621, 47358.39472002734, 34006.87657896025, 0.0, 7877.359288647916, 70422.10308707974, 123690.9145611317, 0.0, 48991.82696564475, 136678.5814399475, 0.0, 46935.408590432664, 118970.13362344363, 0.0, 11545.843744575017, 37466.59359267351, 23816.593541929615, 0.0, 0.0, 0.0, 0.0, 12467.293408806654, 0.0, 39848.88657799506, 66664.14353188314, 0.0, 81267.13146836613, 118180.68207630757, 27714.551565112808, 59721.1644501618, 22901.266494381503, 63707.206998002366, 97503.68096949864, 6269.6476783561375, -0.0, 53350.09557602406, 25741.025923410227, 0.0, 170268.46446114033, 52746.25583658082, 56456.28760582127, 86412.89318652585, 41530.43152703144, 14784.100757667067, 87822.49372536453, 54680.17891774478, 20059.557518235903, 31419.705357111932, 1088.7460065423656, 91970.58882832061, 26973.519102541293, 18806.024342286022, 36077.002855429484, 0.0, 44710.18229324208, 46283.508814674715, 35210.67838541648, 30194.143885007827, 32400.174823593843, 29443.10589961274, 0.0, 32827.12556019114, 0.0, 0.0, 19897.87778446736, 81597.2757021111, 70361.89090620159, 0.0, 21066.64906601081, 50866.1575076771, 21162.692184240295, 83134.30550282032, 84648.49667255153, 0.0, 0.0, 88216.02546272206, 17025.477921714104, 0.0, 32553.617006523273, 74011.32238667269, 19160.834397749073, 53131.94596729457, 644.6822219042369, 0.0, 15476.952417072462, 75633.31957659751, 28532.8068973927, -0.0, 13510.311656607955, 127592.16610843406, 27951.23478197804, 24527.590667981247, 44923.32120570878, 0.0, 0.0, 0.0, 123018.03362022372, 44982.7528321358, 129285.87820318347, 76909.00486385167, 30133.97177579935, 89784.46730963321, 37077.15870483816, 35005.99730079612, 56508.64312831746, 0.0, 0.0, 16699.607278623676, 42254.92574399841, -0.0, 0.0, 74242.16673320835, 26502.858728117106, 60824.34852712514, 27146.447689854627, 0.0, 0.0, 15143.916322912584, 67524.21502076264, 0.0, 35992.392976229574, 94664.75501121522, 38556.809156787, 62721.54048912885, 67435.49584883102, 0.0, 0.0, 91633.91155778524, 0.0, 34100.16453120121, 154759.49302149797, 0.0, 85871.13961962558, 75259.95904579142, 15623.227351711335, 25910.98761284104, 53457.66108783486, 0.0, 138349.61726132635, 28578.101086811366, 40610.32577672429, 34393.023061313026, 8208.744421794268, 0.0, 58601.12783067275, -978.0219468139694, 0.0, 68887.86397805251, 30896.903315189265, 91055.54297619747, 93880.9474313356, 91564.85914956755, 14716.386572758463, 101126.55159085168, 65279.34533401436, 20561.804359940405, 18241.043416529283, 0.0, 44108.64018214715, 0.0, 65317.0952884476, 24104.08372872733, 66038.23168020108, 13229.321958045592, 219481.07442270254, 0.0, 0.0, 35997.71163665844, 0.0, 45459.48059776504, 25903.14637251536, -0.0, 0.0, 0.0, 0.0, 35125.90405261863, 0.0, 0.0, 0.0, 0.0, 12906.14859802254, 29363.672287834983, 126101.55697221484, 11710.982260730816, -0.0, 0.0, 34715.61054418271, 0.0, 69447.248019658, 46149.376817672455, 111065.2625919708, 78670.43025693772, 35455.43311653953, 27404.735626277892, 54968.15971814064, 48045.04432262841, 0.0, 44914.65801715007, 57499.68819290644, 0.0, 180072.18735284882, 11915.171604438146, 30178.59834876188, 28041.722197179886, 38410.70345964722, 59922.03480044997, 17370.88227881686, 51173.64987049412, 121793.41130730667, 25933.936907494994, 0.0, 14963.096905722254, 98417.11315025645, 55642.633361974644, 54836.4690684941, 44447.08782197602, 22126.991004684067, 19881.047217582236, 44949.699436599185, 43074.60798086476, -1188.0243471557478, 52296.143773091084, 32895.18056523701, 37890.02420645018, 0.0, 107289.63277767989, -0.0, 25377.525415642973, 0.0, 18910.1040601164, 69728.42194711824, 0.0, 39874.064441906085, 39743.70198632934, 0.0, 37617.36352539528, 84970.6473594865, 387.9577461386216, 86038.08409958048, 96188.42781937073, 33659.80567490254, -2707.3346830052324, 39861.830133322364, 103157.157044263, 0.0, 3029.539921917516, 26784.79530730375, 19000.78135504236, 45398.422396321635, 62091.73154504708, 0.0, 54583.299610161455, 58214.130946624704, 30339.4879287995, 37794.885864881275, 72113.21248854804, 29756.615310822788, 0.0, -653.7289170107251, 33029.300042418414, 0.0, 35016.77417215801, 81074.48206366433, 0.0, 19033.845255634515, 0.0, 105154.51877604361, 0.0, 0.0, 0.0, 108525.95012960886, 5733.360748432344, 76457.37325958078, 5045.278864099077, 29730.307219495327, -0.0, 54154.362520079594, 13386.446828572734, 49286.91654726499, 0.0, 44152.12520663501, 0.0, 0.0, 153602.46035300678, 0.0, 131051.41667622965, 14921.120985224057, 157728.27648056723, 17061.419631707307, 35163.99404936546, 0.0, 82255.7073997315, 49041.04757287813, 0.0, 0.0, 63544.6015227325, 31268.06696612423, 33238.56231893602, 0.0, 71326.61709468186, 0.0, 64954.63823045441, 0.0, 17479.432188077044, 0.0, 99740.34764451405, 74430.92834373159, 52311.73729010738, 74670.1431526879, 50388.9858206425, 17475.87838202811, 31819.62361141533, 59279.52168722835, 2502.5300383525173, 56845.89547611037, 20499.365227838716, 90088.45398270091, 68809.81637972954, 35890.2973021254, 55154.727922413294, 39651.35999589876, 38272.90953498671, 101886.5827286955, 0.0, 55544.015788724675, 135724.69571543433, 53415.93024244218, 28416.025574940286, 0.0, 44528.4603320469, 0.0, 0.0, 30744.022835609852, -23.259199758191244, 54904.48798429847, 24447.09801452185, 65664.66463846836, 0.0, 32646.293615705858, 74121.17002624046, 50331.50483572675, 84271.67896239492, 48721.85899962607, 0.0, 0.0, 22360.89770805702, 38510.67388785034, 15446.581715376175, 58364.58760373271, 50287.68740097515, 23919.120018468442, -1777.5139490160363, 48902.18646295171, 32489.477288747265, 0.0, 71053.27114253733, 0.0, 39550.30221976637, 31832.404099255626, 27168.770138734457, 0.0, 66394.23732428989, 45795.18356199909, 35036.96615560676, 0.0, 0.0, 43490.08861616321, 50239.067269219144, -1406.6931472050637, 108560.89762177385, 66986.88058874567, 64427.56043832094, 0.0, 27345.711897703848, 9382.273609362426, 17761.734300817683, 96533.6318533929, 6815.1008870295045, -0.0, -0.0, 74374.67221787942, 0.0, 26174.29076627636, 74090.02867173051, 34851.67496919868, 30441.54960660814, 172050.90526881872, 0.0, 91869.00592815931, 0.0, 90052.74935717336, 66728.5685574995, 105238.4269090012, 84027.09033814978, 115380.15964844587, 83980.38857639208, 0.0, 22709.97314130867, -0.0, 132894.85021848022, 50472.650131216855, 34817.756276906, 0.0, 0.0, 0.0, -0.0, 12638.303077739401, 20352.7801506728, 0.0, 41531.421207575564, 0.0, 8836.295110617808, 91795.74824469301, 87704.87315868188, 0.0, 1116.9108528136858, 47661.37211306562, 0.0, 0.0, 0.0, 12821.550182272636, 32349.994394296344, 45261.6106730575, 0.0, 0.0, 0.0, 0.0, -17105.76585227465, 29881.390981216624, 0.0, 96094.71724135679, 0.0, 14725.057548307814, 45595.80119154771, 60702.996691792505, 417.051937131313, 109607.32703476606, 74261.97474877324, 86703.88023731404, 0.0, 5557.09508605006, 42936.3674643476, 0.0, 45589.949204031116, 72871.48453723881, 0.0, 26212.243224729726, 53082.79352198809, 9603.862179623378, 0.0, 96057.06988977926, 0.0, 25688.084376599814, 24170.47140293813, 16292.251219126425, 6150.968699552148, 0.0, 67287.40469388242, 29781.72735940959, 0.0, 92033.15928264146, 31009.782169316895, -0.0, 0.0, 8386.362115698343, 34602.15406783443, -748.2278659744479, 0.0, 32178.59242278943, 0.0, 68875.76717197715, 13425.831025098378, 61327.053361845465, 82928.15146083644, 0.0, 126912.57331841692, 26636.33090640258, 66661.8786659808, 95196.30781293049, 37440.48532727244, 17299.760946997616, 87289.40371219421, 0.0, 91011.20464431462, 8917.731996553892, 27126.594558381796, 14512.696417981875, 36728.10455293811, 51137.52367345698, 26515.848775374994, 73492.4600766536, 0.0, 39971.00691968808, 140069.09371186854, 0.0, -5828.023182829798, 22781.560361128562, 53314.05871714663, 0.0, -0.0, 42820.494771246566, 126671.3195666605, 0.0, 0.0, 19275.40565339758, 71733.69798890245, 48990.65537368151, 128288.49889717659, 27702.601559091883, 69864.65262001476, 0.0, 4673.98189385375, 17156.697408713488, 0.0, 20803.585831365664, 34344.24029083582, 74338.07302456466, 101206.97356260981, 9272.147270268935, -0.0, 7972.11902988347, 85390.85974057906, 95839.81290488236, 0.0, 53754.547323706065, 10685.588510385336, 113249.73806032076, 17909.739133224328, 5816.293892467627, 39063.93080165377, 15386.743407967238, 54689.480309525825, 0.0, 78247.64446104525, 0.0, 66647.21454894406, 17853.01607830741, 0.0, 59495.26819582214, 17402.132074733032, 30320.48417409879, 88776.77560310654, 82271.90212530026, 94443.72115492038, -0.0, 51047.79533582882, 93078.16406670192, 91594.6595466625, 68017.46540645469, 0.0, 0.0, 26698.947619598563, -0.0, 5074.507204122841, 37548.478265968966, 0.0, 0.0, 21589.610192228254, 57413.766705053946, 91906.22596448526, 0.0, 85856.99630900484, 51486.3838055942, 88879.0801870058, 88165.25532004514, 0.0, 95253.97921524881, 7747.790837171327, 4437.474654340418, 33528.06421905308, 37917.846671901556, 0.0, 23640.098079984484, 48379.41663779502, 17014.555217289075, 34752.21195961881, 50416.264479676116, 34697.31406466494, 45936.75554640283, 34815.317877190886, 0.0, 40859.78967502428, 50609.72465497916, 42072.97259401865, 19445.0014931263, 94558.69047522408, 98609.51318565846, 0.0, 0.0, -0.0, 50618.262016854685, 23568.37882892188, 13257.557940456682, 53155.96228719081, 5838.841758085968, 57133.85081372279, 0.0, 93706.32184521339, 30587.29393679512, 18510.527475412615, 0.0, 0.0, 24488.656876275374, 0.0, 0.0, 0.0, 0.0, 0.0, 131624.48866266297, 0.0, 0.0, -0.0, 0.0, 28563.156429015333, 21571.406150854164, 76960.2717915654, 3123.2380322800163, 21589.343448911764, 66255.99492951404, 0.0, 3493.282141265212, 27241.66716181487, 97405.46999203577, 61946.037866483006, -372.5321261244244, 62980.83983930186, 94895.26106073422, 52844.55006226085, 62292.499913486245, 0.0, 0.0, 14425.151534306176, 38922.23661990804, 62623.17947576905, 86975.81337267355, 32821.4677434199, 44211.75900257475, 64205.10275574561, 88699.77998157465, 24230.081836902362, 60375.47287792145, 0.0, 0.0, 72554.4559816918, 58995.49790972198, 14565.013130637817, 23743.898632625234, 20241.097247790865, 18246.880473721714, 0.0, 0.0, 0.0, 13699.038077280362, 101406.39170838628, 98871.77890376488, 19205.192338698253, 64648.82780110065, 19971.49538851509, 0.0, 50251.269083510095, 0.0, 11976.521974165735, 120908.36619697782, 94315.53559439, 62572.72681082104, 105312.02030707581, 32975.21492201209, 68331.4786357873, 17597.87258178607, 57779.44000863959, -0.0, 156054.33179757826, 7949.225803375957, 75364.07783192565, 21868.970151254616, 0.0, 0.0, 0.0, 1661.8045651449793, 132673.40069928824, 41383.15283442286, 67909.80787047936, 77961.04638153617, 113306.22483230836, 47801.77205295756, 134595.31776229714, 70472.26762349834, 462.27734750196396, 142136.5207890746, 39526.01242404641, 45682.90198788332, 23311.921783611935, 11970.894427533553, 0.0, 66235.70700253276, 25465.41567059554, 0.0, 24625.947775988694, 0.0, 4786.785821399113, 59687.81741657853, 152178.8686268087, 85932.94571743943, 0.0, 0.0, 21664.654752627015, 49052.00331690407, 7400.153840382249, 42956.858718320844, 20448.645583970996, 25288.415886957722, 36377.29739661713, 0.0, 0.0, 0.0, 61448.98121878182, 29193.76171989707, 29506.494698051043, 14912.949428907275, 0.0, 10311.708742437244, 2231.9487886895076, 116374.21414972321, 26435.24740574436, 126575.01884742978, 20323.33307356137, 67570.10650815011, 111475.21911833086, 0.0, 34726.65091220211, 55001.59011315351, 26444.340921803145, 44625.709705759335, 0.0, 35627.84496112875, 25962.55281870629, 85512.59455870438, 9350.56903549895, 51023.34653984921, -0.0, 25074.721300171514, 17292.899782255758, 44205.55405920194, 0.0, 59964.484319984884, 0.0, 25596.576865391165, 45589.86273859607, 32560.138996483525, 0.0, 85854.06610449796, 15157.417463201476, 54629.5535921219, 14332.659974947397, 62757.272446419345, 26370.356335692748, 68287.00267358357, 86870.7670326166, 0.0, 80942.07490482094, 0.0, 27360.163358696183, 31498.581885980733, 54651.03676818812, 37360.94114184132, 31020.875576036633, 0.0, 29591.034776116547, 31070.694509921595, 86468.75704715244, 9848.975339535915, 35196.64582202482, 103994.8484486363, 28507.888242292946, 3831.220932421944, 80219.94759977833, 0.0, 9783.66133956278, 70434.40869961813, 69439.57492186115, 29449.909797164903, 28194.862399591948, 15577.217530533875, 26323.603398672072, 23381.200091858307, 8118.953549456637, 29112.92458265557, 32192.18771182865, 43781.90002310727, 15025.977429018501, 40178.88677704873, 0.0, 0.0, -0.0, 77297.49688018145, 52898.16205245661, 87088.55681516492, 17134.463142127468, -524700.2731727394, 0.0, 59634.78321221733, 38675.16777398996, 0.0, 53685.417532967025, 50250.61447318009, 31015.177133517776, 56501.03384734038, 16415.78416072647, 6633.055385738378, 65833.83835105837, 0.0, 43645.012719205115, 76911.3439318795, 39667.93239331452, 0.0, 13307.133142001898, 67626.72616974756, 0.0, 0.0, 0.0, 0.0, 21625.431450289325, 0.0, 32382.784664145118, 39507.579520565865, 31013.818448908045, 0.0, 58956.24253104284, 0.0, 0.0, 31140.36736155217, 0.0, 0.0, 26223.68111012489, 39752.379434202565, 0.0, -0.0, 21825.852850449504, 16323.45710759249, 0.0, 60342.09135259304, 0.0, 0.0, 53800.04165046298, 0.0, 133128.86438574802, 18930.836766016, 29636.85355880676, 7334.212519018329, 4303.296833763845, 55767.44121760514, 4269.719587912245, 51999.67579985497, 52508.397607567254, 51439.909722424345, 52119.54236406193, 28574.090513421455, 39787.108613967604, 26984.084270833264, 0.0, 14554.430995177594, 0.0, 35700.875892614014, 64059.8871636026, 0.0, 65590.56243574407, 55126.09467120818, 21704.31128311722, 62712.71584979596, 0.0, 34778.95346578723, 77184.86408750611, 81584.1647605339, 100961.0428235355, 102937.48600079835, -0.0, 67014.33245144473, 860.0722066456947, 0.0, 101484.81987202825, 0.0, 75361.0060155761, 0.0, 40863.92448424315, 73872.66007670396, 80871.75325844763, 19066.048207748623, 0.0, 23152.14426116849, 50748.20829139647, 0.0, 68726.83542499068, 70350.12227748116, 160559.39947468467, 86251.52435947681, 86005.22017710638, 7638.668766238014, 41607.30325567591, 0.0, 19070.47793885434, 16839.9866228491, 4116.362497965034, 147625.01968120487, 8937.634550935923, 0.0, 4027.4959960416018, 9086.210885901251, 29979.438217757503, 81211.4803244033, 43077.82862213525, 29456.415865339688, 23293.05850502345, 13764.365481841203, 49351.63794697396, 39536.7486316009, 40512.54064237725, 39639.8239151802, 97930.72451759642, 25484.222958763683, 94228.9201782042, 159145.74903976958, 0.0, 70533.57349131649, 0.0, 76014.62755855944, 26279.105013539433, 0.0, 21376.57299329652, 0.0, 33567.47295995586, 0.0, 0.0, 45448.69596066719, 56932.82833104901, 0.0, -0.0, 22510.424231567187, 0.0, 56961.226456210774, 0.0, 83122.67947471852, 31024.304066883895, 84955.4965957549, 57721.67517649749, 0.0, 65815.8941174843, 33521.97425676105, 54126.234349031176, 56342.44360126171, 69533.28512357906, 17069.02042321008, 79841.05295306662, 13308.509994349646, 44810.53936564305, 122944.42936081378, 99551.95709638859, 0.0, 0.0, 24361.242480082117, 50908.372703887784, 87740.66475228002, 80861.79215576459, 0.0, 51752.2831137763, 0.0, 7676.08279585118, 52883.51915159184, 47826.938393279095, 33424.24410141216, 0.0, 118893.60972595954, 44821.992671984015, 1910.1613302241021, 71469.37806736268, 35037.10880170099, 0.0, 8545.247518421573, 30494.218551801285, 14549.838146243885, 71475.48961233516, 22615.2602327528, 26603.266674481623, 0.0, 95775.86360584755, 0.0, 0.0, 30539.57425248719, 24829.577733113954, 0.0, 0.0, 20018.99768469797, 70647.94398514926, 0.0, 0.0, 0.0, 0.0, 66280.72467740145, 36452.99415366133, 0.0, 31993.4408887474, 107789.59175762787, 0.0, 39349.460072030895, 13091.292747796164, 0.0, 0.0, 103372.68032817211, 0.0, 33575.122717190156, 81937.84070422317, 44637.56707027627, 0.0, 20226.068092598376, 0.0, 0.0, 35613.040173771995, 0.0, 0.0, 0.0, 26523.382258393627, 39810.740783879475, 126271.43431206408, 16391.517996488605, 105218.35099804236, 74402.73871151631, 0.0, 0.0, 0.0, 0.0, 0.0, 19549.84648130645, 13730.199755203153, 106822.47524418027, 0.0, 0.0, 0.0, 17435.729209834768, 134792.0589701828, 0.0, 24292.920280216582, 0.0, 50006.13387510684, 0.0, 46571.473040569574, 0.0, 0.0, 16242.336338970665, 0.0, 72850.6943918408, 0.0, 17124.420283833402, 50562.00867395528, 98543.5745041362, 99085.2864758551, -0.0, 27781.694191440736, 114584.46500349187, 56722.49513154337, 43290.24338597234, 43522.00374013523, 68644.63025828192, 18407.298299356044, 0.0, 0.0, 34974.827760929446, 33921.9442505631, 10891.910706327384, 43749.4428119036, 27435.78344771918, 50120.42308433543, 0.0, 0.0, 0.0, 16110.949334792764, 0.0, 70926.87364845243, 64539.78371286602, 47313.9152031026, 78098.65287315703, 46167.020947217185, 0.0, 60959.88857789888, 81019.41691560729, 143469.82653269163, 3139.8336606802186, 138394.7039055743, 0.0, 13517.587420959011, 76515.24182884087, 124677.18865249777, 36212.713072891755, 58464.12997674578, 97958.21287818841, 131341.6529960556, 19207.984244583087, 25676.96417541048, -0.0, 12746.811778689109, 22941.874849544896, -0.0, 7740.995252480672, 0.0, 40629.087550912576, 14270.77210788714, 90841.51435950497, 150709.45676313678, 0.0, 0.0, 72609.70880452587, 31215.38958519898, 13206.596826821391, 114287.79876207214, 79099.20470544978, 30930.632957390248, 46207.97176778683, 53433.59216940301, 87449.08202748658, 86842.18731899111, 57119.65165124551, 29684.89682279306, 32754.181882653997, 36246.86384224068, 0.0, 30714.56207069385, 61693.08724174544, 41918.30423260832, 29538.454860376136, 0.0, 0.0, 69092.04711980672, 78344.26596354498, 32350.00176336168, 38790.24662057316, 39851.07424293534, 148488.3548055209, -0.0, 38729.556006232306, 16653.872486369248, 36663.15571476548, 0.0, -0.0, 91437.7848188139, 86493.26130583961, 0.0, 28404.127008398966, 37756.12582401821, 144679.3780322853, 0.0, 0.0, -0.0, 0.0, 0.0, 0.0, 63293.252220936, 0.0, 0.0, 21453.28968933443, 22172.111016938346, 159119.02478162874, 42229.57325649046, 90716.72883385952, 21743.250903468113, 31346.181783925305, 0.0, 23346.911086042557, 22781.137839018687, 36427.362839515816, 38572.493477930315, 12265.739093466429, 85430.6080969515, 0.0, 0.0, 18396.41614414667, 29105.919681193074, 86825.32541842677, 50682.98683030496, 72543.19965983325, 128640.44767421935, 121763.5378034435, 0.0, 60102.17794882727, 0.0, 32774.48293607749, 0.0, 16448.083755565516, 0.0, 0.0, 63736.6658637918, 26389.13494611261, 6446.276749864992, 0.0, 40520.33872361577, 25443.951715403993, 151337.33749829885, 18665.901063046156, 41958.9624382311, -0.0, 53229.471578943834, 0.0, 71117.24994489356, 50409.48144553468, 0.0, 32182.1045735098, 65751.94113770756, 50708.672976957605, 0.0, 0.0, 62850.729519826506, 0.0, 0.0, -0.0, 56873.09494692908, 22489.79151537968, 106198.95833470725, 26020.527101904096, 4047.3384184049064, 42347.00709007602, 66675.87841049224, 25421.876851330744, 54478.41331474751, 39560.532762062125, 0.0, -3598.558732346515, 23415.727316716657, 0.0, 78962.36127018309, 32681.51750957864, 11360.344264074389, 0.0, -0.0, 0.0, 0.0, 0.0, 63302.81544417993, 0.0, 32978.95907068136, 36082.94521696228, 0.0, 25308.40646410879, 77323.36427170466, 96139.6460496264, 82198.64014625843, 111064.51131643823, -0.0, 49262.6064194355, 37748.82554190728, 0.0, 4125.639284365199, 0.0, 18559.49214434062, 0.0, 21442.368187894055, 0.0, 34852.6953024134, 85293.16523204939, 0.0, 10330.26701609588, 26803.387188339024, 0.0, 33339.144535171305, 79811.26680004707, 35817.83414093798, 0.0, 47221.857944835094, -0.0, 17484.50373693544, 25868.0427931734, 33264.95321479466, 0.0, 129073.08689658047, 30690.565664325928, 34951.29091019751, 95888.76763567014, 112245.63888096446, 0.0, 19000.416640107956, 12877.889916759625, 133231.92196971274, 37700.518613517546, 88911.20040870135, 16968.275129718997, 24153.645367126825, 51762.47121129176, 15544.451888085634, 32221.526819834486, 116222.98907302762, 0.0, 0.0, 6953.840793246607, 0.0, 0.0, 36171.18436521376, 82350.0607510551, 0.0, 129880.48519846026, 72811.74162508186, 25082.847959082515, -0.0, 29016.502244906354, 43526.27236436514, 0.0, 47196.304233788105, 0.0, 8410.170483748283, 39488.74032371151, 34830.63448058051, 29484.04332990863, 35317.485232696665, 24687.06190185281, 47127.692755366705, 89972.36712918908, 107356.3339596221, 25336.84372298958, 43420.9552109084, 11826.50499399865, 35026.08000018302, 95941.8982562387, 35583.009319592675, 50951.92672802103, 18246.34414008315, 0.0, 107206.54114197695, 22765.01055980663, 0.0, 33075.16327015596, 46309.920774901606, 0.0, 0.0, 31414.980610460276, 32558.318769990816, -713.9236379840149, 8351.881833588253, 30441.564805928298, 27103.71645166783, 15991.30323144549, 51372.587701957265, 18798.151458509878, 0.0, 36284.42184293037, 0.0, 107372.23987067468, 67568.28729815781, 42065.58054703957, 0.0, 39954.551799099485, 0.0, 34760.40821777185, 23671.946734494704, 67145.40723194875, 62969.31938379104, 85162.88062488515, -8065.945760693794, 21793.607514210744, 23973.31272700822, 43436.452115130756, 0.0, 36291.29275555382, 0.0, 0.0, -0.0, 76981.27256230003, 26922.635958795552, 0.0, 0.0, 0.0, -0.0, 0.0, 12325.851685099726, 52112.005667242454, 27994.22379563941, 63936.827084197896, 36312.8631932601, 101826.98002711072, 27139.26408097855, 36072.5372615261, 43884.53257994831, 12656.76288422897, 64293.34705625856, 67773.82467111284, 24555.809719870973, 27627.02771759394, 0.0, 36493.8460426415, 73309.51573238743, 67924.69159385233, 75195.66595885574, 25636.860550479556, 6183.872834895228, 98015.18718084058, 0.0, 11715.123185563833, 64382.9188625018, 43957.69641106017, 0.0, 25891.536220027338, 10551.802632470222, 35694.60556755503, 0.0, 28578.442423941335, 25017.65588798045, 21045.242911167355, 0.0, 10904.26423143447, 111855.87726384448, 34557.11108641481, 0.0, 72917.24871902779, 36026.41531249895, 19713.80043760952, 71193.21927635759, 114235.22150819589, 68772.24659136735, 19803.702729145152, 69735.91539396113, 14062.375056946592, 0.0, 0.0, 0.0, 64913.44388771552, 0.0, 15469.053737969807, 50722.7521809469, 88530.3546031132, 25764.194252476154, 5302.840202769628, -0.0, 53747.99272374483, -0.0, 122916.74598876241, 156269.79552736273, 0.0, 55690.25517299934, -0.0, 57084.74874899103, 0.0, 59634.71211115821, 0.0, 27398.039718665124, 14563.373337588739, 0.0, 100983.50857112094, 28646.494592126634, 34618.55943266812, 110862.6614770894, 0.0, 37956.78708713449, 121833.272364189, 68048.38572354798, 55604.67365990052, 0.0, 61520.878965742275, 50528.72787279685, 66351.31874055567, 17638.55108260049, 0.0, 51778.10149729476, 62559.614269212616, 30234.06302402474, 114531.5652976481, 73720.77562210153, 20612.73087652374, 60135.41064297623, 7818.24202576917, 19798.705971643474, 37662.473320884135, 92694.09714372325, -0.0, 68086.9197416584, 34803.784215688414, 45414.016576398455, 48581.16339623835, 126009.11421512286, 100565.05417342993, 143929.60210792936, 79526.22820817193, 0.0, 75265.89404706922, 16968.851913999766, 70358.78462241002, 0.0, 32914.28447450863, 66260.5323688146, 37417.29655798676, -0.0, 9078.54861155161, 0.0, 78977.7278551971, 46522.26329800728, 0.0, 56811.67095791051, 90918.32335413905, 0.0, 53805.24781903339, 0.0, 0.0, 0.0, 9640.138533577585, 31757.55728461803, -0.0, 55207.48118018135, 42614.56846908643, 39857.70823058768, 0.0, 35164.12705801727, 0.0, 57124.57467071252, 0.0, -0.0, 92749.98678973073, 109836.06630332363, 16864.490389547806, 37231.0525344075, 57502.463401533256, 0.0, 35853.34311186787, 19492.462663998507, 0.0, 6369.929599543844, 64095.49084408331, 28248.203749231063, 57353.371599499515, 77862.41178405337, 0.0, 19765.677547000436, 65579.38046420994, 0.0, 10728.659154433582, 45650.585111281864, 31151.61699485354, 22523.978442888765, 81196.50854146606, 14110.007103490701, 0.0, 22620.00785766536, 329.02394505176926, -1379.0234913824388, 0.0, 75039.5854760429, 9542.387208715314, 49061.837011137686, 0.0, 38116.21102262649, 114.75538148845953, 112937.64163372692, 0.0, -3461.8952423370065, 86160.49972717633, 33480.87933721574, 25493.58311060982, 0.0, 22845.091132452333, 0.0, 60861.969142658694, 41577.34289859614, 49282.869668696774, 27430.230885751633, 48029.99895192162, 42790.819137048646, 33836.68888764235, 0.0, 0.0, 73756.03751489965, 0.0, 0.0, 0.0, -0.0, 93823.31617699275, 37177.03535878187, 0.0, 6429.267371000809, 24874.75360075623, 0.0, 78617.93235991959, 46929.32305584068, 91390.137489716, 0.0, 46088.833998182556, 0.0, 45448.135519274394, 24385.742243150366, 37425.2263636142, -0.0, 0.0, 0.0, 55843.48780044672, 21479.222024714836, 0.0, 62193.221194464364, 82498.35382552058, 20992.760387053277, 48518.83392266111, 57069.151322737074, 13435.59888166713, 86058.4911474013, -0.0, 84034.17964322769, 39562.7081791051, 52615.263163646014, 59357.16341115633, 64269.21354865868, 9044.825804214372, 0.0, 0.0, 76852.31646150685, 0.0, 62983.58961207158, 49381.404289616534, 52447.801143088844, 41613.1772732682, 0.0, 22074.1419658254, 0.0, 36927.064589896996, 62640.983778467606, 0.0, 57009.36100903651, 128557.67879799567, 14517.708367279643, 27121.067235925817, 0.0, 0.0, 59234.218846213946, 0.0, 25522.452973225765, 0.0, 0.0, 68065.68774420087, 39281.46047858303, 0.0, 0.0, -4211.502935290962, 83532.16500634374, 22949.961652324535, 96244.18811194695, 86708.54417600652, 24912.857273334317, 62280.82269656248, 56461.01945333532, 0.0, 92465.72001694504, 41963.13670496296, 79108.61425761253, 60202.90241087091, 126201.67926133465, 16819.186722378246, 46539.503261955135, 18277.711846350634, 0.0, 13547.536734351743, 35188.87570123811, 22084.27062543371, 70422.27627741173, -0.0, 0.0, 0.0, -0.0, 66791.60405782028, 56650.399844003085, 29708.290913586476, 24943.56111686793, 8792.07815937014, 0.0, 37641.84969161279, 68468.56915874305, 29773.062403126794, 74057.30839420308, 36300.51913347465, 0.0, 21157.72693168794, 50800.020543435385, 102340.71939085517, 0.0, 24921.417584677256, 115448.64145884427, 36613.68299622575, 14282.101744033542, -615.8585766666511, 74011.49157607838, 23793.2690274044, 74607.0275679302, 0.0, 137513.6683961192, 28912.051952859678, 0.0, 0.0, 0.0, 0.0, 0.0, 85744.18642561667, 6877.977140060015, 10455.344109357626, 2021.294788567131, -0.0, 83266.27219275298, 68452.70773527375, 28587.204072592664, 91142.94800941972, 0.0, 0.0, 26767.02248015534, 33038.14667190783, 13849.506228748854, 31885.53641932216, 93092.88473624832, 84301.96105254191, 5754.46081242428, 16364.003883015306, 0.0, 22332.12007707733, 0.0, 27121.063089518575, 21655.235751003813, 33085.43793933038, 0.0, 7852.03053384964, 100809.0102892764, 65346.70676540039, 56476.08717464245, 26324.323892508255, 50780.3280151262, 0.0, 46638.11576533955, 0.0, 0.0, 41715.04184150795, 11675.447329727875, 43229.52678854094, 48826.59694835523, -0.0, 90452.48275709766, 27612.486851088965, 26636.330411326897, 75426.72780090611, 0.0, 0.0, 39200.01786610746, 48478.302930215956, 88523.09288130907, -0.0, 44418.307946557004, 35139.42959749774, 56074.91693697043, 45148.31140297619, 0.0, 0.0, 59081.88177157892, 0.0, 17397.48252564398, 26324.338611574814, 46511.675391975965, 96073.91653885221, 0.0, 30864.59448868988, 5745.436146634718, 86476.48190139711, 23152.87079326113, 18390.601957629697, 93342.23803271085, 25553.500974490715, 35068.54288268293, 19514.176379301876, 57130.32691403985, 18253.63460557934, 29717.82366608223, 26021.631043441652, 69557.75384481877, 0.0, 23048.74736330143, 16715.381687644258, 0.0, 0.0, -3320.7486831525457, 8248.906850906074, 59993.032421418466, 0.0, 0.0, 65322.719912436994, 19905.76117922718, 21209.750666232227, 117957.61155576026, 0.0, 39216.00029346091, 31169.576883445086, 58424.84020712192, 60083.01179139246, 70324.96697721939, 66856.30593363612, 10353.76738379724, 60037.13368580901, 0.0, 71693.19897616343, 0.0, 0.0, 13330.714871840464, 62730.13969851905, 60130.56332554153, 64940.93276343495, 0.0, 31716.929287767533, 0.0, 31415.679723430367, 87094.32573743202, 84872.41309406623, 106285.85874862835, -0.0, 51272.74329498809, 0.0, 34249.08324015688, 75417.78368007287, 33670.01839813677, 17424.194352563383, 27436.198213521857, 12207.184102209096, 0.0, 11030.089651002127, -0.0, 90991.16210059097, 61277.757971559535, 92627.81405530754, 0.0, 0.0, 55096.26454654487, 192061.231123438, 0.0, 0.0, 0.0, 0.0, 44136.05628909104, 29974.211630028265, 0.0, 130544.82783887422, 17219.573204886983, 49249.01142759164, 44781.6702148811, 0.0, 0.0, 23670.04212512946, 51346.520202228305, 21057.5247533987, 34122.819683350855, 111465.77922512393, 122200.07155505024, 55722.22847469064, 0.0, 73403.41383448103, 0.0, 57982.3399919004, 30702.15563147288, 43382.20914679588, 36933.39462832763, 0.0, 28361.154856806068, 38936.099098486826, 72404.28291651266, -0.0, 52370.84355303616, 0.0, 0.0, 26960.482750277122, 56786.51877007095, 112205.22327310292, 0.0, 76816.13459304051, 32556.21731527566, 96536.29678385644, 53092.35020436242, 0.0, 32092.913490738894, 16994.698525248532, 19921.28830907395, 0.0, 0.0, 70459.79891000333, 106082.2575290667, 64800.63417538232, 11508.765286758746, 61312.97385068724, 23067.851860423863, 113414.43900134877, 41880.65670329466, 61497.593003071146, 19408.847325829556, 89777.21770602555, 42732.81804042825, 100596.65137050304, 0.0, 61804.41814982766, 54892.822483683674, 2707.0454052771966, 0.0, 36243.57204919521, 107431.96446670516, -8529.577006402847, 30112.68406230869, 7299.354349829882, 10311.754430563524, 41934.55942627651, 137260.6861896883, 42943.663797181594, 26754.337627502333, 47832.91791728008, 0.0, 28294.29010871143, 58822.12294168121, 28980.319276067807, 45475.688845302735, 24942.992082113633, 33413.90879522241, -5004.84225605354, 173018.7325970247, 52521.404150574934, 59211.012314808555, 56975.43212669235, 0.0, 17310.50597034811, 62114.90353949572, 81111.59620584027, 71753.24087660795, 0.0, 20686.10178172507, 45401.98876379861, 168121.00275696057, 33792.38460334437, 0.0, 0.0, 20689.393040855357, 27427.681519369653, 0.0, 17138.09230471187, 95383.43996554811, 108700.46541563733, 23280.19608475716, 79675.88284545761, 0.0, 32605.19855642144, 84684.90694517989, 35055.18009210983, 16013.888587417285, 15426.631193755136, 0.0, 0.0, 71896.80434795862, 0.0, 0.0, 43532.09905773669, -0.0, 85136.78951042675, 45051.11300745729, 128025.10566352235, 112067.68861423086, 73742.40095434629, 55577.847401473846, 13068.538124092505, 31242.509324051964, 8064.529021400856, 102658.47081366996, 0.0, 16826.663991309702, 148287.31910903443, 30507.84083043621, 0.0, 70197.87209802965, 0.0, 75600.0891918714, 53819.308594455855, 11684.188946183494, 1453.5546005544165, 67126.00900562474, 0.0, 0.0, 115179.87100503794, 31054.600454294414, 95686.9967316825, 0.0, 17665.58709208682, 111691.4151501857, 86438.85354733616, 0.0, 31284.14433785985, 4869.47150388392, 23435.05711500364, 66123.62904076444, 73341.11487467683, 0.0, 10076.627333048542, 79109.00242539952, 5910.622578249036, 16847.93845730243, 0.0, 36706.18249106684, 35364.60308117414, 0.0, 108979.42228053664, 0.0, 23168.451533706335, 37255.67176566637, 0.0, 35127.076067443326, 20349.768044519733, 63419.10560179505, 10510.628486772679, 26007.059189017105, -0.0, 0.0, 8129.095508597806, 16760.524416133907, 29766.927908065, 63407.445094320545, 0.0, 30505.54104564956, 32420.561777880677, 0.0, 87591.18116364596, 38035.36855364466, 66029.40963633015, 8731.095622506153, 10579.98688303263, 0.0, 70689.42335125103, 0.0, 0.0, 0.0, 98039.75888994912, 0.0, 66944.51215664335, 0.0, 29346.630356116802, 43285.88345955522, 3750.755608573352, 18471.273672136333, 33920.95287678827, 21309.207265410572, 0.0, 62072.72238997652, 57119.31775105154, 31401.7036169029, 176050.32690543606, 0.0, 45471.85928576026, 0.0, 75717.4905786713, 24137.70471039653, 88560.31363546522, 78988.23509851607, 11824.878284297913, 38190.33629167976, 35326.55430496711, 81825.7151967739, 92283.10914636825, 159222.46709543926, 0.0, 21457.53652437197, 65134.0025340757, 6094.67431755866, 41778.657648766966, 38097.4840467718, 64540.77768253599, 52685.98681008167, 40843.752356741345, 95242.37981533798, 0.0, 81706.45590915007, 60164.81389790104, 141060.33119935024, 76013.5455865169, 131840.11874611062, -16918.35174654727, 33131.80831218857, 0.0, 71871.6887597834, 39320.53955984363, 77881.09755814157, 34497.842025714956, 51423.42106196165, 73272.00695351587, 25308.468748798623, 27314.131169153814, 42623.5660819764, 10588.360519763286, 21272.99214575591, 0.0, 65658.59538267547, 108966.84284098793, 1457.5974872202205, 0.0, 0.0, 0.0, 140052.04616372677, 27753.785819471523, 38345.068424748024, 97888.1275099954, -0.0, 25403.01272163051, 54019.03163806547, 52903.66680782655, 87683.61828322208, 56092.004523787415, 0.0, 0.0, 0.0, 0.0, 77473.03835419973, -0.0, 0.0, 25580.99654824473, 50749.891436994454, 43061.01152605901, 27979.309819921094, 139167.8731877925, 0.0, 66628.52581408786, 28196.728075991326, 59072.234271696274, 122323.23376033883, 13619.618023087882, 37506.970019974106, 28631.82719626176, 30367.524151319056, 145703.24486129452, 0.0, 125597.19759317013, 7877.683193846533, 0.0, 71685.87746517136, 57940.43334105058, 38713.55348240698, 22109.291640167183, 137969.89966123455, 94427.69492360106, 0.0, 0.0, -0.0, 67162.93326314513, 92103.19579775227, 67665.77984231128, 62466.692453660275, 59279.05557799508, 42600.632564489235, 52852.475002516876, 64758.88510404297, 51549.49123151868, 24259.57139614891, 28239.279904771567, 27254.99582653187, 0.0, 99252.58974252362, 25319.806011040637, 0.0, 49841.60941589807, 31036.569211555878, 0.0, 80984.20225284615, 68829.14415780688, 32634.96498506333, 0.0, 27428.127182117867, 25797.171559328533, 61236.47591546536, 0.0, 0.0, 81581.73424869264, 31640.750416406954, 0.0, 0.0, 0.0, 72668.8621398271, 81868.23495179333, 101067.7346653041, 0.0, 31306.766642868897, 85174.12991776824, 16780.740693565225, 0.0, 0.0, 15307.95044548469, 84303.55250230373, 0.0, 24923.995979524945, 10708.393396322674, 0.0, 873.8090119280678, 149471.51489683194, 0.0, 117592.15479078432, 40393.96925451569, 37080.62909565284, 84437.85391169135, 0.0, 18390.76731433443, 31783.450773144898, 60631.70568156536, 64081.12474363559, 52886.97504424461, 80400.5939436187, -7728.877361563442, 17290.889930278645, 38407.0119328812, 28310.651818542654, 23575.69123228488, 6094.676806689618, -3998.9249685508985, 0.0, 54505.770588034735, 8491.712351464637, 0.0, 37356.87880585808, 78075.68767773305, 0.0, 0.0, 63665.16571855475, 0.0, 44050.28362293891, 0.0, 0.0, 16386.982380908914, 29804.8046537762, 123680.33825598433, 45438.22053658703, 52845.61081317841, 0.0, 0.0, 112335.73850631868, 0.0, 0.0, 37819.436562902, 17967.734033352084, 0.0, 49875.99166902952, 0.0, 0.0, 18577.341148218373, 30566.945388699125, 66217.20336823736, 36177.12255915647, 41585.63938760842, -0.0, 31760.83698398783, 96896.92358902449, 0.0, 7139.596061639051, 85407.55843236379, 0.0, 0.0, 56896.98064624518, -0.0, 25471.56782080166, 0.0, 0.0, 7365.703627308205, 50798.780341054604, 7187.3039080603485, 0.0, 34943.11709633851, 197420.34942949202, 58696.6719420967, 54113.66246413076, 56502.38749630944, 0.0, 33220.12086901945, 0.0, 22055.882781738037, 0.0, 39702.10485706324, 117856.4583657764, 27023.556685596617, 0.0, 0.0, -0.0, 34157.3303320134, 0.0, 92821.28768640416, 62343.551567217044, 0.0, 65155.69669185128, 0.0, 52505.7766039588, 70830.5843928169, 75450.24318648121, 42146.94017239701, 69581.39874889338, 11898.699374668868, 11406.342686550488, 106330.03983562949, 30783.316358599375, 13106.464260299093, 25529.28460795319, 0.0, 143826.21468164696, 55191.03182325899, 59341.15917575796, 34412.209839050396, 0.0, 0.0, 0.0, 72758.83607796158, 0.0, 166323.26874938124, 50247.21972045259, 0.0, 5542.973573538504, 0.0, 8717.168159095629, 111230.83192565944, 9586.26045949223, -0.0, 51911.45238674554, 39290.58310082505, 31440.776808697847, 70499.68624929865, 6159.282567300121, 0.0, 20697.962903204112, 17129.507664299803, 3384.130030803455, 40721.280675336864, 51238.37623165795, 30128.46546481995, 29192.353925926844, 38584.33857232478, 41030.86620442668, 18576.489207216073, 111065.50178836126, 40546.744187610544, 66248.7241218327, 0.0, 47349.10481368692, 82180.03879219215, 0.0, 15650.814072449866, 97834.21536816665, 103638.81659874701, 115201.56829799424, 14935.10008039634, 32829.466311617376, 68406.61517377335, 59395.7236394576, 83235.02865323809, 0.0, 0.0, 41282.723908065906, 35140.05769667367, 40553.93379069358, 0.0, 143526.07730469137, 0.0, -0.0, 105903.24992786394, 0.0, 34753.59382491128, 0.0, 0.0, 39417.97280702551, 0.0, 41201.52580614525, 62595.049633500836, 0.0, 27879.50113350083, 44249.78363617303, 23994.93333380294, 35710.051433515444, 91315.63555613827, 0.0, 0.0, 76359.69848935376, 1200.6201557591266, 18220.870023221505, 32254.75177974609, 33746.18459039889, 0.0, 3455.0724330570083, 0.0, 49914.583068490145, 19833.17962372207, 10346.07502342842, -0.0, 35878.74166762605, 32313.791937310045, 80146.26944935662, 180193.39500899776, 13677.30054382491, 84273.03512487121, 137303.14668293676, 71981.14871040118, 0.0, 26541.726105842157, 81772.2804670065, 0.0, 80068.63685076174, 35376.360305250186, -0.0, 7458.046814078276, 0.0, 30310.01044985978, 16946.78840768544, 13000.01236061407, 123130.34861596412, 62187.72688089937, 30832.013105872815, 0.0, 0.0, -646.3529248845589, 25019.007110856124, 22321.3854706625, 6432.42552095656, 63861.05346181951, 8590.250484731107, 0.0, 57290.2935852104, 100662.00336400027, 18558.911485769146, 50544.91877327947, 15133.77234317275, 42401.84579962594, 22615.538922705455, 33250.12056449556, 23240.387902089715, 117589.56028868238, 44421.695390466135, 42508.73338635918, 41217.22063340561, 31599.41205722987, 0.0, 63830.60331842431, -0.0, 50527.86536957513, 23244.7838615613, 30504.01741871555, 0.0, 23217.672924854764, 43797.359659909474, 75113.07715607551, 17165.89199181908, 125743.92376813738, 83940.2221191792, 16753.841949564434, 38533.05716375864, 78396.04933444402, 0.0, 23136.857123654336, 57766.91532741414, 54842.8245945494, 23277.481766315643, 122266.47097090463, 104727.3123316658, 0.0, 89305.37764327944, 67211.5693901431, 0.0, 37723.474026186625, 14875.864761438657, 28725.615201022563, 0.0, 90498.6199487861, 0.0, 45199.5026821442, 91704.62625308227, 95274.76344771814, 27360.749499967584, 90662.23545128267, 0.0, 0.0, 97409.97721937968, 0.0, 33455.43733824225, 82557.22861890151, 46800.9831868161, 0.0, 133525.52625952318, 40811.22454749126, 59325.22049317503, -0.0, 29660.133004683186, 51155.40953247761, 22007.63109244479, 66290.64424067893, 109429.10607750405, 24475.137472158793, 1421.082118382954, 15840.890913689975, 51119.64131199315, 11050.401176884101, 82053.54796300785, 0.0, 123412.96408122708, 0.0, 0.0, 76068.66468208158, 77650.50097668698, 32815.55481624871, 0.0, -0.0, -0.0, 0.0, 0.0, 75250.10637227411, 164774.53420788853, 17342.543842157495, 0.0, 83633.17576934746, 56078.24215855208, 115632.50838748069, 0.0, 31898.539165779977, 0.0, 108705.20813720793, 80916.0151495992, 0.0, 0.0, 0.0, 105489.97260363956, 60943.79599144755, 72694.80040819221, 59532.57422488983, 91625.64558461457, 0.0, 108591.95936681854, 0.0, 72518.82606663264, 0.0, 38929.610256406595, 42538.073484031425, 0.0, 65865.6423519779, 20726.276925576734, 57682.779452861345, 56770.41968495166, 0.0, 24347.51122265446, 78361.14377966124, 92887.76948330706, 271.90561910832184, 0.0, 81047.28408130401, 0.0, 0.0, 19648.742721832095, 57132.45527647686, 10457.500384114188, 0.0, 33605.02691902904, 46123.51473207606, 2181.430326565038, 40182.496122437966, 17163.345589231, 173645.94018812838, 0.0, 97678.71809931984, 83124.53940160386, 80084.42720827734, 72577.64458445559, -0.0, 0.0, 26964.800924834126, 0.0, 0.0, 104692.49664126229, 0.0, 0.0, 55032.46249171588, 22713.681530082744, 0.0, 0.0, 4003.5208878874982, 0.0, 12925.698252736445, 63936.82665312392, 29120.9628018153, 29714.94071895216, 13254.603969328004, 23438.219856817508, -0.0, 30297.74307250674, 76393.44133670937, 0.0, 61873.30552559128, 19497.946597663133, 38619.79222852565, 85066.59045381681, 19065.745453851006, 7383.021310458978, 0.0, 79684.94675997115, 0.0, 52796.84124624051, 64107.36932775454, 38798.379968766676, 55758.955257241614, 0.0, 0.0, 59579.26089903797, 36923.15935498872, 35293.84924202811, 30537.16352769101, 0.0, 0.0, 17543.145587545674, 61113.801174609485, 46918.42453671794, 34420.97205477458, 0.0, -2391.703049148724, 34900.87957000462, 106228.25434217707, 0.0, 34488.232502601895, 0.0, -0.0, 0.0, 0.0, 70954.71281337293, 13752.79440226269, -0.0, 38276.81046731016, 86307.22423716923, 27507.895302521443, 0.0, 32906.33446638848, 34880.495693943434, -0.0, 119081.32285646556, 35753.1006071154, 7665.039430652876, 0.0, -0.0, 0.0, 45217.18564685545, 47887.16921658997, 66158.82542119271, 14135.90108140459, 71517.6850759731, 0.0, 24149.769100696663, 105918.62565801517, 23436.83412020869, 36516.578874743456, 28831.654532064334, 132547.9002244447, 43625.70672880224, 0.0, 34022.32804908021, 57136.65840190105, 0.0, 0.0, 0.0, 59397.01215428993, 92123.27710596789, 31519.4172359902, 0.0, 68577.79301289972, 75342.28331960333, 0.0, 51284.053602514265, 49229.234838057484, 0.0, 0.0, 25911.64874142458, 0.0, 80060.47200070924, 22444.643075656757, 18444.1750167906, 22973.929268806038, 10785.912762338194, 22425.894595829013, 22801.803454351117, 54698.34265287721, 42706.71602029761, 27466.673143232183, 96290.71030226434, 0.0, 36243.28049112545, 50582.76663141674, 23239.073290040833, 36745.55217591874, 19779.83105238556, 0.0, 61051.534290180745, 43244.722277838475, 162143.6527323195, 15658.512800352939, 0.0, 26349.012329234713, 0.0, 11728.855926181524, 70176.3864061712, 58474.091783283104, 46977.29470152286, 10291.845067477407, 0.0, 0.0, 46103.11118717745, 79774.07607664572, 0.0, 57723.596849969064, 95642.68675430879, 59558.790089279006, 0.0, 98711.73596814778, 0.0, 53820.05185856018, 0.0, 96682.35904800749, 0.0, 97539.58767502921, 0.0, 17795.392934767646, 30979.07316844663, 0.0, 68199.32824343574, 104976.11118495621, 67283.35965398452, 72008.15255710456, 107781.8612657199, 0.0, 0.0, 0.0, 16951.10791403029, 0.0, 0.0, 0.0, 169532.10769849538, 3967.4811349542724, -0.0, 79539.48317855527, 60156.87090004966, -0.0, 108589.90400484417, 68141.69239990227, 27217.242110620078, 41506.24887088602, 99697.50580355921, 19008.138963806763, 34766.55431971108, 108936.80201169121, 75631.36258647175, 91552.0982590818, 17842.44876253375, 0.0, 39528.32416891781, 0.0, 107655.72675979414, 119008.85836855444, 44697.86243033779, 55319.9856372409, 65960.99611102551, 0.0, 24932.832789496635, 41428.33613581737, 72946.40291596093, 30548.01459674677, 39158.0280266433, 40578.16769825405, 61164.302041571995, 202664.56009122496, 0.0, 102244.66791642027, 145571.44976055907, 0.0, 74393.02535457312, 39684.35678643061, 56562.71570727503, 10369.080959319588, 100010.714074541, 15954.737189323787, 0.0, 0.0, 67663.19778937515, 58532.91896415854, 93768.85120224458, 45757.36038519326, 0.0, 91320.81418289049, 47905.75507487214, 0.0, -0.0, 0.0, 0.0, 1562.1685747514712, 71833.7525593476, 95649.17871414017, 83235.58972464118, 43504.92761091926, 41946.37668748351, 30300.661365605163, -337.7872103567497, 17414.539106151613, 0.0, 0.0, 20425.15788785348, 20357.260939585074, 13801.626999571774, 53395.43535475014, 24259.54612577107, 52001.31440796796, 65552.27648840068, 46690.88472973011, 29304.924974799767, 0.0, 43042.92797571997, 0.0, 11006.215848796608, 62086.168729146186, 59027.664356072375, 114016.2291876731, -9283.9894188295, 0.0, 22702.959189243353, 0.0, 5301.047096182287, 0.0, 67299.44789623248, 55492.9177181276, 4323.922432274878, 46099.486752928, 53910.12547161561, 15069.451849767123, 0.0, 42918.94042712884, 48890.86391620885, 0.0, 51842.641064175434, 47201.20460628194, 77890.44049261085, 76299.92065314652, 34341.517128391744, 17779.149949952727, 0.0, -0.0, 143877.7670146095, 90855.57329140656, 47946.47998316123, 0.0, 0.0, 0.0, 60581.5884027954, 73909.11374587694, 0.0, 14659.95400851476, 22513.245984860725, 14266.429606511228, 14005.170555549936, 59830.26267965863, 148676.1777353452, 60474.04528667405, 21551.935571336682, -4956.057529733167, 16851.67044512261, 0.0, 0.0, 0.0, 21072.025847795187, 45096.59215779608, 11962.940585372911, 0.0, 58898.87859160593, 16895.540118177974, 0.0, 31894.266203294275, 67788.33001361927, 8180.986088307487, 35751.404292550054, 44561.7114437063, 22399.41151485624, 0.0, 52144.674659116776, 51451.03474042055, 0.0, 55497.813142742525, 21642.36466335162, 71676.96671483232, 0.0, 85965.06269247088, 10672.506677396595, 61859.818733338354, 47067.35463499892, 32650.83564417268, 65279.93356780836, 108326.951464074, 30299.44415776804, 49211.12113497491, 0.0, 17712.16452301506, 51811.02533339881, 20023.22814029295, 41946.14258063733, 44632.12648116393, 31743.214492865984, 6023.142058652302, 10901.658735714765, 52687.828832184925, 22336.023156115785, 70734.45770203666, 13316.047744695636, 52704.27988269759, 5524.791875644572, 137370.39841085635, 92404.36720673149, 44344.509704792494, 97898.36038867017, 61173.66437543227, 88052.2068926323, 46137.90696251372, 81196.7602375795, 35126.60821678632, 2676.6468739078555, 7777.979205165888, 0.0, 58318.38052968026, 0.0, 12539.91689721978, 74505.5083524391, -0.0, 23811.466256026324, 3608.1173411910568, 47808.862265091186, 0.0, 110305.94263055664, -0.0, 96893.93150389363, 95071.92110313097, 63608.09326517972, -0.0, 31578.480161342683, -0.0, 41538.18576684533, 48398.74577766651, 15677.663069209462, 0.0, 46608.91573768953, 11647.383161169579]\n"
     ]
    }
   ],
   "source": [
    "predictions=linear_regression_testing(x_test,y_label,coefficients,intercept)\n",
    "print(y_test)\n",
    "print(predictions)"
   ]
  },
  {
   "cell_type": "markdown",
   "metadata": {},
   "source": [
    "Calculate the Mean Squared Error and R^2 Score"
   ]
  },
  {
   "cell_type": "code",
   "execution_count": 27,
   "metadata": {},
   "outputs": [
    {
     "name": "stdout",
     "output_type": "stream",
     "text": [
      "\n",
      "Mean Squared Error :  335774685.32100934\n",
      "R^2 Score          :  0.8521605786409783\n",
      "Accuracy is        :  85.21605786409782\n"
     ]
    }
   ],
   "source": [
    "print(\"\\nMean Squared Error : \",mean_squared_Error(y_test,predictions))\n",
    "print(\"R^2 Score          : \",R2_Error(y_test,predictions))\n",
    "print(\"Accuracy is        : \",R2_Error(y_test,predictions)*100)"
   ]
  },
  {
   "cell_type": "markdown",
   "metadata": {},
   "source": [
    "Ploting The Graph For results"
   ]
  },
  {
   "cell_type": "code",
   "execution_count": 28,
   "metadata": {},
   "outputs": [
    {
     "name": "stderr",
     "output_type": "stream",
     "text": [
      "No artists with labels found to put in legend.  Note that artists whose label start with an underscore are ignored when legend() is called with no argument.\n"
     ]
    },
    {
     "data": {
      "image/png": "[encoded data removed]",
      "text/plain": [
       "<Figure size 640x480 with 1 Axes>"
      ]
     },
     "metadata": {},
     "output_type": "display_data"
    }
   ],
   "source": [
    "plt.scatter(y_test,predictions,color=\"blue\")\n",
    "plt.xlabel(\"Actual Values\")\n",
    "plt.ylabel(\"Predicted\")\n",
    "plt.legend()\n",
    "plt.grid(True)\n",
    "plt.xlim(min(y_test),max(y_test))\n",
    "plt.ylim(0,max(predictions))\n",
    "plt.show()"
   ]
  },
  {
   "cell_type": "markdown",
   "metadata": {},
   "source": [
    "Conclusion\n",
    "\n",
    "The R^2 Value is changed based on the size of the Training and the Test data size\n",
    "\n",
    "The coeifficients and the Intercept values are obtained using the Least Square Method\n",
    "\n",
    "If we add a Error term to the Predicted values then the error wii be reduced\n",
    "\n",
    "The Missing values handelling mechanism plays the major role in the error"
   ]
  }
 ],
 "metadata": {
  "kernelspec": {
   "display_name": "Python 3",
   "language": "python",
   "name": "python3"
  },
  "language_info": {
   "codemirror_mode": {
    "name": "ipython",
    "version": 3
   },
   "file_extension": ".py",
   "mimetype": "text/x-python",
   "name": "python",
   "nbconvert_exporter": "python",
   "pygments_lexer": "ipython3",
   "version": "3.11.0"
  }
 },
 "nbformat": 4,
 "nbformat_minor": 2
}
