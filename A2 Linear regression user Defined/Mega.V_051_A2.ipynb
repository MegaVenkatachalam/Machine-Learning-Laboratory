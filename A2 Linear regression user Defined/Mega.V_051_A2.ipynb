{
 "cells": [
  {
   "cell_type": "markdown",
   "metadata": {},
   "source": [
    "Importing The necessary Libraries"
   ]
  },
  {
   "cell_type": "code",
   "execution_count": 21,
   "metadata": {},
   "outputs": [],
   "source": [
    "import numpy as np\n",
    "import pandas as pd\n",
    "import scipy as sl\n",
    "import matplotlib.pyplot as mat\n",
    "from sklearn.ensemble import RandomForestClassifier\n",
    "from sklearn.preprocessing import MinMaxScaler\n",
    "from sklearn.model_selection import train_test_split\n",
    "from sklearn.linear_model import LinearRegression\n",
    "from sklearn.metrics import mean_squared_error, r2_score, mean_absolute_error\n",
    "import matplotlib.pyplot as plt"
   ]
  },
  {
   "cell_type": "markdown",
   "metadata": {},
   "source": [
    "Loading The Train and Test Data Seperately"
   ]
  },
  {
   "cell_type": "code",
   "execution_count": 22,
   "metadata": {},
   "outputs": [],
   "source": [
    "train_df=pd.read_csv(\"train.csv\")"
   ]
  },
  {
   "cell_type": "markdown",
   "metadata": {},
   "source": [
    "Printing The Train and Test Dataset"
   ]
  },
  {
   "cell_type": "code",
   "execution_count": 23,
   "metadata": {},
   "outputs": [
    {
     "name": "stdout",
     "output_type": "stream",
     "text": [
      "\n",
      "\n",
      "The Shapes Of the Datase :  (30000, 24)\n"
     ]
    }
   ],
   "source": [
    "print(\"\\n\\nThe Shapes Of the Datase : \",train_df.shape)"
   ]
  },
  {
   "cell_type": "code",
   "execution_count": 24,
   "metadata": {},
   "outputs": [
    {
     "name": "stdout",
     "output_type": "stream",
     "text": [
      "\n",
      "\n",
      "The Type of The Attribues in the Dataset\n",
      "\n",
      " Customer ID                     object\n",
      "Name                            object\n",
      "Gender                          object\n",
      "Age                              int64\n",
      "Income (USD)                   float64\n",
      "Income Stability                object\n",
      "Profession                      object\n",
      "Type of Employment              object\n",
      "Location                        object\n",
      "Loan Amount Request (USD)      float64\n",
      "Current Loan Expenses (USD)    float64\n",
      "Expense Type 1                  object\n",
      "Expense Type 2                  object\n",
      "Dependents                     float64\n",
      "Credit Score                   float64\n",
      "No. of Defaults                  int64\n",
      "Has Active Credit Card          object\n",
      "Property ID                      int64\n",
      "Property Age                   float64\n",
      "Property Type                    int64\n",
      "Property Location               object\n",
      "Co-Applicant                     int64\n",
      "Property Price                 float64\n",
      "Loan Sanction Amount (USD)     float64\n",
      "dtype: object\n"
     ]
    }
   ],
   "source": [
    "print(\"\\n\\nThe Type of The Attribues in the Dataset\\n\\n\",train_df.dtypes)"
   ]
  },
  {
   "cell_type": "code",
   "execution_count": 25,
   "metadata": {},
   "outputs": [],
   "source": [
    "#print(\"\\n\\nThe Type of The Attribues in the Dataset\\n\\n\",test_df.dtypes)"
   ]
  },
  {
   "cell_type": "markdown",
   "metadata": {},
   "source": [
    "Finding The Missing Values in Each Attributes in the Training Dataset"
   ]
  },
  {
   "cell_type": "code",
   "execution_count": 26,
   "metadata": {},
   "outputs": [
    {
     "name": "stdout",
     "output_type": "stream",
     "text": [
      "\n",
      "\n",
      "The Number of Missing Values in Each Attributes in Training Dataset\n",
      "\n",
      " Customer ID                       0\n",
      "Name                              0\n",
      "Gender                           53\n",
      "Age                               0\n",
      "Income (USD)                   4576\n",
      "Income Stability               1683\n",
      "Profession                        0\n",
      "Type of Employment             7270\n",
      "Location                          0\n",
      "Loan Amount Request (USD)         0\n",
      "Current Loan Expenses (USD)     172\n",
      "Expense Type 1                    0\n",
      "Expense Type 2                    0\n",
      "Dependents                     2493\n",
      "Credit Score                   1703\n",
      "No. of Defaults                   0\n",
      "Has Active Credit Card         1566\n",
      "Property ID                       0\n",
      "Property Age                   4850\n",
      "Property Type                     0\n",
      "Property Location               356\n",
      "Co-Applicant                      0\n",
      "Property Price                    0\n",
      "Loan Sanction Amount (USD)      340\n",
      "dtype: int64\n"
     ]
    }
   ],
   "source": [
    "print(\"\\n\\nThe Number of Missing Values in Each Attributes in Training Dataset\\n\\n\",train_df.isnull().sum())"
   ]
  },
  {
   "cell_type": "markdown",
   "metadata": {},
   "source": [
    "Finding The Missing Values in Each Attributes in the Test Dataset"
   ]
  },
  {
   "cell_type": "markdown",
   "metadata": {},
   "source": [
    "Handling The Missing Values in Traing and Test dataset"
   ]
  },
  {
   "cell_type": "markdown",
   "metadata": {},
   "source": [
    "The Gender is the categorical features. So handling the error fill the Most occured gender in that Missing values"
   ]
  },
  {
   "cell_type": "code",
   "execution_count": 27,
   "metadata": {},
   "outputs": [
    {
     "name": "stdout",
     "output_type": "stream",
     "text": [
      "The Most Occurred Gender in Traing Data :  M\n"
     ]
    }
   ],
   "source": [
    "most_frequent_train_gender = train_df['Gender'].mode()[0]\n",
    "train_df['Gender'] = train_df['Gender'].fillna(most_frequent_train_gender)\n",
    "\n",
    "print(\"The Most Occurred Gender in Traing Data : \",most_frequent_train_gender)\n"
   ]
  },
  {
   "cell_type": "markdown",
   "metadata": {},
   "source": [
    "The Income (USD) attribute has the numerical values. So handling the error fill the median of Income attribute in that Missing values"
   ]
  },
  {
   "cell_type": "code",
   "execution_count": 28,
   "metadata": {},
   "outputs": [
    {
     "name": "stdout",
     "output_type": "stream",
     "text": [
      "The Median of Income (USD) in Traing Data :  2222.435\n"
     ]
    }
   ],
   "source": [
    "train_median=train_df['Income (USD)'].median()\n",
    "\n",
    "print(\"The Median of Income (USD) in Traing Data : \",train_median)\n",
    "\n",
    "train_df['Income (USD)']=train_df['Income (USD)'].fillna(train_median)\n"
   ]
  },
  {
   "cell_type": "markdown",
   "metadata": {},
   "source": [
    "The Current Loan Expenses (USD) attribute has the numerical values. So handling the error fill the median of Income attribute in that Missing values"
   ]
  },
  {
   "cell_type": "code",
   "execution_count": 29,
   "metadata": {},
   "outputs": [
    {
     "name": "stdout",
     "output_type": "stream",
     "text": [
      "The Median of Income (USD) in Traing Data :  375.205\n"
     ]
    }
   ],
   "source": [
    "train_median=train_df['Current Loan Expenses (USD)'].median()\n",
    "\n",
    "print(\"The Median of Income (USD) in Traing Data : \",train_median)\n",
    "\n",
    "train_df['Current Loan Expenses (USD)']=train_df['Current Loan Expenses (USD)'].fillna(train_median)"
   ]
  },
  {
   "cell_type": "markdown",
   "metadata": {},
   "source": [
    "The Dependents is the categorical features. So handling the error fill the Most occured in that Missing values"
   ]
  },
  {
   "cell_type": "code",
   "execution_count": 30,
   "metadata": {},
   "outputs": [
    {
     "name": "stdout",
     "output_type": "stream",
     "text": [
      "The Most Occurred Gender in Traing Data :  2.0\n"
     ]
    }
   ],
   "source": [
    "train_Dependents = train_df['Dependents'].mode()[0]\n",
    "\n",
    "print(\"The Most Occurred Gender in Traing Data : \",train_Dependents)"
   ]
  },
  {
   "cell_type": "markdown",
   "metadata": {},
   "source": [
    "The Credit Score attribute has the numerical values. So handling the error fill the median of Income attribute in that Missing values"
   ]
  },
  {
   "cell_type": "code",
   "execution_count": 31,
   "metadata": {},
   "outputs": [
    {
     "name": "stdout",
     "output_type": "stream",
     "text": [
      "The Median of Income (USD) in Traing Data :  739.82\n"
     ]
    }
   ],
   "source": [
    "train_median=train_df['Credit Score'].median()\n",
    "\n",
    "print(\"The Median of Income (USD) in Traing Data : \",train_median)\n",
    "\n",
    "train_df['Credit Score']=train_df['Credit Score'].fillna(train_median)"
   ]
  },
  {
   "cell_type": "code",
   "execution_count": 32,
   "metadata": {},
   "outputs": [
    {
     "name": "stdout",
     "output_type": "stream",
     "text": [
      "\n",
      "\n",
      "The Number of Missing Values in Each Attributes in Training Dataset\n",
      "\n",
      " Customer ID                       0\n",
      "Name                              0\n",
      "Gender                            0\n",
      "Age                               0\n",
      "Income (USD)                      0\n",
      "Income Stability               1683\n",
      "Profession                        0\n",
      "Type of Employment             7270\n",
      "Location                          0\n",
      "Loan Amount Request (USD)         0\n",
      "Current Loan Expenses (USD)       0\n",
      "Expense Type 1                    0\n",
      "Expense Type 2                    0\n",
      "Dependents                     2493\n",
      "Credit Score                      0\n",
      "No. of Defaults                   0\n",
      "Has Active Credit Card         1566\n",
      "Property ID                       0\n",
      "Property Age                   4850\n",
      "Property Type                     0\n",
      "Property Location               356\n",
      "Co-Applicant                      0\n",
      "Property Price                    0\n",
      "Loan Sanction Amount (USD)      340\n",
      "dtype: int64\n"
     ]
    }
   ],
   "source": [
    "print(\"\\n\\nThe Number of Missing Values in Each Attributes in Training Dataset\\n\\n\",train_df.isnull().sum())"
   ]
  },
  {
   "cell_type": "markdown",
   "metadata": {},
   "source": [
    "The Has Active Credit Card is the categorical features. So handling the error fill the Most occured in that Missing values"
   ]
  },
  {
   "cell_type": "code",
   "execution_count": 33,
   "metadata": {},
   "outputs": [
    {
     "name": "stdout",
     "output_type": "stream",
     "text": [
      "Shape of data_with_missing: (1566, 24)\n"
     ]
    },
    {
     "name": "stdout",
     "output_type": "stream",
     "text": [
      "['Unpossessed' 'Unpossessed' 'Active' ... 'Active' 'Active' 'Active']\n",
      "['Active' 'Inactive' 'Inactive' ... 'Inactive' 'Unpossessed' 'Inactive']\n"
     ]
    }
   ],
   "source": [
    "\n",
    "features_for_imputation = ['Dependents','Income (USD)', 'Loan Amount Request (USD)','Current Loan Expenses (USD)']\n",
    "\n",
    "target_feature = 'Has Active Credit Card'\n",
    "features_for_modeling = ['Dependents','Income (USD)', 'Loan Amount Request (USD)','Current Loan Expenses (USD)']\n",
    "\n",
    "data_with_missing = train_df[train_df[target_feature].isnull()]\n",
    "data_without_missing = train_df.dropna(subset=['Has Active Credit Card'])\n",
    "\n",
    "print(\"Shape of data_with_missing:\", data_with_missing.shape)\n",
    "\n",
    "classifier = RandomForestClassifier()\n",
    "classifier.fit(data_without_missing[features_for_modeling], data_without_missing[target_feature])\n",
    "\n",
    "predicted_values = classifier.predict(data_with_missing[features_for_modeling])\n",
    "print(predicted_values)\n",
    "probabilistic_imputation = np.random.choice(predicted_values, size=len(data_with_missing))\n",
    "print(probabilistic_imputation)\n",
    "\n",
    "train_df.loc[train_df[target_feature].isnull(), target_feature] = probabilistic_imputation"
   ]
  },
  {
   "cell_type": "code",
   "execution_count": 34,
   "metadata": {},
   "outputs": [
    {
     "name": "stdout",
     "output_type": "stream",
     "text": [
      "The Most Occurred Gender in Traing Data :  2.0\n"
     ]
    }
   ],
   "source": [
    "train_Dependents = train_df['Dependents'].mode()[0]\n",
    "train_df['Dependents'] = train_df['Dependents'].fillna(train_Dependents)\n",
    "\n",
    "print(\"The Most Occurred Gender in Traing Data : \",train_Dependents)"
   ]
  },
  {
   "cell_type": "code",
   "execution_count": 35,
   "metadata": {},
   "outputs": [
    {
     "name": "stdout",
     "output_type": "stream",
     "text": [
      "The Median of Loan Sanction Amount (USD) in Training Data:  35209.395000000004\n",
      "Minimum Loan Sanction Amount (USD): -999.0\n",
      "Maximum Loan Sanction Amount (USD): 481907.32\n",
      "(30000, 24)\n",
      "(21505, 24)\n"
     ]
    }
   ],
   "source": [
    "\n",
    "train_median = train_df['Loan Sanction Amount (USD)'].median()\n",
    "\n",
    "print(\"The Median of Loan Sanction Amount (USD) in Training Data: \", train_median)\n",
    "\n",
    "train_df['Loan Sanction Amount (USD)'] = train_df['Loan Sanction Amount (USD)'].fillna(train_median)\n",
    "\n",
    "print(\"Minimum Loan Sanction Amount (USD):\", train_df['Loan Sanction Amount (USD)'].min())\n",
    "print(\"Maximum Loan Sanction Amount (USD):\", train_df['Loan Sanction Amount (USD)'].max())\n",
    "\n",
    "print(train_df.shape)\n",
    "\n",
    "train_df = train_df[(train_df['Loan Sanction Amount (USD)'] > 0) & (train_df['Loan Sanction Amount (USD)'] < 200000)]\n",
    "\n",
    "print(train_df.shape)\n"
   ]
  },
  {
   "cell_type": "markdown",
   "metadata": {},
   "source": [
    "The Property Age and Loan Sanction Amount (USD) attribute has the numerical values. So handling the error fill the median of Income attribute in that Missing values"
   ]
  },
  {
   "cell_type": "markdown",
   "metadata": {},
   "source": [
    "The Income Stability is the categorical features. So handling the error fill the Most occured in that Missing values"
   ]
  },
  {
   "cell_type": "code",
   "execution_count": 36,
   "metadata": {},
   "outputs": [],
   "source": [
    "columns_to_normalize = ['Loan Amount Request (USD)', 'Income (USD)', 'Property Price']\n",
    "\n",
    "scaler = MinMaxScaler()\n",
    "\n",
    "X_sample_normalized = train_df.copy()\n",
    "X_sample_normalized[columns_to_normalize] = scaler.fit_transform(X_sample_normalized[columns_to_normalize])\n",
    "train_df=X_sample_normalized\n"
   ]
  },
  {
   "cell_type": "code",
   "execution_count": 37,
   "metadata": {},
   "outputs": [],
   "source": [
    "train_df = train_df.drop(columns=['Name', 'Customer ID','Income Stability','Profession','Type of Employment','Location','Expense Type 1','Expense Type 2','Property ID','Property Age','Property Type','Property Location',])"
   ]
  },
  {
   "cell_type": "markdown",
   "metadata": {},
   "source": [
    "Selecting The Featurs from Existing featurs"
   ]
  },
  {
   "cell_type": "code",
   "execution_count": 38,
   "metadata": {},
   "outputs": [
    {
     "name": "stdout",
     "output_type": "stream",
     "text": [
      "Index(['Gender', 'Age', 'Income (USD)', 'Loan Amount Request (USD)',\n",
      "       'Current Loan Expenses (USD)', 'Dependents', 'Credit Score',\n",
      "       'No. of Defaults', 'Has Active Credit Card', 'Co-Applicant',\n",
      "       'Property Price', 'Loan Sanction Amount (USD)'],\n",
      "      dtype='object')\n",
      "Gender                         0\n",
      "Age                            0\n",
      "Income (USD)                   0\n",
      "Loan Amount Request (USD)      0\n",
      "Current Loan Expenses (USD)    0\n",
      "Dependents                     0\n",
      "Credit Score                   0\n",
      "No. of Defaults                0\n",
      "Has Active Credit Card         0\n",
      "Co-Applicant                   0\n",
      "Property Price                 0\n",
      "Loan Sanction Amount (USD)     0\n",
      "dtype: int64\n"
     ]
    },
    {
     "name": "stderr",
     "output_type": "stream",
     "text": [
      "C:\\Users\\SSN\\AppData\\Local\\Temp\\ipykernel_16000\\227734137.py:1: FutureWarning: Downcasting behavior in `replace` is deprecated and will be removed in a future version. To retain the old behavior, explicitly call `result.infer_objects(copy=False)`. To opt-in to the future behavior, set `pd.set_option('future.no_silent_downcasting', True)`\n",
      "  train_df['Has Active Credit Card']=train_df['Has Active Credit Card'].replace({'Unpossessed':0,'Active':1,'Inactive':2})\n",
      "C:\\Users\\SSN\\AppData\\Local\\Temp\\ipykernel_16000\\227734137.py:2: FutureWarning: Downcasting behavior in `replace` is deprecated and will be removed in a future version. To retain the old behavior, explicitly call `result.infer_objects(copy=False)`. To opt-in to the future behavior, set `pd.set_option('future.no_silent_downcasting', True)`\n",
      "  train_df['Gender']=train_df['Gender'].replace({'M':0,'F':1})\n"
     ]
    }
   ],
   "source": [
    "train_df['Has Active Credit Card']=train_df['Has Active Credit Card'].replace({'Unpossessed':0,'Active':1,'Inactive':2})\n",
    "train_df['Gender']=train_df['Gender'].replace({'M':0,'F':1})\n",
    "\n",
    "print(train_df.columns)\n",
    "x_sample = train_df.drop(columns=['Loan Sanction Amount (USD)'])\n",
    "y_sample = train_df['Loan Sanction Amount (USD)']\n",
    "\n",
    "print(train_df.isnull().sum())\n"
   ]
  },
  {
   "cell_type": "markdown",
   "metadata": {},
   "source": [
    "Linear Regression Model"
   ]
  },
  {
   "cell_type": "code",
   "execution_count": 39,
   "metadata": {},
   "outputs": [
    {
     "name": "stdout",
     "output_type": "stream",
     "text": [
      "Mean Squared Error  :  75032135.84418862\n",
      "R-squared Score     :  0.954810477583435\n",
      "Mean Absolute Error :  3921.7303111004476\n",
      "the Accurracy       :  95.4810477583435\n"
     ]
    }
   ],
   "source": [
    "X_train, X_test, y_train, y_test = train_test_split(x_sample, y_sample, test_size=0.30, random_state=42)\n",
    "\n",
    "model = LinearRegression()\n",
    "\n",
    "model.fit(X_train, y_train)\n",
    "\n",
    "y_pred = model.predict(X_test)\n",
    "\n",
    "mse = mean_squared_error(y_test, y_pred)\n",
    "r2 = r2_score(y_test, y_pred)\n",
    "mae = mean_absolute_error(y_test, y_pred)\n",
    "\n",
    "print(\"Mean Squared Error  : \", mse)\n",
    "print(\"R-squared Score     : \", r2)\n",
    "print(\"Mean Absolute Error : \", mae)\n",
    "print(\"the Accurracy       : \", (r2*100))\n"
   ]
  },
  {
   "cell_type": "markdown",
   "metadata": {},
   "source": [
    "Represent the results using graphs"
   ]
  },
  {
   "cell_type": "code",
   "execution_count": 40,
   "metadata": {},
   "outputs": [
    {
     "data": {
      "image/png": "[encoded data removed]",
      "text/plain": [
       "<Figure size 640x480 with 1 Axes>"
      ]
     },
     "metadata": {},
     "output_type": "display_data"
    }
   ],
   "source": [
    "plt.scatter(y_test, y_pred, color='blue')\n",
    "plt.title('Actual vs Predicted Loan Sanction Amount')\n",
    "plt.xlabel('Actual Amount (USD)')\n",
    "plt.ylabel('Predicted Amount (USD)')\n",
    "plt.show()\n"
   ]
  }
 ],
 "metadata": {
  "kernelspec": {
   "display_name": "Python 3",
   "language": "python",
   "name": "python3"
  },
  "language_info": {
   "codemirror_mode": {
    "name": "ipython",
    "version": 3
   },
   "file_extension": ".py",
   "mimetype": "text/x-python",
   "name": "python",
   "nbconvert_exporter": "python",
   "pygments_lexer": "ipython3",
   "version": "3.11.0"
  },
  "orig_nbformat": 4
 },
 "nbformat": 4,
 "nbformat_minor": 2
}
